{
 "cells": [
  {
   "cell_type": "markdown",
   "metadata": {},
   "source": [
    "__Скоринг__\n",
    "\n",
    "__Данные__\n",
    "\n",
    "\n",
    "- В файле данные и результаты прогноза по первичным клиентам по  Москве.\n",
    "- На вкладке «Исх данные» находятся первоначальные данные и  данные  по результату выданных кредитов. \n",
    "- На вкладке «Модель»  находятся  преобразованные данные и результат расчета скоринга по  ним. _Для того, чтобы понять, в чем состоит различие и какое было сделано преобразование, сравним оба датасета_\n",
    "- А на  вкладке «Res» находится оценка того, как будет изменяться  одобрение и  доходность от выдачи кредитов, если мы выберем тот или  иной уровень  отсечения.\n",
    "-  Формула создавалась без данных Мегафона. Поэтому для целей  сравнения Вам предлагается посчитать вероятности также без этих  данных. _Для этого будем анализировать 2 датасета: с данными Мегафона и без_\n",
    "\n",
    "\n",
    "\n",
    "__Таргет__\n",
    "\n",
    "В качестве прогноза бралась вероятность  погашения кредита  с просрочкой до 15 дней, поэтому с ростом  вероятности улучшаются  показатели доходов. Данные в столбце res_npl_15 (описание будет ниже) и были приняты за таргет\n",
    "\n"
   ]
  },
  {
   "cell_type": "markdown",
   "metadata": {},
   "source": [
    "__Описание полей исходных данных:__\n",
    "- 1. al_ContractNumber – номер одобренного кредита \n",
    "- 2. al_amount –  сумма одобренного кредита \n",
    "- 3. al_issue_M – месяц выдачи одобренного  кредита \n",
    "- 4. psp_issue_rgn – регион выдачи паспорта клиента \n",
    "- 5. sex – пол  (1-мужчины, 2 – женщины) \n",
    "- 6. is_client_local – является ли клиент  местным по отношению к офису выдачи кредита (1-да, 0 – нет).Сравнивается регион выдачи паспорта клиента и регион офиса\n",
    "- 7. has_snils – предоставил ли клиент снилс при запросе кредита \n",
    "- 8.zaim_cards – наличие у клиента карты Займ-Экспресс на момент  запроса  кредита \n",
    "- 9. age – возраст по группам (1-до 25 лет, 2 – 25-35 лет, 3- 35 и  более лет)                   \n",
    "- 10. responsecode – код ответа от БКИ по наличию  данных  о  кредитах у клиента на момент заявки. (0 – нет данных о  клиенте  вообще  в БКИ, 1 – есть данные, 3 – есть данные о клиенте, но  нет  данных о  кредитах, 98 – таких данных нет, но это всего одна строка такая)\n",
    "- 11.  was_garant – был ли клиент гарантом по займу \n",
    "- 12. is_pboul – является  ли  клиент ИП \n",
    "- 13. has_foreign_currency_credits – были ли у клиента  займы в  иностранной валюте \n",
    "- 14. court_counts – количесвто судов по  клиенту на  момент запроса кредита \n",
    "- 15. official_count – кол-во  оспаривания  судебных решений \n",
    "- 16. cred_line_state – статус кредитной  линии  \n",
    "- 17.  potreb_tot – наличие в истории потребительских кредитов (0 – нет, 1 –    есть)\n",
    "- 18. potreb_closed_tot – количество закрытых потребительских  кредитов  клиента на момент запроса кредита \n",
    "- 19. potreb_active_tot –  количество  открытых потребительских кредитов на момент запроса \n",
    "- 20.potreb_other_states_tot – кол-во потребительских кредитов с  другими  статусами на момент запроса\n",
    "- 21. pdl_tot – наличие потреб  кредитов на  момент займа                                              \n",
    "- 22. pdl_closed_tot – кол-во закрытых pdl –  займов\n",
    "- 23. pdl_active_tot – кол-во активных pdl – займов\n",
    "- 24. pdl_own_share –  доля  pdl – займов клиента в нашей компании\n",
    "- 25. pdl_delay5_cnt,  pdl_delay30_cnt и т.д. – кол-во закрытых просрочек клиента по pdl-  займам до 5, 30 и более дней\n",
    "- 26. pdl_prolong_cnt – кол-во пролонгаций pdl- займов\n",
    "- 27. avg_pdl_full_cost – средняя стоимость pdl-кредита,  который брал клиент (1-это до 1% в день, 2 – более 1%)\n",
    "- 28. avg_pdl_amount – средняя сумма pdl-займа клиента на момент  запроса\n",
    "- 29. pdl_delay5_avg – среднее кол-во закрытых просрочек по pdl-  займам\n",
    "- 30. al_LIFETIME_BIN, al_BLOCK_DUR, al_CIRCLE, al_ALL_CLC,  al_PAY_MAX –  бины Мегафона (onefactor)\n",
    "- 31. al_SCORE2 – скоринговый  балл Мегафона (бектест)\n",
    "\n",
    "Результирующие данные (их не надо использовать в  качестве  предсказательных признаков), они используются для  построения  таблицы с результатами:\n",
    "- 32. res_npl_15 – это результат (бинарная функция). Оплатил ли  клиент  займ полностью до 15ти дней просрочки   \n",
    "- 33. res_npl_90 – оплатил  ли он  кредит до 90 дней просрочки\n",
    "- 34. res_payout_principal_inTime –  сумма  оплаты тела кредита до просрочки (и аналогичные поля с  разными  сроками просрочки) \n",
    "- 35. res_payout_tot_inTime – общая сумма  платежей  клиента до просрочки, включая тело и проценты   \n",
    "- 36.  fl_cnt_during_3M (12М) – количество кредитов, взятых клиентом, после выплаты по  одобренному кредиту в течении 3х (12ти) месяцев с момента выплаты  кредита (используем для оцени возвращения клиента).\n",
    "- 37. is_test – является ли выборка тестовой (0 – обучающая выборка, 1  –  тестовая выборка).  "
   ]
  },
  {
   "cell_type": "markdown",
   "metadata": {},
   "source": [
    "## Чтение данных и импорт нужных библиотек:"
   ]
  },
  {
   "cell_type": "code",
   "execution_count": 133,
   "metadata": {},
   "outputs": [],
   "source": [
    "import pandas as pd\n",
    "import numpy as np\n",
    "\n",
    "pd.set_option('display.max_rows', 50)  # показывать больше строк\n",
    "pd.set_option('display.max_columns', 50)  # показывать больше колонок\n",
    "\n",
    "import matplotlib.pyplot as plt\n",
    "%matplotlib inline\n",
    "import seaborn as sns\n",
    "\n",
    "from sklearn.model_selection import cross_val_score\n",
    "from xgboost import XGBClassifier\n",
    " \n",
    "from hyperopt import hp, tpe\n",
    "from hyperopt.fmin import fmin\n",
    "from sklearn.model_selection import train_test_split\n",
    "from sklearn.metrics import accuracy_score\n",
    "from sklearn.metrics import roc_auc_score\n",
    "from xgboost import plot_importance\n",
    "from matplotlib import pyplot\n",
    "from sklearn.model_selection import GridSearchCV\n",
    "from sklearn.model_selection import StratifiedKFold\n",
    "\n",
    "from numpy import sort\n",
    "from sklearn.feature_selection import SelectFromModel"
   ]
  },
  {
   "cell_type": "code",
   "execution_count": 134,
   "metadata": {},
   "outputs": [],
   "source": [
    "init_data = pd.read_excel('Первичники по Москве (для теста).xlsx', sheet_name='Исх данные', skiprows=1) "
   ]
  },
  {
   "cell_type": "code",
   "execution_count": 135,
   "metadata": {},
   "outputs": [],
   "source": [
    "upd_data = pd.read_excel('Первичники по Москве (для теста).xlsx', sheet_name='Модель', skiprows=1) "
   ]
  },
  {
   "cell_type": "markdown",
   "metadata": {},
   "source": [
    "## EDA"
   ]
  },
  {
   "cell_type": "markdown",
   "metadata": {},
   "source": [
    "Рассмотрим, какие типы данных у столбцов и сколько пропусков:"
   ]
  },
  {
   "cell_type": "code",
   "execution_count": 101,
   "metadata": {},
   "outputs": [
    {
     "data": {
      "text/html": [
       "<div>\n",
       "<style scoped>\n",
       "    .dataframe tbody tr th:only-of-type {\n",
       "        vertical-align: middle;\n",
       "    }\n",
       "\n",
       "    .dataframe tbody tr th {\n",
       "        vertical-align: top;\n",
       "    }\n",
       "\n",
       "    .dataframe thead th {\n",
       "        text-align: right;\n",
       "    }\n",
       "</style>\n",
       "<table border=\"1\" class=\"dataframe\">\n",
       "  <thead>\n",
       "    <tr style=\"text-align: right;\">\n",
       "      <th></th>\n",
       "      <th>al_ContractNumber</th>\n",
       "      <th>al_amount</th>\n",
       "      <th>al_issue_M</th>\n",
       "      <th>psp_issue_rgn</th>\n",
       "      <th>sex</th>\n",
       "      <th>is_client_local</th>\n",
       "      <th>has_snils</th>\n",
       "      <th>zaim_cards</th>\n",
       "      <th>age</th>\n",
       "      <th>responsecode</th>\n",
       "      <th>was_garant</th>\n",
       "      <th>is_pboul</th>\n",
       "      <th>has_foreign_currency_credits</th>\n",
       "      <th>court_counts</th>\n",
       "      <th>official_count</th>\n",
       "      <th>has_resold_credits</th>\n",
       "      <th>cred_line_state</th>\n",
       "      <th>potreb_tot</th>\n",
       "      <th>potreb_closed_tot</th>\n",
       "      <th>potreb_active_tot</th>\n",
       "      <th>potreb_other_states_tot</th>\n",
       "      <th>pdl_tot</th>\n",
       "      <th>pdl_closed_tot</th>\n",
       "      <th>pdl_active_tot</th>\n",
       "      <th>pdl_other_states_tot</th>\n",
       "      <th>...</th>\n",
       "      <th>al_LIFETIME_BIN</th>\n",
       "      <th>al_BLOCK_DUR</th>\n",
       "      <th>al_CIRCLE</th>\n",
       "      <th>al_ALL_CLC</th>\n",
       "      <th>al_PAY_MAX</th>\n",
       "      <th>al_SCORE2</th>\n",
       "      <th>res_npl_15</th>\n",
       "      <th>res_npl_90</th>\n",
       "      <th>res_payout_principal_inTime</th>\n",
       "      <th>res_payout_principal_delay15</th>\n",
       "      <th>res_payout_principal_delay30</th>\n",
       "      <th>res_payout_principal_delay45</th>\n",
       "      <th>res_payout_principal_delay60</th>\n",
       "      <th>res_payout_principal_delay90</th>\n",
       "      <th>res_payout_tot_inTime</th>\n",
       "      <th>res_payout_tot_delay15</th>\n",
       "      <th>res_payout_tot_delay30</th>\n",
       "      <th>res_payout_tot_delay45</th>\n",
       "      <th>res_payout_tot_delay60</th>\n",
       "      <th>res_payout_tot_delay90</th>\n",
       "      <th>fl_cnt</th>\n",
       "      <th>fl_cnt_during_3M</th>\n",
       "      <th>fl_cnt_during_12M</th>\n",
       "      <th>fl_requests_cnt_12M</th>\n",
       "      <th>is_test</th>\n",
       "    </tr>\n",
       "  </thead>\n",
       "  <tbody>\n",
       "    <tr>\n",
       "      <th>0</th>\n",
       "      <td>882-001-17</td>\n",
       "      <td>3000</td>\n",
       "      <td>1</td>\n",
       "      <td>30</td>\n",
       "      <td>1</td>\n",
       "      <td>0</td>\n",
       "      <td>0</td>\n",
       "      <td>0</td>\n",
       "      <td>2</td>\n",
       "      <td>1</td>\n",
       "      <td>0</td>\n",
       "      <td>0</td>\n",
       "      <td>0</td>\n",
       "      <td>0</td>\n",
       "      <td>0</td>\n",
       "      <td>0</td>\n",
       "      <td>2</td>\n",
       "      <td>1</td>\n",
       "      <td>1</td>\n",
       "      <td>0</td>\n",
       "      <td>0</td>\n",
       "      <td>0</td>\n",
       "      <td>0</td>\n",
       "      <td>0</td>\n",
       "      <td>0</td>\n",
       "      <td>...</td>\n",
       "      <td>1</td>\n",
       "      <td>0</td>\n",
       "      <td>1</td>\n",
       "      <td>3</td>\n",
       "      <td>3</td>\n",
       "      <td>0.209782</td>\n",
       "      <td>0</td>\n",
       "      <td>1</td>\n",
       "      <td>0.0</td>\n",
       "      <td>280.0</td>\n",
       "      <td>3000.0</td>\n",
       "      <td>3000.0</td>\n",
       "      <td>3000.0</td>\n",
       "      <td>3000.0</td>\n",
       "      <td>0.0</td>\n",
       "      <td>1000.0</td>\n",
       "      <td>4590.4</td>\n",
       "      <td>4590.4</td>\n",
       "      <td>4590.4</td>\n",
       "      <td>4590.4</td>\n",
       "      <td>1</td>\n",
       "      <td>1</td>\n",
       "      <td>1</td>\n",
       "      <td>1</td>\n",
       "      <td>0</td>\n",
       "    </tr>\n",
       "    <tr>\n",
       "      <th>1</th>\n",
       "      <td>1776-001-17</td>\n",
       "      <td>5000</td>\n",
       "      <td>1</td>\n",
       "      <td>55</td>\n",
       "      <td>1</td>\n",
       "      <td>0</td>\n",
       "      <td>1</td>\n",
       "      <td>0</td>\n",
       "      <td>2</td>\n",
       "      <td>1</td>\n",
       "      <td>0</td>\n",
       "      <td>0</td>\n",
       "      <td>0</td>\n",
       "      <td>0</td>\n",
       "      <td>0</td>\n",
       "      <td>0</td>\n",
       "      <td>2</td>\n",
       "      <td>1</td>\n",
       "      <td>2</td>\n",
       "      <td>0</td>\n",
       "      <td>0</td>\n",
       "      <td>1</td>\n",
       "      <td>12</td>\n",
       "      <td>1</td>\n",
       "      <td>4</td>\n",
       "      <td>...</td>\n",
       "      <td>1</td>\n",
       "      <td>0</td>\n",
       "      <td>5</td>\n",
       "      <td>5</td>\n",
       "      <td>5</td>\n",
       "      <td>0.253080</td>\n",
       "      <td>1</td>\n",
       "      <td>1</td>\n",
       "      <td>5000.0</td>\n",
       "      <td>5000.0</td>\n",
       "      <td>5000.0</td>\n",
       "      <td>5000.0</td>\n",
       "      <td>5000.0</td>\n",
       "      <td>5000.0</td>\n",
       "      <td>6500.0</td>\n",
       "      <td>6500.0</td>\n",
       "      <td>6500.0</td>\n",
       "      <td>6500.0</td>\n",
       "      <td>6500.0</td>\n",
       "      <td>6500.0</td>\n",
       "      <td>1</td>\n",
       "      <td>1</td>\n",
       "      <td>1</td>\n",
       "      <td>1</td>\n",
       "      <td>0</td>\n",
       "    </tr>\n",
       "    <tr>\n",
       "      <th>2</th>\n",
       "      <td>2234-001-17</td>\n",
       "      <td>5000</td>\n",
       "      <td>1</td>\n",
       "      <td>32</td>\n",
       "      <td>1</td>\n",
       "      <td>0</td>\n",
       "      <td>1</td>\n",
       "      <td>0</td>\n",
       "      <td>3</td>\n",
       "      <td>1</td>\n",
       "      <td>0</td>\n",
       "      <td>0</td>\n",
       "      <td>0</td>\n",
       "      <td>0</td>\n",
       "      <td>0</td>\n",
       "      <td>0</td>\n",
       "      <td>2</td>\n",
       "      <td>1</td>\n",
       "      <td>1</td>\n",
       "      <td>0</td>\n",
       "      <td>0</td>\n",
       "      <td>1</td>\n",
       "      <td>1</td>\n",
       "      <td>0</td>\n",
       "      <td>0</td>\n",
       "      <td>...</td>\n",
       "      <td>2</td>\n",
       "      <td>0</td>\n",
       "      <td>0</td>\n",
       "      <td>2</td>\n",
       "      <td>3</td>\n",
       "      <td>0.213614</td>\n",
       "      <td>0</td>\n",
       "      <td>0</td>\n",
       "      <td>0.0</td>\n",
       "      <td>0.0</td>\n",
       "      <td>0.0</td>\n",
       "      <td>0.0</td>\n",
       "      <td>0.0</td>\n",
       "      <td>0.0</td>\n",
       "      <td>0.0</td>\n",
       "      <td>0.0</td>\n",
       "      <td>0.0</td>\n",
       "      <td>0.0</td>\n",
       "      <td>0.0</td>\n",
       "      <td>0.0</td>\n",
       "      <td>0</td>\n",
       "      <td>0</td>\n",
       "      <td>0</td>\n",
       "      <td>0</td>\n",
       "      <td>0</td>\n",
       "    </tr>\n",
       "    <tr>\n",
       "      <th>3</th>\n",
       "      <td>2649-001-17</td>\n",
       "      <td>5000</td>\n",
       "      <td>1</td>\n",
       "      <td>77</td>\n",
       "      <td>2</td>\n",
       "      <td>1</td>\n",
       "      <td>1</td>\n",
       "      <td>0</td>\n",
       "      <td>3</td>\n",
       "      <td>0</td>\n",
       "      <td>0</td>\n",
       "      <td>0</td>\n",
       "      <td>0</td>\n",
       "      <td>0</td>\n",
       "      <td>0</td>\n",
       "      <td>0</td>\n",
       "      <td>2</td>\n",
       "      <td>0</td>\n",
       "      <td>0</td>\n",
       "      <td>0</td>\n",
       "      <td>0</td>\n",
       "      <td>0</td>\n",
       "      <td>0</td>\n",
       "      <td>0</td>\n",
       "      <td>0</td>\n",
       "      <td>...</td>\n",
       "      <td>5</td>\n",
       "      <td>2</td>\n",
       "      <td>5</td>\n",
       "      <td>3</td>\n",
       "      <td>3</td>\n",
       "      <td>0.121961</td>\n",
       "      <td>1</td>\n",
       "      <td>1</td>\n",
       "      <td>0.0</td>\n",
       "      <td>5000.0</td>\n",
       "      <td>5000.0</td>\n",
       "      <td>5000.0</td>\n",
       "      <td>5000.0</td>\n",
       "      <td>5000.0</td>\n",
       "      <td>1500.0</td>\n",
       "      <td>8000.0</td>\n",
       "      <td>8000.0</td>\n",
       "      <td>8000.0</td>\n",
       "      <td>8000.0</td>\n",
       "      <td>8000.0</td>\n",
       "      <td>2</td>\n",
       "      <td>1</td>\n",
       "      <td>2</td>\n",
       "      <td>3</td>\n",
       "      <td>0</td>\n",
       "    </tr>\n",
       "    <tr>\n",
       "      <th>4</th>\n",
       "      <td>2320-001-17</td>\n",
       "      <td>3000</td>\n",
       "      <td>1</td>\n",
       "      <td>77</td>\n",
       "      <td>2</td>\n",
       "      <td>1</td>\n",
       "      <td>1</td>\n",
       "      <td>0</td>\n",
       "      <td>3</td>\n",
       "      <td>0</td>\n",
       "      <td>0</td>\n",
       "      <td>0</td>\n",
       "      <td>0</td>\n",
       "      <td>0</td>\n",
       "      <td>0</td>\n",
       "      <td>0</td>\n",
       "      <td>2</td>\n",
       "      <td>0</td>\n",
       "      <td>0</td>\n",
       "      <td>0</td>\n",
       "      <td>0</td>\n",
       "      <td>0</td>\n",
       "      <td>0</td>\n",
       "      <td>0</td>\n",
       "      <td>0</td>\n",
       "      <td>...</td>\n",
       "      <td>0</td>\n",
       "      <td>0</td>\n",
       "      <td>0</td>\n",
       "      <td>0</td>\n",
       "      <td>0</td>\n",
       "      <td>0.171182</td>\n",
       "      <td>1</td>\n",
       "      <td>1</td>\n",
       "      <td>0.0</td>\n",
       "      <td>3000.0</td>\n",
       "      <td>3000.0</td>\n",
       "      <td>3000.0</td>\n",
       "      <td>3000.0</td>\n",
       "      <td>3000.0</td>\n",
       "      <td>0.0</td>\n",
       "      <td>3960.0</td>\n",
       "      <td>3960.0</td>\n",
       "      <td>3960.0</td>\n",
       "      <td>3960.0</td>\n",
       "      <td>3960.0</td>\n",
       "      <td>1</td>\n",
       "      <td>1</td>\n",
       "      <td>1</td>\n",
       "      <td>1</td>\n",
       "      <td>0</td>\n",
       "    </tr>\n",
       "  </tbody>\n",
       "</table>\n",
       "<p>5 rows × 65 columns</p>\n",
       "</div>"
      ],
      "text/plain": [
       "  al_ContractNumber  al_amount  al_issue_M  psp_issue_rgn  sex  \\\n",
       "0        882-001-17       3000           1             30    1   \n",
       "1       1776-001-17       5000           1             55    1   \n",
       "2       2234-001-17       5000           1             32    1   \n",
       "3       2649-001-17       5000           1             77    2   \n",
       "4       2320-001-17       3000           1             77    2   \n",
       "\n",
       "   is_client_local  has_snils  zaim_cards  age  responsecode  was_garant  \\\n",
       "0                0          0           0    2             1           0   \n",
       "1                0          1           0    2             1           0   \n",
       "2                0          1           0    3             1           0   \n",
       "3                1          1           0    3             0           0   \n",
       "4                1          1           0    3             0           0   \n",
       "\n",
       "   is_pboul  has_foreign_currency_credits  court_counts  official_count  \\\n",
       "0         0                             0             0               0   \n",
       "1         0                             0             0               0   \n",
       "2         0                             0             0               0   \n",
       "3         0                             0             0               0   \n",
       "4         0                             0             0               0   \n",
       "\n",
       "   has_resold_credits  cred_line_state  potreb_tot  potreb_closed_tot  \\\n",
       "0                   0                2           1                  1   \n",
       "1                   0                2           1                  2   \n",
       "2                   0                2           1                  1   \n",
       "3                   0                2           0                  0   \n",
       "4                   0                2           0                  0   \n",
       "\n",
       "   potreb_active_tot  potreb_other_states_tot  pdl_tot  pdl_closed_tot  \\\n",
       "0                  0                        0        0               0   \n",
       "1                  0                        0        1              12   \n",
       "2                  0                        0        1               1   \n",
       "3                  0                        0        0               0   \n",
       "4                  0                        0        0               0   \n",
       "\n",
       "   pdl_active_tot  pdl_other_states_tot  ...  al_LIFETIME_BIN  al_BLOCK_DUR  \\\n",
       "0               0                     0  ...                1             0   \n",
       "1               1                     4  ...                1             0   \n",
       "2               0                     0  ...                2             0   \n",
       "3               0                     0  ...                5             2   \n",
       "4               0                     0  ...                0             0   \n",
       "\n",
       "   al_CIRCLE  al_ALL_CLC  al_PAY_MAX  al_SCORE2  res_npl_15  res_npl_90  \\\n",
       "0          1           3           3   0.209782           0           1   \n",
       "1          5           5           5   0.253080           1           1   \n",
       "2          0           2           3   0.213614           0           0   \n",
       "3          5           3           3   0.121961           1           1   \n",
       "4          0           0           0   0.171182           1           1   \n",
       "\n",
       "   res_payout_principal_inTime  res_payout_principal_delay15  \\\n",
       "0                          0.0                         280.0   \n",
       "1                       5000.0                        5000.0   \n",
       "2                          0.0                           0.0   \n",
       "3                          0.0                        5000.0   \n",
       "4                          0.0                        3000.0   \n",
       "\n",
       "   res_payout_principal_delay30  res_payout_principal_delay45  \\\n",
       "0                        3000.0                        3000.0   \n",
       "1                        5000.0                        5000.0   \n",
       "2                           0.0                           0.0   \n",
       "3                        5000.0                        5000.0   \n",
       "4                        3000.0                        3000.0   \n",
       "\n",
       "   res_payout_principal_delay60  res_payout_principal_delay90  \\\n",
       "0                        3000.0                        3000.0   \n",
       "1                        5000.0                        5000.0   \n",
       "2                           0.0                           0.0   \n",
       "3                        5000.0                        5000.0   \n",
       "4                        3000.0                        3000.0   \n",
       "\n",
       "   res_payout_tot_inTime  res_payout_tot_delay15  res_payout_tot_delay30  \\\n",
       "0                    0.0                  1000.0                  4590.4   \n",
       "1                 6500.0                  6500.0                  6500.0   \n",
       "2                    0.0                     0.0                     0.0   \n",
       "3                 1500.0                  8000.0                  8000.0   \n",
       "4                    0.0                  3960.0                  3960.0   \n",
       "\n",
       "   res_payout_tot_delay45  res_payout_tot_delay60  res_payout_tot_delay90  \\\n",
       "0                  4590.4                  4590.4                  4590.4   \n",
       "1                  6500.0                  6500.0                  6500.0   \n",
       "2                     0.0                     0.0                     0.0   \n",
       "3                  8000.0                  8000.0                  8000.0   \n",
       "4                  3960.0                  3960.0                  3960.0   \n",
       "\n",
       "   fl_cnt  fl_cnt_during_3M  fl_cnt_during_12M  fl_requests_cnt_12M  is_test  \n",
       "0       1                 1                  1                    1        0  \n",
       "1       1                 1                  1                    1        0  \n",
       "2       0                 0                  0                    0        0  \n",
       "3       2                 1                  2                    3        0  \n",
       "4       1                 1                  1                    1        0  \n",
       "\n",
       "[5 rows x 65 columns]"
      ]
     },
     "metadata": {},
     "output_type": "display_data"
    },
    {
     "name": "stdout",
     "output_type": "stream",
     "text": [
      "<class 'pandas.core.frame.DataFrame'>\n",
      "RangeIndex: 9986 entries, 0 to 9985\n",
      "Data columns (total 65 columns):\n",
      " #   Column                        Non-Null Count  Dtype  \n",
      "---  ------                        --------------  -----  \n",
      " 0   al_ContractNumber             9986 non-null   object \n",
      " 1   al_amount                     9986 non-null   int64  \n",
      " 2   al_issue_M                    9986 non-null   int64  \n",
      " 3   psp_issue_rgn                 9986 non-null   int64  \n",
      " 4   sex                           9986 non-null   int64  \n",
      " 5   is_client_local               9986 non-null   int64  \n",
      " 6   has_snils                     9986 non-null   int64  \n",
      " 7   zaim_cards                    9986 non-null   int64  \n",
      " 8   age                           9986 non-null   int64  \n",
      " 9   responsecode                  9986 non-null   int64  \n",
      " 10  was_garant                    9986 non-null   int64  \n",
      " 11  is_pboul                      9986 non-null   int64  \n",
      " 12  has_foreign_currency_credits  9986 non-null   int64  \n",
      " 13  court_counts                  9986 non-null   int64  \n",
      " 14  official_count                9986 non-null   int64  \n",
      " 15  has_resold_credits            9986 non-null   int64  \n",
      " 16  cred_line_state               9986 non-null   int64  \n",
      " 17  potreb_tot                    9986 non-null   int64  \n",
      " 18  potreb_closed_tot             9986 non-null   int64  \n",
      " 19  potreb_active_tot             9986 non-null   int64  \n",
      " 20  potreb_other_states_tot       9986 non-null   int64  \n",
      " 21  pdl_tot                       9986 non-null   int64  \n",
      " 22  pdl_closed_tot                9986 non-null   int64  \n",
      " 23  pdl_active_tot                9986 non-null   int64  \n",
      " 24  pdl_other_states_tot          9986 non-null   int64  \n",
      " 25  pdl_own_share                 9986 non-null   int64  \n",
      " 26  pdl_delay5_cnt                9986 non-null   int64  \n",
      " 27  pdl_delay30_cnt               9986 non-null   int64  \n",
      " 28  pdl_delay60_cnt               9986 non-null   int64  \n",
      " 29  pdl_delay90_cnt               9986 non-null   int64  \n",
      " 30  pdl_delay_more_cnt            9986 non-null   int64  \n",
      " 31  pdl_prolong_cnt               9986 non-null   int64  \n",
      " 32  avg_payout_period_pdl         9986 non-null   int64  \n",
      " 33  avg_pdl_full_cost             9986 non-null   int64  \n",
      " 34  avg_pdl_amount                9986 non-null   float64\n",
      " 35  pdl_delay5_avg                9986 non-null   int64  \n",
      " 36  pdl_delay30_avg               9986 non-null   int64  \n",
      " 37  pdl_delay60_avg               9986 non-null   int64  \n",
      " 38  pdl_delay90_avg               9986 non-null   int64  \n",
      " 39  pdl_delay_more_avg            9986 non-null   int64  \n",
      " 40  al_LIFETIME_BIN               9986 non-null   int64  \n",
      " 41  al_BLOCK_DUR                  9986 non-null   int64  \n",
      " 42  al_CIRCLE                     9986 non-null   int64  \n",
      " 43  al_ALL_CLC                    9986 non-null   int64  \n",
      " 44  al_PAY_MAX                    9986 non-null   int64  \n",
      " 45  al_SCORE2                     9986 non-null   float64\n",
      " 46  res_npl_15                    9986 non-null   int64  \n",
      " 47  res_npl_90                    9986 non-null   int64  \n",
      " 48  res_payout_principal_inTime   9986 non-null   float64\n",
      " 49  res_payout_principal_delay15  9986 non-null   float64\n",
      " 50  res_payout_principal_delay30  9986 non-null   float64\n",
      " 51  res_payout_principal_delay45  9986 non-null   float64\n",
      " 52  res_payout_principal_delay60  9986 non-null   float64\n",
      " 53  res_payout_principal_delay90  9986 non-null   float64\n",
      " 54  res_payout_tot_inTime         9986 non-null   float64\n",
      " 55  res_payout_tot_delay15        9986 non-null   float64\n",
      " 56  res_payout_tot_delay30        9986 non-null   float64\n",
      " 57  res_payout_tot_delay45        9986 non-null   float64\n",
      " 58  res_payout_tot_delay60        9986 non-null   float64\n",
      " 59  res_payout_tot_delay90        9986 non-null   float64\n",
      " 60  fl_cnt                        9986 non-null   int64  \n",
      " 61  fl_cnt_during_3M              9986 non-null   int64  \n",
      " 62  fl_cnt_during_12M             9986 non-null   int64  \n",
      " 63  fl_requests_cnt_12M           9986 non-null   int64  \n",
      " 64  is_test                       9986 non-null   int64  \n",
      "dtypes: float64(14), int64(50), object(1)\n",
      "memory usage: 5.0+ MB\n"
     ]
    }
   ],
   "source": [
    "display(init_data.head()) \n",
    "init_data.info() "
   ]
  },
  {
   "cell_type": "code",
   "execution_count": 102,
   "metadata": {
    "scrolled": true
   },
   "outputs": [
    {
     "data": {
      "text/html": [
       "<div>\n",
       "<style scoped>\n",
       "    .dataframe tbody tr th:only-of-type {\n",
       "        vertical-align: middle;\n",
       "    }\n",
       "\n",
       "    .dataframe tbody tr th {\n",
       "        vertical-align: top;\n",
       "    }\n",
       "\n",
       "    .dataframe thead th {\n",
       "        text-align: right;\n",
       "    }\n",
       "</style>\n",
       "<table border=\"1\" class=\"dataframe\">\n",
       "  <thead>\n",
       "    <tr style=\"text-align: right;\">\n",
       "      <th></th>\n",
       "      <th>al_ContractNumber</th>\n",
       "      <th>al_amount</th>\n",
       "      <th>al_issue_M_group</th>\n",
       "      <th>psp_issue_rgn_group</th>\n",
       "      <th>sex</th>\n",
       "      <th>is_client_local</th>\n",
       "      <th>has_snils</th>\n",
       "      <th>zaim_cards</th>\n",
       "      <th>age</th>\n",
       "      <th>responsecode</th>\n",
       "      <th>has_foreign_currency_credits</th>\n",
       "      <th>court_counts</th>\n",
       "      <th>official_count</th>\n",
       "      <th>has_resold_credits</th>\n",
       "      <th>cred_line_state</th>\n",
       "      <th>potreb_tot</th>\n",
       "      <th>potreb_active_tot_group</th>\n",
       "      <th>potreb_other_states_tot</th>\n",
       "      <th>pdl_tot</th>\n",
       "      <th>pdl_closed_tot</th>\n",
       "      <th>pdl_active_to_total_group</th>\n",
       "      <th>pdl_delay5_cnt</th>\n",
       "      <th>pdl_delay30_cnt</th>\n",
       "      <th>pdl_delay60_cnt</th>\n",
       "      <th>pdl_delay90_cnt</th>\n",
       "      <th>...</th>\n",
       "      <th>pdl_delay_more_avg</th>\n",
       "      <th>al_LIFETIME_BIN</th>\n",
       "      <th>al_BLOCK_DUR</th>\n",
       "      <th>al_PAY_MAX</th>\n",
       "      <th>al_SCORE2</th>\n",
       "      <th>res_npl_15</th>\n",
       "      <th>res_npl_90</th>\n",
       "      <th>res_payout_principal_inTime</th>\n",
       "      <th>res_payout_principal_delay15</th>\n",
       "      <th>res_payout_principal_delay30</th>\n",
       "      <th>res_payout_principal_delay45</th>\n",
       "      <th>res_payout_principal_delay60</th>\n",
       "      <th>res_payout_principal_delay90</th>\n",
       "      <th>res_payout_tot_inTime</th>\n",
       "      <th>res_payout_tot_delay15</th>\n",
       "      <th>res_payout_tot_delay30</th>\n",
       "      <th>res_payout_tot_delay45</th>\n",
       "      <th>res_payout_tot_delay60</th>\n",
       "      <th>res_payout_tot_delay90</th>\n",
       "      <th>fl_cnt</th>\n",
       "      <th>fl_cnt_during_3M</th>\n",
       "      <th>fl_cnt_during_12M</th>\n",
       "      <th>fl_requests_cnt_12M</th>\n",
       "      <th>is_test</th>\n",
       "      <th>Без МФ</th>\n",
       "    </tr>\n",
       "  </thead>\n",
       "  <tbody>\n",
       "    <tr>\n",
       "      <th>0</th>\n",
       "      <td>882-001-17</td>\n",
       "      <td>3000</td>\n",
       "      <td>1</td>\n",
       "      <td>2</td>\n",
       "      <td>1</td>\n",
       "      <td>0</td>\n",
       "      <td>0</td>\n",
       "      <td>0</td>\n",
       "      <td>2</td>\n",
       "      <td>1</td>\n",
       "      <td>0</td>\n",
       "      <td>0</td>\n",
       "      <td>0</td>\n",
       "      <td>0</td>\n",
       "      <td>2</td>\n",
       "      <td>1</td>\n",
       "      <td>3</td>\n",
       "      <td>0</td>\n",
       "      <td>0</td>\n",
       "      <td>0</td>\n",
       "      <td>2</td>\n",
       "      <td>0</td>\n",
       "      <td>0</td>\n",
       "      <td>0</td>\n",
       "      <td>0</td>\n",
       "      <td>...</td>\n",
       "      <td>0</td>\n",
       "      <td>1</td>\n",
       "      <td>1</td>\n",
       "      <td>3</td>\n",
       "      <td>1</td>\n",
       "      <td>0</td>\n",
       "      <td>1</td>\n",
       "      <td>0.0</td>\n",
       "      <td>280.0</td>\n",
       "      <td>3000.0</td>\n",
       "      <td>3000.0</td>\n",
       "      <td>3000.0</td>\n",
       "      <td>3000.0</td>\n",
       "      <td>0.0</td>\n",
       "      <td>1000.0</td>\n",
       "      <td>4590.4</td>\n",
       "      <td>4590.4</td>\n",
       "      <td>4590.4</td>\n",
       "      <td>4590.4</td>\n",
       "      <td>1</td>\n",
       "      <td>1</td>\n",
       "      <td>1</td>\n",
       "      <td>1</td>\n",
       "      <td>0</td>\n",
       "      <td>0.255110</td>\n",
       "    </tr>\n",
       "    <tr>\n",
       "      <th>1</th>\n",
       "      <td>1776-001-17</td>\n",
       "      <td>5000</td>\n",
       "      <td>1</td>\n",
       "      <td>1</td>\n",
       "      <td>1</td>\n",
       "      <td>0</td>\n",
       "      <td>1</td>\n",
       "      <td>0</td>\n",
       "      <td>2</td>\n",
       "      <td>1</td>\n",
       "      <td>0</td>\n",
       "      <td>0</td>\n",
       "      <td>0</td>\n",
       "      <td>0</td>\n",
       "      <td>2</td>\n",
       "      <td>1</td>\n",
       "      <td>3</td>\n",
       "      <td>0</td>\n",
       "      <td>1</td>\n",
       "      <td>1</td>\n",
       "      <td>1</td>\n",
       "      <td>0</td>\n",
       "      <td>1</td>\n",
       "      <td>0</td>\n",
       "      <td>1</td>\n",
       "      <td>...</td>\n",
       "      <td>0</td>\n",
       "      <td>1</td>\n",
       "      <td>1</td>\n",
       "      <td>5</td>\n",
       "      <td>1</td>\n",
       "      <td>1</td>\n",
       "      <td>1</td>\n",
       "      <td>5000.0</td>\n",
       "      <td>5000.0</td>\n",
       "      <td>5000.0</td>\n",
       "      <td>5000.0</td>\n",
       "      <td>5000.0</td>\n",
       "      <td>5000.0</td>\n",
       "      <td>6500.0</td>\n",
       "      <td>6500.0</td>\n",
       "      <td>6500.0</td>\n",
       "      <td>6500.0</td>\n",
       "      <td>6500.0</td>\n",
       "      <td>6500.0</td>\n",
       "      <td>1</td>\n",
       "      <td>1</td>\n",
       "      <td>1</td>\n",
       "      <td>1</td>\n",
       "      <td>0</td>\n",
       "      <td>0.214343</td>\n",
       "    </tr>\n",
       "    <tr>\n",
       "      <th>2</th>\n",
       "      <td>2234-001-17</td>\n",
       "      <td>5000</td>\n",
       "      <td>1</td>\n",
       "      <td>1</td>\n",
       "      <td>1</td>\n",
       "      <td>0</td>\n",
       "      <td>1</td>\n",
       "      <td>0</td>\n",
       "      <td>3</td>\n",
       "      <td>1</td>\n",
       "      <td>0</td>\n",
       "      <td>0</td>\n",
       "      <td>0</td>\n",
       "      <td>0</td>\n",
       "      <td>2</td>\n",
       "      <td>1</td>\n",
       "      <td>3</td>\n",
       "      <td>0</td>\n",
       "      <td>1</td>\n",
       "      <td>1</td>\n",
       "      <td>1</td>\n",
       "      <td>0</td>\n",
       "      <td>0</td>\n",
       "      <td>0</td>\n",
       "      <td>0</td>\n",
       "      <td>...</td>\n",
       "      <td>0</td>\n",
       "      <td>2</td>\n",
       "      <td>1</td>\n",
       "      <td>3</td>\n",
       "      <td>1</td>\n",
       "      <td>0</td>\n",
       "      <td>0</td>\n",
       "      <td>0.0</td>\n",
       "      <td>0.0</td>\n",
       "      <td>0.0</td>\n",
       "      <td>0.0</td>\n",
       "      <td>0.0</td>\n",
       "      <td>0.0</td>\n",
       "      <td>0.0</td>\n",
       "      <td>0.0</td>\n",
       "      <td>0.0</td>\n",
       "      <td>0.0</td>\n",
       "      <td>0.0</td>\n",
       "      <td>0.0</td>\n",
       "      <td>0</td>\n",
       "      <td>0</td>\n",
       "      <td>0</td>\n",
       "      <td>0</td>\n",
       "      <td>0</td>\n",
       "      <td>0.202411</td>\n",
       "    </tr>\n",
       "    <tr>\n",
       "      <th>3</th>\n",
       "      <td>2649-001-17</td>\n",
       "      <td>5000</td>\n",
       "      <td>1</td>\n",
       "      <td>4</td>\n",
       "      <td>2</td>\n",
       "      <td>1</td>\n",
       "      <td>1</td>\n",
       "      <td>0</td>\n",
       "      <td>3</td>\n",
       "      <td>0</td>\n",
       "      <td>0</td>\n",
       "      <td>0</td>\n",
       "      <td>0</td>\n",
       "      <td>0</td>\n",
       "      <td>2</td>\n",
       "      <td>0</td>\n",
       "      <td>3</td>\n",
       "      <td>0</td>\n",
       "      <td>0</td>\n",
       "      <td>0</td>\n",
       "      <td>2</td>\n",
       "      <td>0</td>\n",
       "      <td>0</td>\n",
       "      <td>0</td>\n",
       "      <td>0</td>\n",
       "      <td>...</td>\n",
       "      <td>0</td>\n",
       "      <td>5</td>\n",
       "      <td>1</td>\n",
       "      <td>3</td>\n",
       "      <td>0</td>\n",
       "      <td>1</td>\n",
       "      <td>1</td>\n",
       "      <td>0.0</td>\n",
       "      <td>5000.0</td>\n",
       "      <td>5000.0</td>\n",
       "      <td>5000.0</td>\n",
       "      <td>5000.0</td>\n",
       "      <td>5000.0</td>\n",
       "      <td>1500.0</td>\n",
       "      <td>8000.0</td>\n",
       "      <td>8000.0</td>\n",
       "      <td>8000.0</td>\n",
       "      <td>8000.0</td>\n",
       "      <td>8000.0</td>\n",
       "      <td>2</td>\n",
       "      <td>1</td>\n",
       "      <td>2</td>\n",
       "      <td>3</td>\n",
       "      <td>0</td>\n",
       "      <td>0.820044</td>\n",
       "    </tr>\n",
       "    <tr>\n",
       "      <th>4</th>\n",
       "      <td>2320-001-17</td>\n",
       "      <td>3000</td>\n",
       "      <td>1</td>\n",
       "      <td>4</td>\n",
       "      <td>2</td>\n",
       "      <td>1</td>\n",
       "      <td>1</td>\n",
       "      <td>0</td>\n",
       "      <td>3</td>\n",
       "      <td>0</td>\n",
       "      <td>0</td>\n",
       "      <td>0</td>\n",
       "      <td>0</td>\n",
       "      <td>0</td>\n",
       "      <td>2</td>\n",
       "      <td>0</td>\n",
       "      <td>3</td>\n",
       "      <td>0</td>\n",
       "      <td>0</td>\n",
       "      <td>0</td>\n",
       "      <td>2</td>\n",
       "      <td>0</td>\n",
       "      <td>0</td>\n",
       "      <td>0</td>\n",
       "      <td>0</td>\n",
       "      <td>...</td>\n",
       "      <td>0</td>\n",
       "      <td>0</td>\n",
       "      <td>1</td>\n",
       "      <td>0</td>\n",
       "      <td>0</td>\n",
       "      <td>1</td>\n",
       "      <td>1</td>\n",
       "      <td>0.0</td>\n",
       "      <td>3000.0</td>\n",
       "      <td>3000.0</td>\n",
       "      <td>3000.0</td>\n",
       "      <td>3000.0</td>\n",
       "      <td>3000.0</td>\n",
       "      <td>0.0</td>\n",
       "      <td>3960.0</td>\n",
       "      <td>3960.0</td>\n",
       "      <td>3960.0</td>\n",
       "      <td>3960.0</td>\n",
       "      <td>3960.0</td>\n",
       "      <td>1</td>\n",
       "      <td>1</td>\n",
       "      <td>1</td>\n",
       "      <td>1</td>\n",
       "      <td>0</td>\n",
       "      <td>0.925201</td>\n",
       "    </tr>\n",
       "  </tbody>\n",
       "</table>\n",
       "<p>5 rows × 59 columns</p>\n",
       "</div>"
      ],
      "text/plain": [
       "  al_ContractNumber  al_amount  al_issue_M_group  psp_issue_rgn_group  sex  \\\n",
       "0        882-001-17       3000                 1                    2    1   \n",
       "1       1776-001-17       5000                 1                    1    1   \n",
       "2       2234-001-17       5000                 1                    1    1   \n",
       "3       2649-001-17       5000                 1                    4    2   \n",
       "4       2320-001-17       3000                 1                    4    2   \n",
       "\n",
       "   is_client_local  has_snils  zaim_cards  age  responsecode  \\\n",
       "0                0          0           0    2             1   \n",
       "1                0          1           0    2             1   \n",
       "2                0          1           0    3             1   \n",
       "3                1          1           0    3             0   \n",
       "4                1          1           0    3             0   \n",
       "\n",
       "   has_foreign_currency_credits  court_counts  official_count  \\\n",
       "0                             0             0               0   \n",
       "1                             0             0               0   \n",
       "2                             0             0               0   \n",
       "3                             0             0               0   \n",
       "4                             0             0               0   \n",
       "\n",
       "   has_resold_credits  cred_line_state  potreb_tot  potreb_active_tot_group  \\\n",
       "0                   0                2           1                        3   \n",
       "1                   0                2           1                        3   \n",
       "2                   0                2           1                        3   \n",
       "3                   0                2           0                        3   \n",
       "4                   0                2           0                        3   \n",
       "\n",
       "   potreb_other_states_tot  pdl_tot  pdl_closed_tot  \\\n",
       "0                        0        0               0   \n",
       "1                        0        1               1   \n",
       "2                        0        1               1   \n",
       "3                        0        0               0   \n",
       "4                        0        0               0   \n",
       "\n",
       "   pdl_active_to_total_group  pdl_delay5_cnt  pdl_delay30_cnt  \\\n",
       "0                          2               0                0   \n",
       "1                          1               0                1   \n",
       "2                          1               0                0   \n",
       "3                          2               0                0   \n",
       "4                          2               0                0   \n",
       "\n",
       "   pdl_delay60_cnt  pdl_delay90_cnt  ...  pdl_delay_more_avg  al_LIFETIME_BIN  \\\n",
       "0                0                0  ...                   0                1   \n",
       "1                0                1  ...                   0                1   \n",
       "2                0                0  ...                   0                2   \n",
       "3                0                0  ...                   0                5   \n",
       "4                0                0  ...                   0                0   \n",
       "\n",
       "   al_BLOCK_DUR  al_PAY_MAX  al_SCORE2  res_npl_15  res_npl_90  \\\n",
       "0             1           3          1           0           1   \n",
       "1             1           5          1           1           1   \n",
       "2             1           3          1           0           0   \n",
       "3             1           3          0           1           1   \n",
       "4             1           0          0           1           1   \n",
       "\n",
       "   res_payout_principal_inTime  res_payout_principal_delay15  \\\n",
       "0                          0.0                         280.0   \n",
       "1                       5000.0                        5000.0   \n",
       "2                          0.0                           0.0   \n",
       "3                          0.0                        5000.0   \n",
       "4                          0.0                        3000.0   \n",
       "\n",
       "   res_payout_principal_delay30  res_payout_principal_delay45  \\\n",
       "0                        3000.0                        3000.0   \n",
       "1                        5000.0                        5000.0   \n",
       "2                           0.0                           0.0   \n",
       "3                        5000.0                        5000.0   \n",
       "4                        3000.0                        3000.0   \n",
       "\n",
       "   res_payout_principal_delay60  res_payout_principal_delay90  \\\n",
       "0                        3000.0                        3000.0   \n",
       "1                        5000.0                        5000.0   \n",
       "2                           0.0                           0.0   \n",
       "3                        5000.0                        5000.0   \n",
       "4                        3000.0                        3000.0   \n",
       "\n",
       "   res_payout_tot_inTime  res_payout_tot_delay15  res_payout_tot_delay30  \\\n",
       "0                    0.0                  1000.0                  4590.4   \n",
       "1                 6500.0                  6500.0                  6500.0   \n",
       "2                    0.0                     0.0                     0.0   \n",
       "3                 1500.0                  8000.0                  8000.0   \n",
       "4                    0.0                  3960.0                  3960.0   \n",
       "\n",
       "   res_payout_tot_delay45  res_payout_tot_delay60  res_payout_tot_delay90  \\\n",
       "0                  4590.4                  4590.4                  4590.4   \n",
       "1                  6500.0                  6500.0                  6500.0   \n",
       "2                     0.0                     0.0                     0.0   \n",
       "3                  8000.0                  8000.0                  8000.0   \n",
       "4                  3960.0                  3960.0                  3960.0   \n",
       "\n",
       "   fl_cnt  fl_cnt_during_3M  fl_cnt_during_12M  fl_requests_cnt_12M  is_test  \\\n",
       "0       1                 1                  1                    1        0   \n",
       "1       1                 1                  1                    1        0   \n",
       "2       0                 0                  0                    0        0   \n",
       "3       2                 1                  2                    3        0   \n",
       "4       1                 1                  1                    1        0   \n",
       "\n",
       "     Без МФ  \n",
       "0  0.255110  \n",
       "1  0.214343  \n",
       "2  0.202411  \n",
       "3  0.820044  \n",
       "4  0.925201  \n",
       "\n",
       "[5 rows x 59 columns]"
      ]
     },
     "metadata": {},
     "output_type": "display_data"
    },
    {
     "name": "stdout",
     "output_type": "stream",
     "text": [
      "<class 'pandas.core.frame.DataFrame'>\n",
      "RangeIndex: 9983 entries, 0 to 9982\n",
      "Data columns (total 59 columns):\n",
      " #   Column                        Non-Null Count  Dtype  \n",
      "---  ------                        --------------  -----  \n",
      " 0   al_ContractNumber             9983 non-null   object \n",
      " 1   al_amount                     9983 non-null   int64  \n",
      " 2   al_issue_M_group              9983 non-null   int64  \n",
      " 3   psp_issue_rgn_group           9983 non-null   int64  \n",
      " 4   sex                           9983 non-null   int64  \n",
      " 5   is_client_local               9983 non-null   int64  \n",
      " 6   has_snils                     9983 non-null   int64  \n",
      " 7   zaim_cards                    9983 non-null   int64  \n",
      " 8   age                           9983 non-null   int64  \n",
      " 9   responsecode                  9983 non-null   int64  \n",
      " 10  has_foreign_currency_credits  9983 non-null   int64  \n",
      " 11  court_counts                  9983 non-null   int64  \n",
      " 12  official_count                9983 non-null   int64  \n",
      " 13  has_resold_credits            9983 non-null   int64  \n",
      " 14  cred_line_state               9983 non-null   int64  \n",
      " 15  potreb_tot                    9983 non-null   int64  \n",
      " 16  potreb_active_tot_group       9983 non-null   int64  \n",
      " 17  potreb_other_states_tot       9983 non-null   int64  \n",
      " 18  pdl_tot                       9983 non-null   int64  \n",
      " 19  pdl_closed_tot                9983 non-null   int64  \n",
      " 20  pdl_active_to_total_group     9983 non-null   int64  \n",
      " 21  pdl_delay5_cnt                9983 non-null   int64  \n",
      " 22  pdl_delay30_cnt               9983 non-null   int64  \n",
      " 23  pdl_delay60_cnt               9983 non-null   int64  \n",
      " 24  pdl_delay90_cnt               9983 non-null   int64  \n",
      " 25  pdl_delay_more_cnt            9983 non-null   int64  \n",
      " 26  pdl_prolong_cnt               9983 non-null   int64  \n",
      " 27  avg_payout_period_pdl         9983 non-null   int64  \n",
      " 28  avg_pdl_full_cost             9983 non-null   int64  \n",
      " 29  avg_pdl_amount                9983 non-null   int64  \n",
      " 30  pdl_delay5_avg                9983 non-null   int64  \n",
      " 31  pdl_delay30_avg               9983 non-null   int64  \n",
      " 32  pdl_delay60_avg               9983 non-null   int64  \n",
      " 33  pdl_delay90_avg               9983 non-null   int64  \n",
      " 34  pdl_delay_more_avg            9983 non-null   int64  \n",
      " 35  al_LIFETIME_BIN               9983 non-null   int64  \n",
      " 36  al_BLOCK_DUR                  9983 non-null   int64  \n",
      " 37  al_PAY_MAX                    9983 non-null   int64  \n",
      " 38  al_SCORE2                     9983 non-null   int64  \n",
      " 39  res_npl_15                    9983 non-null   int64  \n",
      " 40  res_npl_90                    9983 non-null   int64  \n",
      " 41  res_payout_principal_inTime   9983 non-null   float64\n",
      " 42  res_payout_principal_delay15  9983 non-null   float64\n",
      " 43  res_payout_principal_delay30  9983 non-null   float64\n",
      " 44  res_payout_principal_delay45  9983 non-null   float64\n",
      " 45  res_payout_principal_delay60  9983 non-null   float64\n",
      " 46  res_payout_principal_delay90  9983 non-null   float64\n",
      " 47  res_payout_tot_inTime         9983 non-null   float64\n",
      " 48  res_payout_tot_delay15        9983 non-null   float64\n",
      " 49  res_payout_tot_delay30        9983 non-null   float64\n",
      " 50  res_payout_tot_delay45        9983 non-null   float64\n",
      " 51  res_payout_tot_delay60        9983 non-null   float64\n",
      " 52  res_payout_tot_delay90        9983 non-null   float64\n",
      " 53  fl_cnt                        9983 non-null   int64  \n",
      " 54  fl_cnt_during_3M              9983 non-null   int64  \n",
      " 55  fl_cnt_during_12M             9983 non-null   int64  \n",
      " 56  fl_requests_cnt_12M           9983 non-null   int64  \n",
      " 57  is_test                       9983 non-null   int64  \n",
      " 58  Без МФ                        9983 non-null   float64\n",
      "dtypes: float64(13), int64(45), object(1)\n",
      "memory usage: 4.5+ MB\n"
     ]
    }
   ],
   "source": [
    "display(upd_data.head()) \n",
    "upd_data.info() "
   ]
  },
  {
   "cell_type": "markdown",
   "metadata": {},
   "source": [
    "В обработанном датасете колонок меньше, чем в первичном, выясним, какие столбцы были удалены/добавлены/преобразованы"
   ]
  },
  {
   "cell_type": "code",
   "execution_count": 103,
   "metadata": {},
   "outputs": [
    {
     "data": {
      "text/plain": [
       "{'al_ALL_CLC',\n",
       " 'al_CIRCLE',\n",
       " 'al_issue_M',\n",
       " 'is_pboul',\n",
       " 'pdl_active_tot',\n",
       " 'pdl_other_states_tot',\n",
       " 'pdl_own_share',\n",
       " 'potreb_active_tot',\n",
       " 'potreb_closed_tot',\n",
       " 'psp_issue_rgn',\n",
       " 'was_garant'}"
      ]
     },
     "execution_count": 103,
     "metadata": {},
     "output_type": "execute_result"
    }
   ],
   "source": [
    "set(init_data.columns) - set(upd_data.columns)"
   ]
  },
  {
   "cell_type": "code",
   "execution_count": 104,
   "metadata": {},
   "outputs": [
    {
     "data": {
      "text/plain": [
       "{'al_issue_M_group',\n",
       " 'pdl_active_to_total_group',\n",
       " 'potreb_active_tot_group',\n",
       " 'psp_issue_rgn_group',\n",
       " 'Без МФ'}"
      ]
     },
     "execution_count": 104,
     "metadata": {},
     "output_type": "execute_result"
    }
   ],
   "source": [
    "set(upd_data.columns) - set(init_data.columns)"
   ]
  },
  {
   "cell_type": "markdown",
   "metadata": {},
   "source": [
    "вот так нагляднее видно, что пропусков в данных нет"
   ]
  },
  {
   "cell_type": "code",
   "execution_count": 105,
   "metadata": {},
   "outputs": [
    {
     "data": {
      "image/png": "[encoded data removed]",
      "text/plain": [
       "<Figure size 1440x864 with 1 Axes>"
      ]
     },
     "metadata": {
      "needs_background": "light"
     },
     "output_type": "display_data"
    }
   ],
   "source": [
    "fig, ax = plt.subplots(figsize=(20,12))\n",
    "sns_heatmap = sns.heatmap(init_data.isnull(), yticklabels=False, cbar=False, cmap='viridis')"
   ]
  },
  {
   "cell_type": "code",
   "execution_count": 106,
   "metadata": {},
   "outputs": [
    {
     "data": {
      "image/png": "[encoded data removed]",
      "text/plain": [
       "<Figure size 1440x864 with 1 Axes>"
      ]
     },
     "metadata": {
      "needs_background": "light"
     },
     "output_type": "display_data"
    }
   ],
   "source": [
    "fig, ax = plt.subplots(figsize=(20,12))\n",
    "sns_heatmap = sns.heatmap(upd_data.isnull(), yticklabels=False, cbar=False, cmap='viridis')"
   ]
  },
  {
   "cell_type": "markdown",
   "metadata": {},
   "source": [
    "Пропуски отсутствуют, в преобразованном датасете на 3 строки меньше, чем в первичном, на несколько столбцов датасеты различаются"
   ]
  },
  {
   "cell_type": "markdown",
   "metadata": {},
   "source": [
    "Напишем функцию, которая покажет нам распределение признаков, выдаст процент пропусков и покажет выбросы для столбцов, у которых определены значения (по описанию датасета). Функцию будем применять только для исходного датасета (для экономии времени будем считать, что все необходимые преобразования и анализ для преобразованного датасета сделаны)"
   ]
  },
  {
   "cell_type": "code",
   "execution_count": 91,
   "metadata": {},
   "outputs": [],
   "source": [
    "def desription(col, boundaries = None):\n",
    "    print('Столбец', col)\n",
    "    print('Распределение признака:')\n",
    "    fig, ax = plt.subplots()\n",
    "    if init_data.loc[:, col].dtypes == np.dtype('O'): # Проверка на строковый тип данных\n",
    "        sns.countplot(train.loc[:, col], ax=ax)\n",
    "        plt.show()\n",
    "    else:\n",
    "        \n",
    "        init_data.loc[:, col].hist(ax=ax)\n",
    "        ax.set_xlabel(col)\n",
    "        ax.set_ylabel('count')\n",
    "        plt.show()\n",
    "        if boundaries is not None: # Проверка на наличие выбросов по информации из датасета\n",
    "            if init_data.loc[(~init_data.loc[:, col].between(boundaries[0], boundaries[1]))&\n",
    "                       pd.notnull(init_data.loc[:, col])].shape[0] > 0:\n",
    "                print('Найдены выбросы:')\n",
    "                display(init_data.loc[(~init_data.loc[:, col].between(boundaries[0], boundaries[1]))&\n",
    "                       pd.notnull(init_data.loc[:, col])])\n",
    "                \n",
    "    print('Процент пропусков:', str(round(100 - init_data.loc[:, col].count()/init_data.shape[0]*100, 2)) + '%')\n",
    "    print()\n",
    "    print('Детальное описание:')\n",
    "    print(init_data.loc[:, col].describe())"
   ]
  },
  {
   "cell_type": "code",
   "execution_count": 94,
   "metadata": {
    "scrolled": true
   },
   "outputs": [
    {
     "name": "stdout",
     "output_type": "stream",
     "text": [
      "Столбец al_amount\n",
      "Распределение признака:\n"
     ]
    },
    {
     "data": {
      "image/png": "[encoded data removed]",
      "text/plain": [
       "<Figure size 432x288 with 1 Axes>"
      ]
     },
     "metadata": {
      "needs_background": "light"
     },
     "output_type": "display_data"
    },
    {
     "name": "stdout",
     "output_type": "stream",
     "text": [
      "Процент пропусков: 0.0%\n",
      "\n",
      "Детальное описание:\n",
      "count    9986.000000\n",
      "mean     4306.629281\n",
      "std       933.068078\n",
      "min      3000.000000\n",
      "25%      3000.000000\n",
      "50%      5000.000000\n",
      "75%      5000.000000\n",
      "max      5000.000000\n",
      "Name: al_amount, dtype: float64\n",
      "Столбец al_issue_M\n",
      "Распределение признака:\n"
     ]
    },
    {
     "data": {
      "image/png": "[encoded data removed]",
      "text/plain": [
       "<Figure size 432x288 with 1 Axes>"
      ]
     },
     "metadata": {
      "needs_background": "light"
     },
     "output_type": "display_data"
    },
    {
     "name": "stdout",
     "output_type": "stream",
     "text": [
      "Процент пропусков: 0.0%\n",
      "\n",
      "Детальное описание:\n",
      "count    9986.000000\n",
      "mean        5.365612\n",
      "std         3.532582\n",
      "min         1.000000\n",
      "25%         2.000000\n",
      "50%         4.000000\n",
      "75%         8.000000\n",
      "max        12.000000\n",
      "Name: al_issue_M, dtype: float64\n",
      "Столбец psp_issue_rgn\n",
      "Распределение признака:\n"
     ]
    },
    {
     "data": {
      "image/png": "[encoded data removed]",
      "text/plain": [
       "<Figure size 432x288 with 1 Axes>"
      ]
     },
     "metadata": {
      "needs_background": "light"
     },
     "output_type": "display_data"
    },
    {
     "name": "stdout",
     "output_type": "stream",
     "text": [
      "Процент пропусков: 0.0%\n",
      "\n",
      "Детальное описание:\n",
      "count    9986.000000\n",
      "mean       59.231724\n",
      "std        23.641590\n",
      "min         0.000000\n",
      "25%        48.000000\n",
      "50%        77.000000\n",
      "75%        77.000000\n",
      "max        92.000000\n",
      "Name: psp_issue_rgn, dtype: float64\n",
      "Столбец sex\n",
      "Распределение признака:\n"
     ]
    },
    {
     "data": {
      "image/png": "[encoded data removed]",
      "text/plain": [
       "<Figure size 432x288 with 1 Axes>"
      ]
     },
     "metadata": {
      "needs_background": "light"
     },
     "output_type": "display_data"
    },
    {
     "name": "stdout",
     "output_type": "stream",
     "text": [
      "Процент пропусков: 0.0%\n",
      "\n",
      "Детальное описание:\n",
      "count    9986.000000\n",
      "mean        1.274685\n",
      "std         0.446378\n",
      "min         1.000000\n",
      "25%         1.000000\n",
      "50%         1.000000\n",
      "75%         2.000000\n",
      "max         2.000000\n",
      "Name: sex, dtype: float64\n",
      "Столбец is_client_local\n",
      "Распределение признака:\n"
     ]
    },
    {
     "data": {
      "image/png": "[encoded data removed]",
      "text/plain": [
       "<Figure size 432x288 with 1 Axes>"
      ]
     },
     "metadata": {
      "needs_background": "light"
     },
     "output_type": "display_data"
    },
    {
     "name": "stdout",
     "output_type": "stream",
     "text": [
      "Процент пропусков: 0.0%\n",
      "\n",
      "Детальное описание:\n",
      "count    9986.000000\n",
      "mean        0.452834\n",
      "std         0.497795\n",
      "min         0.000000\n",
      "25%         0.000000\n",
      "50%         0.000000\n",
      "75%         1.000000\n",
      "max         1.000000\n",
      "Name: is_client_local, dtype: float64\n",
      "Столбец has_snils\n",
      "Распределение признака:\n"
     ]
    },
    {
     "data": {
      "image/png": "[encoded data removed]",
      "text/plain": [
       "<Figure size 432x288 with 1 Axes>"
      ]
     },
     "metadata": {
      "needs_background": "light"
     },
     "output_type": "display_data"
    },
    {
     "name": "stdout",
     "output_type": "stream",
     "text": [
      "Процент пропусков: 0.0%\n",
      "\n",
      "Детальное описание:\n",
      "count    9986.000000\n",
      "mean        0.165532\n",
      "std         0.371678\n",
      "min         0.000000\n",
      "25%         0.000000\n",
      "50%         0.000000\n",
      "75%         0.000000\n",
      "max         1.000000\n",
      "Name: has_snils, dtype: float64\n",
      "Столбец zaim_cards\n",
      "Распределение признака:\n"
     ]
    },
    {
     "data": {
      "image/png": "[encoded data removed]",
      "text/plain": [
       "<Figure size 432x288 with 1 Axes>"
      ]
     },
     "metadata": {
      "needs_background": "light"
     },
     "output_type": "display_data"
    },
    {
     "name": "stdout",
     "output_type": "stream",
     "text": [
      "Процент пропусков: 0.0%\n",
      "\n",
      "Детальное описание:\n",
      "count    9986.000000\n",
      "mean        0.001702\n",
      "std         0.041227\n",
      "min         0.000000\n",
      "25%         0.000000\n",
      "50%         0.000000\n",
      "75%         0.000000\n",
      "max         1.000000\n",
      "Name: zaim_cards, dtype: float64\n",
      "Столбец age\n",
      "Распределение признака:\n"
     ]
    },
    {
     "data": {
      "image/png": "[encoded data removed]",
      "text/plain": [
       "<Figure size 432x288 with 1 Axes>"
      ]
     },
     "metadata": {
      "needs_background": "light"
     },
     "output_type": "display_data"
    },
    {
     "name": "stdout",
     "output_type": "stream",
     "text": [
      "Процент пропусков: 0.0%\n",
      "\n",
      "Детальное описание:\n",
      "count    9986.000000\n",
      "mean        2.153815\n",
      "std         0.790260\n",
      "min         1.000000\n",
      "25%         2.000000\n",
      "50%         2.000000\n",
      "75%         3.000000\n",
      "max         3.000000\n",
      "Name: age, dtype: float64\n",
      "Столбец responsecode\n",
      "Распределение признака:\n"
     ]
    },
    {
     "data": {
      "image/png": "[encoded data removed]",
      "text/plain": [
       "<Figure size 432x288 with 1 Axes>"
      ]
     },
     "metadata": {
      "needs_background": "light"
     },
     "output_type": "display_data"
    },
    {
     "name": "stdout",
     "output_type": "stream",
     "text": [
      "Найдены выбросы:\n"
     ]
    },
    {
     "data": {
      "text/html": [
       "<div>\n",
       "<style scoped>\n",
       "    .dataframe tbody tr th:only-of-type {\n",
       "        vertical-align: middle;\n",
       "    }\n",
       "\n",
       "    .dataframe tbody tr th {\n",
       "        vertical-align: top;\n",
       "    }\n",
       "\n",
       "    .dataframe thead th {\n",
       "        text-align: right;\n",
       "    }\n",
       "</style>\n",
       "<table border=\"1\" class=\"dataframe\">\n",
       "  <thead>\n",
       "    <tr style=\"text-align: right;\">\n",
       "      <th></th>\n",
       "      <th>al_ContractNumber</th>\n",
       "      <th>al_amount</th>\n",
       "      <th>al_issue_M</th>\n",
       "      <th>psp_issue_rgn</th>\n",
       "      <th>sex</th>\n",
       "      <th>is_client_local</th>\n",
       "      <th>has_snils</th>\n",
       "      <th>zaim_cards</th>\n",
       "      <th>age</th>\n",
       "      <th>responsecode</th>\n",
       "      <th>was_garant</th>\n",
       "      <th>is_pboul</th>\n",
       "      <th>has_foreign_currency_credits</th>\n",
       "      <th>court_counts</th>\n",
       "      <th>official_count</th>\n",
       "      <th>has_resold_credits</th>\n",
       "      <th>cred_line_state</th>\n",
       "      <th>potreb_tot</th>\n",
       "      <th>potreb_closed_tot</th>\n",
       "      <th>potreb_active_tot</th>\n",
       "      <th>potreb_other_states_tot</th>\n",
       "      <th>pdl_tot</th>\n",
       "      <th>pdl_closed_tot</th>\n",
       "      <th>pdl_active_tot</th>\n",
       "      <th>pdl_other_states_tot</th>\n",
       "      <th>...</th>\n",
       "      <th>al_LIFETIME_BIN</th>\n",
       "      <th>al_BLOCK_DUR</th>\n",
       "      <th>al_CIRCLE</th>\n",
       "      <th>al_ALL_CLC</th>\n",
       "      <th>al_PAY_MAX</th>\n",
       "      <th>al_SCORE2</th>\n",
       "      <th>res_npl_15</th>\n",
       "      <th>res_npl_90</th>\n",
       "      <th>res_payout_principal_inTime</th>\n",
       "      <th>res_payout_principal_delay15</th>\n",
       "      <th>res_payout_principal_delay30</th>\n",
       "      <th>res_payout_principal_delay45</th>\n",
       "      <th>res_payout_principal_delay60</th>\n",
       "      <th>res_payout_principal_delay90</th>\n",
       "      <th>res_payout_tot_inTime</th>\n",
       "      <th>res_payout_tot_delay15</th>\n",
       "      <th>res_payout_tot_delay30</th>\n",
       "      <th>res_payout_tot_delay45</th>\n",
       "      <th>res_payout_tot_delay60</th>\n",
       "      <th>res_payout_tot_delay90</th>\n",
       "      <th>fl_cnt</th>\n",
       "      <th>fl_cnt_during_3M</th>\n",
       "      <th>fl_cnt_during_12M</th>\n",
       "      <th>fl_requests_cnt_12M</th>\n",
       "      <th>is_test</th>\n",
       "    </tr>\n",
       "  </thead>\n",
       "  <tbody>\n",
       "    <tr>\n",
       "      <th>1548</th>\n",
       "      <td>37269-008-17</td>\n",
       "      <td>5000</td>\n",
       "      <td>2</td>\n",
       "      <td>77</td>\n",
       "      <td>1</td>\n",
       "      <td>1</td>\n",
       "      <td>0</td>\n",
       "      <td>0</td>\n",
       "      <td>3</td>\n",
       "      <td>98</td>\n",
       "      <td>0</td>\n",
       "      <td>0</td>\n",
       "      <td>0</td>\n",
       "      <td>0</td>\n",
       "      <td>0</td>\n",
       "      <td>1</td>\n",
       "      <td>2</td>\n",
       "      <td>1</td>\n",
       "      <td>8</td>\n",
       "      <td>0</td>\n",
       "      <td>0</td>\n",
       "      <td>1</td>\n",
       "      <td>1</td>\n",
       "      <td>0</td>\n",
       "      <td>0</td>\n",
       "      <td>...</td>\n",
       "      <td>1</td>\n",
       "      <td>0</td>\n",
       "      <td>5</td>\n",
       "      <td>2</td>\n",
       "      <td>5</td>\n",
       "      <td>0.197846</td>\n",
       "      <td>1</td>\n",
       "      <td>1</td>\n",
       "      <td>5000.0</td>\n",
       "      <td>5000.0</td>\n",
       "      <td>5000.0</td>\n",
       "      <td>5000.0</td>\n",
       "      <td>5000.0</td>\n",
       "      <td>5000.0</td>\n",
       "      <td>5300.0</td>\n",
       "      <td>5300.0</td>\n",
       "      <td>5300.0</td>\n",
       "      <td>5300.0</td>\n",
       "      <td>5300.0</td>\n",
       "      <td>5300.0</td>\n",
       "      <td>1</td>\n",
       "      <td>1</td>\n",
       "      <td>1</td>\n",
       "      <td>1</td>\n",
       "      <td>0</td>\n",
       "    </tr>\n",
       "  </tbody>\n",
       "</table>\n",
       "<p>1 rows × 65 columns</p>\n",
       "</div>"
      ],
      "text/plain": [
       "     al_ContractNumber  al_amount  al_issue_M  psp_issue_rgn  sex  \\\n",
       "1548      37269-008-17       5000           2             77    1   \n",
       "\n",
       "      is_client_local  has_snils  zaim_cards  age  responsecode  was_garant  \\\n",
       "1548                1          0           0    3            98           0   \n",
       "\n",
       "      is_pboul  has_foreign_currency_credits  court_counts  official_count  \\\n",
       "1548         0                             0             0               0   \n",
       "\n",
       "      has_resold_credits  cred_line_state  potreb_tot  potreb_closed_tot  \\\n",
       "1548                   1                2           1                  8   \n",
       "\n",
       "      potreb_active_tot  potreb_other_states_tot  pdl_tot  pdl_closed_tot  \\\n",
       "1548                  0                        0        1               1   \n",
       "\n",
       "      pdl_active_tot  pdl_other_states_tot  ...  al_LIFETIME_BIN  \\\n",
       "1548               0                     0  ...                1   \n",
       "\n",
       "      al_BLOCK_DUR  al_CIRCLE  al_ALL_CLC  al_PAY_MAX  al_SCORE2  res_npl_15  \\\n",
       "1548             0          5           2           5   0.197846           1   \n",
       "\n",
       "      res_npl_90  res_payout_principal_inTime  res_payout_principal_delay15  \\\n",
       "1548           1                       5000.0                        5000.0   \n",
       "\n",
       "      res_payout_principal_delay30  res_payout_principal_delay45  \\\n",
       "1548                        5000.0                        5000.0   \n",
       "\n",
       "      res_payout_principal_delay60  res_payout_principal_delay90  \\\n",
       "1548                        5000.0                        5000.0   \n",
       "\n",
       "      res_payout_tot_inTime  res_payout_tot_delay15  res_payout_tot_delay30  \\\n",
       "1548                 5300.0                  5300.0                  5300.0   \n",
       "\n",
       "      res_payout_tot_delay45  res_payout_tot_delay60  res_payout_tot_delay90  \\\n",
       "1548                  5300.0                  5300.0                  5300.0   \n",
       "\n",
       "      fl_cnt  fl_cnt_during_3M  fl_cnt_during_12M  fl_requests_cnt_12M  \\\n",
       "1548       1                 1                  1                    1   \n",
       "\n",
       "      is_test  \n",
       "1548        0  \n",
       "\n",
       "[1 rows x 65 columns]"
      ]
     },
     "metadata": {},
     "output_type": "display_data"
    },
    {
     "name": "stdout",
     "output_type": "stream",
     "text": [
      "Процент пропусков: 0.0%\n",
      "\n",
      "Детальное описание:\n",
      "count    9986.000000\n",
      "mean        0.578209\n",
      "std         1.098523\n",
      "min         0.000000\n",
      "25%         0.000000\n",
      "50%         1.000000\n",
      "75%         1.000000\n",
      "max        98.000000\n",
      "Name: responsecode, dtype: float64\n",
      "Столбец was_garant\n",
      "Распределение признака:\n"
     ]
    },
    {
     "data": {
      "image/png": "[encoded data removed]",
      "text/plain": [
       "<Figure size 432x288 with 1 Axes>"
      ]
     },
     "metadata": {
      "needs_background": "light"
     },
     "output_type": "display_data"
    },
    {
     "name": "stdout",
     "output_type": "stream",
     "text": [
      "Процент пропусков: 0.0%\n",
      "\n",
      "Детальное описание:\n",
      "count    9986.000000\n",
      "mean        0.002904\n",
      "std         0.091126\n",
      "min         0.000000\n",
      "25%         0.000000\n",
      "50%         0.000000\n",
      "75%         0.000000\n",
      "max         5.000000\n",
      "Name: was_garant, dtype: float64\n",
      "Столбец is_pboul\n",
      "Распределение признака:\n"
     ]
    },
    {
     "data": {
      "image/png": "[encoded data removed]",
      "text/plain": [
       "<Figure size 432x288 with 1 Axes>"
      ]
     },
     "metadata": {
      "needs_background": "light"
     },
     "output_type": "display_data"
    },
    {
     "name": "stdout",
     "output_type": "stream",
     "text": [
      "Процент пропусков: 0.0%\n",
      "\n",
      "Детальное описание:\n",
      "count    9986.000000\n",
      "mean        0.001102\n",
      "std         0.110077\n",
      "min         0.000000\n",
      "25%         0.000000\n",
      "50%         0.000000\n",
      "75%         0.000000\n",
      "max        11.000000\n",
      "Name: is_pboul, dtype: float64\n",
      "Столбец has_foreign_currency_credits\n",
      "Распределение признака:\n"
     ]
    },
    {
     "data": {
      "image/png": "[encoded data removed]",
      "text/plain": [
       "<Figure size 432x288 with 1 Axes>"
      ]
     },
     "metadata": {
      "needs_background": "light"
     },
     "output_type": "display_data"
    },
    {
     "name": "stdout",
     "output_type": "stream",
     "text": [
      "Процент пропусков: 0.0%\n",
      "\n",
      "Детальное описание:\n",
      "count    9986.000000\n",
      "mean        0.002303\n",
      "std         0.059160\n",
      "min         0.000000\n",
      "25%         0.000000\n",
      "50%         0.000000\n",
      "75%         0.000000\n",
      "max         3.000000\n",
      "Name: has_foreign_currency_credits, dtype: float64\n",
      "Столбец court_counts\n",
      "Распределение признака:\n"
     ]
    },
    {
     "data": {
      "image/png": "[encoded data removed]",
      "text/plain": [
       "<Figure size 432x288 with 1 Axes>"
      ]
     },
     "metadata": {
      "needs_background": "light"
     },
     "output_type": "display_data"
    },
    {
     "name": "stdout",
     "output_type": "stream",
     "text": [
      "Процент пропусков: 0.0%\n",
      "\n",
      "Детальное описание:\n",
      "count    9986.000000\n",
      "mean        0.010114\n",
      "std         0.100064\n",
      "min         0.000000\n",
      "25%         0.000000\n",
      "50%         0.000000\n",
      "75%         0.000000\n",
      "max         1.000000\n",
      "Name: court_counts, dtype: float64\n",
      "Столбец official_count\n",
      "Распределение признака:\n"
     ]
    },
    {
     "data": {
      "image/png": "[encoded data removed]",
      "text/plain": [
       "<Figure size 432x288 with 1 Axes>"
      ]
     },
     "metadata": {
      "needs_background": "light"
     },
     "output_type": "display_data"
    },
    {
     "name": "stdout",
     "output_type": "stream",
     "text": [
      "Процент пропусков: 0.0%\n",
      "\n",
      "Детальное описание:\n",
      "count    9986.00000\n",
      "mean        0.02143\n",
      "std         0.14482\n",
      "min         0.00000\n",
      "25%         0.00000\n",
      "50%         0.00000\n",
      "75%         0.00000\n",
      "max         1.00000\n",
      "Name: official_count, dtype: float64\n",
      "Столбец has_resold_credits\n",
      "Распределение признака:\n"
     ]
    },
    {
     "data": {
      "image/png": "[encoded data removed]",
      "text/plain": [
       "<Figure size 432x288 with 1 Axes>"
      ]
     },
     "metadata": {
      "needs_background": "light"
     },
     "output_type": "display_data"
    },
    {
     "name": "stdout",
     "output_type": "stream",
     "text": [
      "Процент пропусков: 0.0%\n",
      "\n",
      "Детальное описание:\n",
      "count    9986.000000\n",
      "mean        0.047767\n",
      "std         0.251628\n",
      "min         0.000000\n",
      "25%         0.000000\n",
      "50%         0.000000\n",
      "75%         0.000000\n",
      "max         6.000000\n",
      "Name: has_resold_credits, dtype: float64\n",
      "Столбец cred_line_state\n",
      "Распределение признака:\n"
     ]
    },
    {
     "data": {
      "image/png": "[encoded data removed]",
      "text/plain": [
       "<Figure size 432x288 with 1 Axes>"
      ]
     },
     "metadata": {
      "needs_background": "light"
     },
     "output_type": "display_data"
    },
    {
     "name": "stdout",
     "output_type": "stream",
     "text": [
      "Процент пропусков: 0.0%\n",
      "\n",
      "Детальное описание:\n",
      "count    9986.000000\n",
      "mean        1.982776\n",
      "std         0.130112\n",
      "min         1.000000\n",
      "25%         2.000000\n",
      "50%         2.000000\n",
      "75%         2.000000\n",
      "max         2.000000\n",
      "Name: cred_line_state, dtype: float64\n",
      "Столбец potreb_tot\n",
      "Распределение признака:\n"
     ]
    },
    {
     "data": {
      "image/png": "[encoded data removed]",
      "text/plain": [
       "<Figure size 432x288 with 1 Axes>"
      ]
     },
     "metadata": {
      "needs_background": "light"
     },
     "output_type": "display_data"
    },
    {
     "name": "stdout",
     "output_type": "stream",
     "text": [
      "Процент пропусков: 0.0%\n",
      "\n",
      "Детальное описание:\n",
      "count    9986.000000\n",
      "mean        0.373823\n",
      "std         0.483842\n",
      "min         0.000000\n",
      "25%         0.000000\n",
      "50%         0.000000\n",
      "75%         1.000000\n",
      "max         1.000000\n",
      "Name: potreb_tot, dtype: float64\n",
      "Столбец potreb_closed_tot\n",
      "Распределение признака:\n"
     ]
    },
    {
     "data": {
      "image/png": "[encoded data removed]",
      "text/plain": [
       "<Figure size 432x288 with 1 Axes>"
      ]
     },
     "metadata": {
      "needs_background": "light"
     },
     "output_type": "display_data"
    },
    {
     "name": "stdout",
     "output_type": "stream",
     "text": [
      "Процент пропусков: 0.0%\n",
      "\n",
      "Детальное описание:\n",
      "count    9986.000000\n",
      "mean        0.674444\n",
      "std         1.715365\n",
      "min         0.000000\n",
      "25%         0.000000\n",
      "50%         0.000000\n",
      "75%         0.000000\n",
      "max        27.000000\n",
      "Name: potreb_closed_tot, dtype: float64\n",
      "Столбец potreb_active_tot\n",
      "Распределение признака:\n"
     ]
    },
    {
     "data": {
      "image/png": "[encoded data removed]",
      "text/plain": [
       "<Figure size 432x288 with 1 Axes>"
      ]
     },
     "metadata": {
      "needs_background": "light"
     },
     "output_type": "display_data"
    },
    {
     "name": "stdout",
     "output_type": "stream",
     "text": [
      "Процент пропусков: 0.0%\n",
      "\n",
      "Детальное описание:\n",
      "count    9986.000000\n",
      "mean        0.269577\n",
      "std         0.748244\n",
      "min         0.000000\n",
      "25%         0.000000\n",
      "50%         0.000000\n",
      "75%         0.000000\n",
      "max        11.000000\n",
      "Name: potreb_active_tot, dtype: float64\n",
      "Столбец potreb_other_states_tot\n",
      "Распределение признака:\n"
     ]
    },
    {
     "data": {
      "image/png": "[encoded data removed]",
      "text/plain": [
       "<Figure size 432x288 with 1 Axes>"
      ]
     },
     "metadata": {
      "needs_background": "light"
     },
     "output_type": "display_data"
    },
    {
     "name": "stdout",
     "output_type": "stream",
     "text": [
      "Процент пропусков: 0.0%\n",
      "\n",
      "Детальное описание:\n",
      "count    9986.000000\n",
      "mean        0.114160\n",
      "std         0.662755\n",
      "min         0.000000\n",
      "25%         0.000000\n",
      "50%         0.000000\n",
      "75%         0.000000\n",
      "max        17.000000\n",
      "Name: potreb_other_states_tot, dtype: float64\n",
      "Столбец pdl_tot\n",
      "Распределение признака:\n"
     ]
    },
    {
     "data": {
      "image/png": "[encoded data removed]",
      "text/plain": [
       "<Figure size 432x288 with 1 Axes>"
      ]
     },
     "metadata": {
      "needs_background": "light"
     },
     "output_type": "display_data"
    },
    {
     "name": "stdout",
     "output_type": "stream",
     "text": [
      "Процент пропусков: 0.0%\n",
      "\n",
      "Детальное описание:\n",
      "count    9986.000000\n",
      "mean        0.141398\n",
      "std         0.348449\n",
      "min         0.000000\n",
      "25%         0.000000\n",
      "50%         0.000000\n",
      "75%         0.000000\n",
      "max         1.000000\n",
      "Name: pdl_tot, dtype: float64\n",
      "Столбец pdl_closed_tot\n",
      "Распределение признака:\n"
     ]
    },
    {
     "data": {
      "image/png": "[encoded data removed]",
      "text/plain": [
       "<Figure size 432x288 with 1 Axes>"
      ]
     },
     "metadata": {
      "needs_background": "light"
     },
     "output_type": "display_data"
    },
    {
     "name": "stdout",
     "output_type": "stream",
     "text": [
      "Процент пропусков: 0.0%\n",
      "\n",
      "Детальное описание:\n",
      "count    9986.000000\n",
      "mean        0.375426\n",
      "std         2.899925\n",
      "min         0.000000\n",
      "25%         0.000000\n",
      "50%         0.000000\n",
      "75%         0.000000\n",
      "max       100.000000\n",
      "Name: pdl_closed_tot, dtype: float64\n",
      "Столбец pdl_active_tot\n",
      "Распределение признака:\n"
     ]
    },
    {
     "data": {
      "image/png": "[encoded data removed]",
      "text/plain": [
       "<Figure size 432x288 with 1 Axes>"
      ]
     },
     "metadata": {
      "needs_background": "light"
     },
     "output_type": "display_data"
    },
    {
     "name": "stdout",
     "output_type": "stream",
     "text": [
      "Процент пропусков: 0.0%\n",
      "\n",
      "Детальное описание:\n",
      "count    9986.000000\n",
      "mean        0.126878\n",
      "std         0.768707\n",
      "min         0.000000\n",
      "25%         0.000000\n",
      "50%         0.000000\n",
      "75%         0.000000\n",
      "max        14.000000\n",
      "Name: pdl_active_tot, dtype: float64\n",
      "Столбец pdl_other_states_tot\n",
      "Распределение признака:\n"
     ]
    },
    {
     "data": {
      "image/png": "[encoded data removed]",
      "text/plain": [
       "<Figure size 432x288 with 1 Axes>"
      ]
     },
     "metadata": {
      "needs_background": "light"
     },
     "output_type": "display_data"
    },
    {
     "name": "stdout",
     "output_type": "stream",
     "text": [
      "Процент пропусков: 0.0%\n",
      "\n",
      "Детальное описание:\n",
      "count    9986.000000\n",
      "mean        0.032646\n",
      "std         0.456562\n",
      "min         0.000000\n",
      "25%         0.000000\n",
      "50%         0.000000\n",
      "75%         0.000000\n",
      "max        20.000000\n",
      "Name: pdl_other_states_tot, dtype: float64\n",
      "Столбец pdl_own_share\n",
      "Распределение признака:\n"
     ]
    },
    {
     "data": {
      "image/png": "[encoded data removed]",
      "text/plain": [
       "<Figure size 432x288 with 1 Axes>"
      ]
     },
     "metadata": {
      "needs_background": "light"
     },
     "output_type": "display_data"
    },
    {
     "name": "stdout",
     "output_type": "stream",
     "text": [
      "Процент пропусков: 0.0%\n",
      "\n",
      "Детальное описание:\n",
      "count    9986.000000\n",
      "mean        0.003004\n",
      "std         0.054731\n",
      "min         0.000000\n",
      "25%         0.000000\n",
      "50%         0.000000\n",
      "75%         0.000000\n",
      "max         1.000000\n",
      "Name: pdl_own_share, dtype: float64\n",
      "Столбец pdl_delay5_cnt\n",
      "Распределение признака:\n"
     ]
    },
    {
     "data": {
      "image/png": "[encoded data removed]",
      "text/plain": [
       "<Figure size 432x288 with 1 Axes>"
      ]
     },
     "metadata": {
      "needs_background": "light"
     },
     "output_type": "display_data"
    },
    {
     "name": "stdout",
     "output_type": "stream",
     "text": [
      "Процент пропусков: 0.0%\n",
      "\n",
      "Детальное описание:\n",
      "count    9986.000000\n",
      "mean        0.023433\n",
      "std         0.151281\n",
      "min         0.000000\n",
      "25%         0.000000\n",
      "50%         0.000000\n",
      "75%         0.000000\n",
      "max         1.000000\n",
      "Name: pdl_delay5_cnt, dtype: float64\n",
      "Столбец pdl_delay30_cnt\n",
      "Распределение признака:\n"
     ]
    },
    {
     "data": {
      "image/png": "[encoded data removed]",
      "text/plain": [
       "<Figure size 432x288 with 1 Axes>"
      ]
     },
     "metadata": {
      "needs_background": "light"
     },
     "output_type": "display_data"
    },
    {
     "name": "stdout",
     "output_type": "stream",
     "text": [
      "Процент пропусков: 0.0%\n",
      "\n",
      "Детальное описание:\n",
      "count    9986.000000\n",
      "mean        0.044763\n",
      "std         0.206793\n",
      "min         0.000000\n",
      "25%         0.000000\n",
      "50%         0.000000\n",
      "75%         0.000000\n",
      "max         1.000000\n",
      "Name: pdl_delay30_cnt, dtype: float64\n",
      "Столбец pdl_delay60_cnt\n",
      "Распределение признака:\n"
     ]
    },
    {
     "data": {
      "image/png": "[encoded data removed]",
      "text/plain": [
       "<Figure size 432x288 with 1 Axes>"
      ]
     },
     "metadata": {
      "needs_background": "light"
     },
     "output_type": "display_data"
    },
    {
     "name": "stdout",
     "output_type": "stream",
     "text": [
      "Процент пропусков: 0.0%\n",
      "\n",
      "Детальное описание:\n",
      "count    9986.000000\n",
      "mean        0.019728\n",
      "std         0.139070\n",
      "min         0.000000\n",
      "25%         0.000000\n",
      "50%         0.000000\n",
      "75%         0.000000\n",
      "max         1.000000\n",
      "Name: pdl_delay60_cnt, dtype: float64\n",
      "Столбец pdl_delay90_cnt\n",
      "Распределение признака:\n"
     ]
    },
    {
     "data": {
      "image/png": "[encoded data removed]",
      "text/plain": [
       "<Figure size 432x288 with 1 Axes>"
      ]
     },
     "metadata": {
      "needs_background": "light"
     },
     "output_type": "display_data"
    },
    {
     "name": "stdout",
     "output_type": "stream",
     "text": [
      "Процент пропусков: 0.0%\n",
      "\n",
      "Детальное описание:\n",
      "count    9986.000000\n",
      "mean        0.030443\n",
      "std         0.171810\n",
      "min         0.000000\n",
      "25%         0.000000\n",
      "50%         0.000000\n",
      "75%         0.000000\n",
      "max         1.000000\n",
      "Name: pdl_delay90_cnt, dtype: float64\n",
      "Столбец pdl_delay_more_cnt\n",
      "Распределение признака:\n"
     ]
    },
    {
     "data": {
      "image/png": "[encoded data removed]",
      "text/plain": [
       "<Figure size 432x288 with 1 Axes>"
      ]
     },
     "metadata": {
      "needs_background": "light"
     },
     "output_type": "display_data"
    },
    {
     "name": "stdout",
     "output_type": "stream",
     "text": [
      "Процент пропусков: 0.0%\n",
      "\n",
      "Детальное описание:\n",
      "count    9986.000000\n",
      "mean        0.075806\n",
      "std         0.918710\n",
      "min         0.000000\n",
      "25%         0.000000\n",
      "50%         0.000000\n",
      "75%         0.000000\n",
      "max        48.000000\n",
      "Name: pdl_delay_more_cnt, dtype: float64\n",
      "Столбец pdl_prolong_cnt\n",
      "Распределение признака:\n"
     ]
    },
    {
     "data": {
      "image/png": "[encoded data removed]",
      "text/plain": [
       "<Figure size 432x288 with 1 Axes>"
      ]
     },
     "metadata": {
      "needs_background": "light"
     },
     "output_type": "display_data"
    },
    {
     "name": "stdout",
     "output_type": "stream",
     "text": [
      "Процент пропусков: 0.0%\n",
      "\n",
      "Детальное описание:\n",
      "count    9986.000000\n",
      "mean        0.141398\n",
      "std         0.348449\n",
      "min         0.000000\n",
      "25%         0.000000\n",
      "50%         0.000000\n",
      "75%         0.000000\n",
      "max         1.000000\n",
      "Name: pdl_prolong_cnt, dtype: float64\n",
      "Столбец avg_payout_period_pdl\n",
      "Распределение признака:\n"
     ]
    },
    {
     "data": {
      "image/png": "[encoded data removed]",
      "text/plain": [
       "<Figure size 432x288 with 1 Axes>"
      ]
     },
     "metadata": {
      "needs_background": "light"
     },
     "output_type": "display_data"
    },
    {
     "name": "stdout",
     "output_type": "stream",
     "text": [
      "Процент пропусков: 0.0%\n",
      "\n",
      "Детальное описание:\n",
      "count    9986.000000\n",
      "mean        0.941518\n",
      "std         0.234664\n",
      "min         0.000000\n",
      "25%         1.000000\n",
      "50%         1.000000\n",
      "75%         1.000000\n",
      "max         1.000000\n",
      "Name: avg_payout_period_pdl, dtype: float64\n",
      "Столбец avg_pdl_full_cost\n",
      "Распределение признака:\n"
     ]
    },
    {
     "data": {
      "image/png": "[encoded data removed]",
      "text/plain": [
       "<Figure size 432x288 with 1 Axes>"
      ]
     },
     "metadata": {
      "needs_background": "light"
     },
     "output_type": "display_data"
    },
    {
     "name": "stdout",
     "output_type": "stream",
     "text": [
      "Процент пропусков: 0.0%\n",
      "\n",
      "Детальное описание:\n",
      "count    9986.000000\n",
      "mean        1.039255\n",
      "std         0.194211\n",
      "min         1.000000\n",
      "25%         1.000000\n",
      "50%         1.000000\n",
      "75%         1.000000\n",
      "max         2.000000\n",
      "Name: avg_pdl_full_cost, dtype: float64\n",
      "Столбец avg_pdl_amount\n",
      "Распределение признака:\n"
     ]
    },
    {
     "data": {
      "image/png": "[encoded data removed]",
      "text/plain": [
       "<Figure size 432x288 with 1 Axes>"
      ]
     },
     "metadata": {
      "needs_background": "light"
     },
     "output_type": "display_data"
    },
    {
     "name": "stdout",
     "output_type": "stream",
     "text": [
      "Процент пропусков: 0.0%\n",
      "\n",
      "Детальное описание:\n",
      "count      9986.000000\n",
      "mean       1771.111257\n",
      "std        7744.708255\n",
      "min           0.000000\n",
      "25%           0.000000\n",
      "50%           0.000000\n",
      "75%           0.000000\n",
      "max      371304.190000\n",
      "Name: avg_pdl_amount, dtype: float64\n",
      "Столбец pdl_delay5_avg\n",
      "Распределение признака:\n"
     ]
    },
    {
     "data": {
      "image/png": "[encoded data removed]",
      "text/plain": [
       "<Figure size 432x288 with 1 Axes>"
      ]
     },
     "metadata": {
      "needs_background": "light"
     },
     "output_type": "display_data"
    },
    {
     "name": "stdout",
     "output_type": "stream",
     "text": [
      "Процент пропусков: 0.0%\n",
      "\n",
      "Детальное описание:\n",
      "count    9986.000000\n",
      "mean        0.007010\n",
      "std         0.083435\n",
      "min         0.000000\n",
      "25%         0.000000\n",
      "50%         0.000000\n",
      "75%         0.000000\n",
      "max         1.000000\n",
      "Name: pdl_delay5_avg, dtype: float64\n",
      "Столбец pdl_delay30_avg\n",
      "Распределение признака:\n"
     ]
    },
    {
     "data": {
      "image/png": "[encoded data removed]",
      "text/plain": [
       "<Figure size 432x288 with 1 Axes>"
      ]
     },
     "metadata": {
      "needs_background": "light"
     },
     "output_type": "display_data"
    },
    {
     "name": "stdout",
     "output_type": "stream",
     "text": [
      "Процент пропусков: 0.0%\n",
      "\n",
      "Детальное описание:\n",
      "count    9986.000000\n",
      "mean        0.024334\n",
      "std         0.154092\n",
      "min         0.000000\n",
      "25%         0.000000\n",
      "50%         0.000000\n",
      "75%         0.000000\n",
      "max         1.000000\n",
      "Name: pdl_delay30_avg, dtype: float64\n",
      "Столбец pdl_delay60_avg\n",
      "Распределение признака:\n"
     ]
    },
    {
     "data": {
      "image/png": "[encoded data removed]",
      "text/plain": [
       "<Figure size 432x288 with 1 Axes>"
      ]
     },
     "metadata": {
      "needs_background": "light"
     },
     "output_type": "display_data"
    },
    {
     "name": "stdout",
     "output_type": "stream",
     "text": [
      "Процент пропусков: 0.0%\n",
      "\n",
      "Детальное описание:\n",
      "count    9986.000000\n",
      "mean        0.009513\n",
      "std         0.097076\n",
      "min         0.000000\n",
      "25%         0.000000\n",
      "50%         0.000000\n",
      "75%         0.000000\n",
      "max         1.000000\n",
      "Name: pdl_delay60_avg, dtype: float64\n",
      "Столбец pdl_delay90_avg\n",
      "Распределение признака:\n"
     ]
    },
    {
     "data": {
      "image/png": "[encoded data removed]",
      "text/plain": [
       "<Figure size 432x288 with 1 Axes>"
      ]
     },
     "metadata": {
      "needs_background": "light"
     },
     "output_type": "display_data"
    },
    {
     "name": "stdout",
     "output_type": "stream",
     "text": [
      "Процент пропусков: 0.0%\n",
      "\n",
      "Детальное описание:\n",
      "count    9986.000000\n",
      "mean        0.013919\n",
      "std         0.117163\n",
      "min         0.000000\n",
      "25%         0.000000\n",
      "50%         0.000000\n",
      "75%         0.000000\n",
      "max         1.000000\n",
      "Name: pdl_delay90_avg, dtype: float64\n",
      "Столбец pdl_delay_more_avg\n",
      "Распределение признака:\n"
     ]
    },
    {
     "data": {
      "image/png": "[encoded data removed]",
      "text/plain": [
       "<Figure size 432x288 with 1 Axes>"
      ]
     },
     "metadata": {
      "needs_background": "light"
     },
     "output_type": "display_data"
    },
    {
     "name": "stdout",
     "output_type": "stream",
     "text": [
      "Процент пропусков: 0.0%\n",
      "\n",
      "Детальное описание:\n",
      "count    9986.000000\n",
      "mean        0.033847\n",
      "std         0.529033\n",
      "min         0.000000\n",
      "25%         0.000000\n",
      "50%         0.000000\n",
      "75%         0.000000\n",
      "max        24.000000\n",
      "Name: pdl_delay_more_avg, dtype: float64\n",
      "Столбец al_LIFETIME_BIN\n",
      "Распределение признака:\n"
     ]
    },
    {
     "data": {
      "image/png": "[encoded data removed]",
      "text/plain": [
       "<Figure size 432x288 with 1 Axes>"
      ]
     },
     "metadata": {
      "needs_background": "light"
     },
     "output_type": "display_data"
    },
    {
     "name": "stdout",
     "output_type": "stream",
     "text": [
      "Процент пропусков: 0.0%\n",
      "\n",
      "Детальное описание:\n",
      "count    9986.000000\n",
      "mean        2.840477\n",
      "std         1.849871\n",
      "min         0.000000\n",
      "25%         1.000000\n",
      "50%         3.000000\n",
      "75%         5.000000\n",
      "max         5.000000\n",
      "Name: al_LIFETIME_BIN, dtype: float64\n",
      "Столбец al_BLOCK_DUR\n",
      "Распределение признака:\n"
     ]
    },
    {
     "data": {
      "image/png": "[encoded data removed]",
      "text/plain": [
       "<Figure size 432x288 with 1 Axes>"
      ]
     },
     "metadata": {
      "needs_background": "light"
     },
     "output_type": "display_data"
    },
    {
     "name": "stdout",
     "output_type": "stream",
     "text": [
      "Процент пропусков: 0.0%\n",
      "\n",
      "Детальное описание:\n",
      "count    9986.000000\n",
      "mean        1.106048\n",
      "std         1.565486\n",
      "min         0.000000\n",
      "25%         0.000000\n",
      "50%         0.000000\n",
      "75%         2.000000\n",
      "max         5.000000\n",
      "Name: al_BLOCK_DUR, dtype: float64\n",
      "Столбец al_CIRCLE\n",
      "Распределение признака:\n"
     ]
    },
    {
     "data": {
      "image/png": "[encoded data removed]",
      "text/plain": [
       "<Figure size 432x288 with 1 Axes>"
      ]
     },
     "metadata": {
      "needs_background": "light"
     },
     "output_type": "display_data"
    },
    {
     "name": "stdout",
     "output_type": "stream",
     "text": [
      "Процент пропусков: 0.0%\n",
      "\n",
      "Детальное описание:\n",
      "count    9986.000000\n",
      "mean        3.338774\n",
      "std         1.883671\n",
      "min         0.000000\n",
      "25%         2.000000\n",
      "50%         4.000000\n",
      "75%         5.000000\n",
      "max         5.000000\n",
      "Name: al_CIRCLE, dtype: float64\n",
      "Столбец al_ALL_CLC\n",
      "Распределение признака:\n"
     ]
    },
    {
     "data": {
      "image/png": "[encoded data removed]",
      "text/plain": [
       "<Figure size 432x288 with 1 Axes>"
      ]
     },
     "metadata": {
      "needs_background": "light"
     },
     "output_type": "display_data"
    },
    {
     "name": "stdout",
     "output_type": "stream",
     "text": [
      "Процент пропусков: 0.0%\n",
      "\n",
      "Детальное описание:\n",
      "count    9986.000000\n",
      "mean        2.478870\n",
      "std         1.440318\n",
      "min         0.000000\n",
      "25%         2.000000\n",
      "50%         3.000000\n",
      "75%         4.000000\n",
      "max         5.000000\n",
      "Name: al_ALL_CLC, dtype: float64\n",
      "Столбец al_PAY_MAX\n",
      "Распределение признака:\n"
     ]
    },
    {
     "data": {
      "image/png": "[encoded data removed]",
      "text/plain": [
       "<Figure size 432x288 with 1 Axes>"
      ]
     },
     "metadata": {
      "needs_background": "light"
     },
     "output_type": "display_data"
    },
    {
     "name": "stdout",
     "output_type": "stream",
     "text": [
      "Процент пропусков: 0.0%\n",
      "\n",
      "Детальное описание:\n",
      "count    9986.000000\n",
      "mean        2.653615\n",
      "std         1.589930\n",
      "min         0.000000\n",
      "25%         2.000000\n",
      "50%         3.000000\n",
      "75%         4.000000\n",
      "max         5.000000\n",
      "Name: al_PAY_MAX, dtype: float64\n",
      "Столбец al_SCORE2\n",
      "Распределение признака:\n"
     ]
    },
    {
     "data": {
      "image/png": "[encoded data removed]",
      "text/plain": [
       "<Figure size 432x288 with 1 Axes>"
      ]
     },
     "metadata": {
      "needs_background": "light"
     },
     "output_type": "display_data"
    },
    {
     "name": "stdout",
     "output_type": "stream",
     "text": [
      "Процент пропусков: 0.0%\n",
      "\n",
      "Детальное описание:\n",
      "count    9986.000000\n",
      "mean        0.162064\n",
      "std         0.056005\n",
      "min         0.064373\n",
      "25%         0.117778\n",
      "50%         0.162240\n",
      "75%         0.190126\n",
      "max         0.503484\n",
      "Name: al_SCORE2, dtype: float64\n",
      "Столбец res_npl_15\n",
      "Распределение признака:\n"
     ]
    },
    {
     "data": {
      "image/png": "[encoded data removed]",
      "text/plain": [
       "<Figure size 432x288 with 1 Axes>"
      ]
     },
     "metadata": {
      "needs_background": "light"
     },
     "output_type": "display_data"
    },
    {
     "name": "stdout",
     "output_type": "stream",
     "text": [
      "Процент пропусков: 0.0%\n",
      "\n",
      "Детальное описание:\n",
      "count    9986.000000\n",
      "mean        0.452634\n",
      "std         0.497776\n",
      "min         0.000000\n",
      "25%         0.000000\n",
      "50%         0.000000\n",
      "75%         1.000000\n",
      "max         1.000000\n",
      "Name: res_npl_15, dtype: float64\n"
     ]
    }
   ],
   "source": [
    "desription('al_amount')\n",
    "desription('al_issue_M')\n",
    "desription('psp_issue_rgn')\n",
    "desription('sex', boundaries=(1,2))\n",
    "desription('is_client_local', boundaries=(0,1))\n",
    "desription('has_snils', boundaries=(0,1))\n",
    "desription('zaim_cards', boundaries=(0,1))\n",
    "desription('age')\n",
    "desription('responsecode', boundaries=(0,3))\n",
    "desription('was_garant')\n",
    "desription('is_pboul')\n",
    "desription('has_foreign_currency_credits')\n",
    "desription('court_counts')\n",
    "desription('official_count')\n",
    "desription('has_resold_credits')\n",
    "desription('cred_line_state')\n",
    "desription('potreb_tot')\n",
    "desription('potreb_closed_tot')\n",
    "desription('potreb_active_tot')\n",
    "desription('potreb_other_states_tot')\n",
    "desription('pdl_tot')\n",
    "desription('pdl_closed_tot')\n",
    "desription('pdl_active_tot')\n",
    "desription('pdl_other_states_tot')\n",
    "desription('pdl_own_share')\n",
    "desription('pdl_delay5_cnt')\n",
    "desription('pdl_delay30_cnt')\n",
    "desription('pdl_delay60_cnt')\n",
    "desription('pdl_delay90_cnt')\n",
    "desription('pdl_delay_more_cnt')\n",
    "desription('pdl_prolong_cnt')\n",
    "desription('avg_payout_period_pdl')\n",
    "desription('avg_pdl_full_cost')\n",
    "desription('avg_pdl_amount')\n",
    "desription('pdl_delay5_avg')\n",
    "desription('pdl_delay30_avg')\n",
    "desription('pdl_delay60_avg')\n",
    "desription('pdl_delay90_avg')\n",
    "desription('pdl_delay_more_avg')\n",
    "desription('al_LIFETIME_BIN')\n",
    "desription('al_BLOCK_DUR')\n",
    "desription('al_CIRCLE')\n",
    "desription('al_ALL_CLC')\n",
    "desription('al_PAY_MAX')\n",
    "desription('al_SCORE2')\n",
    "desription('res_npl_15')"
   ]
  },
  {
   "cell_type": "markdown",
   "metadata": {},
   "source": [
    "выведем отдельно признак с выбросом"
   ]
  },
  {
   "cell_type": "code",
   "execution_count": 93,
   "metadata": {
    "scrolled": false
   },
   "outputs": [
    {
     "name": "stdout",
     "output_type": "stream",
     "text": [
      "Столбец responsecode\n",
      "Распределение признака:\n"
     ]
    },
    {
     "data": {
      "image/png": "[encoded data removed]",
      "text/plain": [
       "<Figure size 432x288 with 1 Axes>"
      ]
     },
     "metadata": {
      "needs_background": "light"
     },
     "output_type": "display_data"
    },
    {
     "name": "stdout",
     "output_type": "stream",
     "text": [
      "Найдены выбросы:\n"
     ]
    },
    {
     "data": {
      "text/html": [
       "<div>\n",
       "<style scoped>\n",
       "    .dataframe tbody tr th:only-of-type {\n",
       "        vertical-align: middle;\n",
       "    }\n",
       "\n",
       "    .dataframe tbody tr th {\n",
       "        vertical-align: top;\n",
       "    }\n",
       "\n",
       "    .dataframe thead th {\n",
       "        text-align: right;\n",
       "    }\n",
       "</style>\n",
       "<table border=\"1\" class=\"dataframe\">\n",
       "  <thead>\n",
       "    <tr style=\"text-align: right;\">\n",
       "      <th></th>\n",
       "      <th>al_ContractNumber</th>\n",
       "      <th>al_amount</th>\n",
       "      <th>al_issue_M</th>\n",
       "      <th>psp_issue_rgn</th>\n",
       "      <th>sex</th>\n",
       "      <th>is_client_local</th>\n",
       "      <th>has_snils</th>\n",
       "      <th>zaim_cards</th>\n",
       "      <th>age</th>\n",
       "      <th>responsecode</th>\n",
       "      <th>was_garant</th>\n",
       "      <th>is_pboul</th>\n",
       "      <th>has_foreign_currency_credits</th>\n",
       "      <th>court_counts</th>\n",
       "      <th>official_count</th>\n",
       "      <th>has_resold_credits</th>\n",
       "      <th>cred_line_state</th>\n",
       "      <th>potreb_tot</th>\n",
       "      <th>potreb_closed_tot</th>\n",
       "      <th>potreb_active_tot</th>\n",
       "      <th>potreb_other_states_tot</th>\n",
       "      <th>pdl_tot</th>\n",
       "      <th>pdl_closed_tot</th>\n",
       "      <th>pdl_active_tot</th>\n",
       "      <th>pdl_other_states_tot</th>\n",
       "      <th>...</th>\n",
       "      <th>al_LIFETIME_BIN</th>\n",
       "      <th>al_BLOCK_DUR</th>\n",
       "      <th>al_CIRCLE</th>\n",
       "      <th>al_ALL_CLC</th>\n",
       "      <th>al_PAY_MAX</th>\n",
       "      <th>al_SCORE2</th>\n",
       "      <th>res_npl_15</th>\n",
       "      <th>res_npl_90</th>\n",
       "      <th>res_payout_principal_inTime</th>\n",
       "      <th>res_payout_principal_delay15</th>\n",
       "      <th>res_payout_principal_delay30</th>\n",
       "      <th>res_payout_principal_delay45</th>\n",
       "      <th>res_payout_principal_delay60</th>\n",
       "      <th>res_payout_principal_delay90</th>\n",
       "      <th>res_payout_tot_inTime</th>\n",
       "      <th>res_payout_tot_delay15</th>\n",
       "      <th>res_payout_tot_delay30</th>\n",
       "      <th>res_payout_tot_delay45</th>\n",
       "      <th>res_payout_tot_delay60</th>\n",
       "      <th>res_payout_tot_delay90</th>\n",
       "      <th>fl_cnt</th>\n",
       "      <th>fl_cnt_during_3M</th>\n",
       "      <th>fl_cnt_during_12M</th>\n",
       "      <th>fl_requests_cnt_12M</th>\n",
       "      <th>is_test</th>\n",
       "    </tr>\n",
       "  </thead>\n",
       "  <tbody>\n",
       "    <tr>\n",
       "      <th>1548</th>\n",
       "      <td>37269-008-17</td>\n",
       "      <td>5000</td>\n",
       "      <td>2</td>\n",
       "      <td>77</td>\n",
       "      <td>1</td>\n",
       "      <td>1</td>\n",
       "      <td>0</td>\n",
       "      <td>0</td>\n",
       "      <td>3</td>\n",
       "      <td>98</td>\n",
       "      <td>0</td>\n",
       "      <td>0</td>\n",
       "      <td>0</td>\n",
       "      <td>0</td>\n",
       "      <td>0</td>\n",
       "      <td>1</td>\n",
       "      <td>2</td>\n",
       "      <td>1</td>\n",
       "      <td>8</td>\n",
       "      <td>0</td>\n",
       "      <td>0</td>\n",
       "      <td>1</td>\n",
       "      <td>1</td>\n",
       "      <td>0</td>\n",
       "      <td>0</td>\n",
       "      <td>...</td>\n",
       "      <td>1</td>\n",
       "      <td>0</td>\n",
       "      <td>5</td>\n",
       "      <td>2</td>\n",
       "      <td>5</td>\n",
       "      <td>0.197846</td>\n",
       "      <td>1</td>\n",
       "      <td>1</td>\n",
       "      <td>5000.0</td>\n",
       "      <td>5000.0</td>\n",
       "      <td>5000.0</td>\n",
       "      <td>5000.0</td>\n",
       "      <td>5000.0</td>\n",
       "      <td>5000.0</td>\n",
       "      <td>5300.0</td>\n",
       "      <td>5300.0</td>\n",
       "      <td>5300.0</td>\n",
       "      <td>5300.0</td>\n",
       "      <td>5300.0</td>\n",
       "      <td>5300.0</td>\n",
       "      <td>1</td>\n",
       "      <td>1</td>\n",
       "      <td>1</td>\n",
       "      <td>1</td>\n",
       "      <td>0</td>\n",
       "    </tr>\n",
       "  </tbody>\n",
       "</table>\n",
       "<p>1 rows × 65 columns</p>\n",
       "</div>"
      ],
      "text/plain": [
       "     al_ContractNumber  al_amount  al_issue_M  psp_issue_rgn  sex  \\\n",
       "1548      37269-008-17       5000           2             77    1   \n",
       "\n",
       "      is_client_local  has_snils  zaim_cards  age  responsecode  was_garant  \\\n",
       "1548                1          0           0    3            98           0   \n",
       "\n",
       "      is_pboul  has_foreign_currency_credits  court_counts  official_count  \\\n",
       "1548         0                             0             0               0   \n",
       "\n",
       "      has_resold_credits  cred_line_state  potreb_tot  potreb_closed_tot  \\\n",
       "1548                   1                2           1                  8   \n",
       "\n",
       "      potreb_active_tot  potreb_other_states_tot  pdl_tot  pdl_closed_tot  \\\n",
       "1548                  0                        0        1               1   \n",
       "\n",
       "      pdl_active_tot  pdl_other_states_tot  ...  al_LIFETIME_BIN  \\\n",
       "1548               0                     0  ...                1   \n",
       "\n",
       "      al_BLOCK_DUR  al_CIRCLE  al_ALL_CLC  al_PAY_MAX  al_SCORE2  res_npl_15  \\\n",
       "1548             0          5           2           5   0.197846           1   \n",
       "\n",
       "      res_npl_90  res_payout_principal_inTime  res_payout_principal_delay15  \\\n",
       "1548           1                       5000.0                        5000.0   \n",
       "\n",
       "      res_payout_principal_delay30  res_payout_principal_delay45  \\\n",
       "1548                        5000.0                        5000.0   \n",
       "\n",
       "      res_payout_principal_delay60  res_payout_principal_delay90  \\\n",
       "1548                        5000.0                        5000.0   \n",
       "\n",
       "      res_payout_tot_inTime  res_payout_tot_delay15  res_payout_tot_delay30  \\\n",
       "1548                 5300.0                  5300.0                  5300.0   \n",
       "\n",
       "      res_payout_tot_delay45  res_payout_tot_delay60  res_payout_tot_delay90  \\\n",
       "1548                  5300.0                  5300.0                  5300.0   \n",
       "\n",
       "      fl_cnt  fl_cnt_during_3M  fl_cnt_during_12M  fl_requests_cnt_12M  \\\n",
       "1548       1                 1                  1                    1   \n",
       "\n",
       "      is_test  \n",
       "1548        0  \n",
       "\n",
       "[1 rows x 65 columns]"
      ]
     },
     "metadata": {},
     "output_type": "display_data"
    },
    {
     "name": "stdout",
     "output_type": "stream",
     "text": [
      "Процент пропусков: 0.0%\n",
      "\n",
      "Детальное описание:\n",
      "count    9986.000000\n",
      "mean        0.578209\n",
      "std         1.098523\n",
      "min         0.000000\n",
      "25%         0.000000\n",
      "50%         1.000000\n",
      "75%         1.000000\n",
      "max        98.000000\n",
      "Name: responsecode, dtype: float64\n"
     ]
    }
   ],
   "source": [
    "desription('responsecode', boundaries=(0,3))"
   ]
  },
  {
   "cell_type": "markdown",
   "metadata": {},
   "source": [
    "удалим этот выброс по индексу"
   ]
  },
  {
   "cell_type": "code",
   "execution_count": 107,
   "metadata": {},
   "outputs": [],
   "source": [
    "init_data.drop(init_data.index[[1548]], inplace=True)"
   ]
  },
  {
   "cell_type": "code",
   "execution_count": 108,
   "metadata": {},
   "outputs": [
    {
     "data": {
      "text/plain": [
       "9985"
      ]
     },
     "execution_count": 108,
     "metadata": {},
     "output_type": "execute_result"
    }
   ],
   "source": [
    "len(init_data)"
   ]
  },
  {
   "cell_type": "markdown",
   "metadata": {},
   "source": [
    "Для улучшения качества модели следует уделить побольше внимания преобработке данных, например внимательно изучить распределение некоторых признаков, например логарифмировать их или использовать другие преобразования при необходимости"
   ]
  },
  {
   "cell_type": "markdown",
   "metadata": {},
   "source": [
    "## Модель"
   ]
  },
  {
   "cell_type": "markdown",
   "metadata": {},
   "source": [
    "### Датасеты"
   ]
  },
  {
   "cell_type": "markdown",
   "metadata": {},
   "source": [
    "Было протестировано 6 вариантов датасетов:\n",
    "1. исходный датасет (вкладка Исх данные), с дополнительной разбивкой обучающей выборки (train) \n",
    "2. исходный датасет без данных Мегафона\n",
    "3. исходный датасет без дополнительной разбивки обучающей выборки\n",
    "4. преобразованный датасет (вкладка Модель), с дополнительной разбивкой обучающей выборки (train) \n",
    "5. преобразованный датасет без данных Мегафона\n",
    "6. преобразованный датасет без дополнительной разбивки обучающей выборки\n",
    "\n",
    "Ниже представлен код для всех 6ти вариантов, по итогу лучшие значения метрики (accuracy и roc_auc) получились у варианта 1"
   ]
  },
  {
   "cell_type": "markdown",
   "metadata": {},
   "source": [
    "#### исходный датасет (вкладка Исх данные), с дополнительной разбивкой обучающей выборки (train)"
   ]
  },
  {
   "cell_type": "code",
   "execution_count": 136,
   "metadata": {},
   "outputs": [],
   "source": [
    "# Теперь выделим тестовую часть\n",
    "# is_test – является ли выборка тестовой (0 – обучающая выборка, 1  –  тестовая выборка)\n",
    "train_data = init_data.query('is_test == 0').drop(['is_test'], axis=1)\n",
    "test_data = init_data.query('is_test == 1').drop(['is_test'], axis=1)\n",
    "\n",
    "Y = train_data.res_npl_15.values            # наш таргет\n",
    "# 'al_ContractNumber' убираем, так как это не числовые значения, можно будет по индексу восстановить номер контракта\n",
    "X = train_data.drop(['al_ContractNumber', 'res_npl_15', 'res_npl_90',\n",
    "                     'res_payout_principal_inTime', 'res_payout_principal_delay15', 'res_payout_principal_delay30', 'res_payout_principal_delay45', 'res_payout_principal_delay60', 'res_payout_principal_delay90', 'res_payout_tot_inTime', 'res_payout_tot_delay15', 'res_payout_tot_delay30', 'res_payout_tot_delay45', 'res_payout_tot_delay60', 'res_payout_tot_delay90', 'fl_cnt', 'fl_cnt_during_3M', 'fl_cnt_during_12M', 'fl_requests_cnt_12M'], axis=1)"
   ]
  },
  {
   "cell_type": "markdown",
   "metadata": {},
   "source": [
    "#### исходный датасет без данных Мегафона"
   ]
  },
  {
   "cell_type": "code",
   "execution_count": 118,
   "metadata": {},
   "outputs": [],
   "source": [
    "# Теперь выделим тестовую часть\n",
    "# is_test – является ли выборка тестовой (0 – обучающая выборка, 1  –  тестовая выборка)\n",
    "train_data = init_data.query('is_test == 0').drop(['is_test'], axis=1)\n",
    "test_data = init_data.query('is_test == 1').drop(['is_test'], axis=1)\n",
    "\n",
    "Y = train_data.res_npl_15.values            # наш таргет\n",
    "# 'al_ContractNumber' убираем, так как это не числовые значения, можно будет по индексу восстановить номер контракта\n",
    "X = train_data.drop(['al_ContractNumber', 'al_LIFETIME_BIN', 'al_BLOCK_DUR', 'al_CIRCLE', 'al_ALL_CLC', 'al_PAY_MAX', 'al_SCORE2', 'res_npl_15', 'res_npl_90',\n",
    "                     'res_payout_principal_inTime', 'res_payout_principal_delay15', 'res_payout_principal_delay30', 'res_payout_principal_delay45', 'res_payout_principal_delay60', 'res_payout_principal_delay90', 'res_payout_tot_inTime', 'res_payout_tot_delay15', 'res_payout_tot_delay30', 'res_payout_tot_delay45', 'res_payout_tot_delay60', 'res_payout_tot_delay90', 'fl_cnt', 'fl_cnt_during_3M', 'fl_cnt_during_12M', 'fl_requests_cnt_12M'], axis=1)"
   ]
  },
  {
   "cell_type": "markdown",
   "metadata": {},
   "source": [
    "#### исходный датасет без дополнительной разбивки обучающей выборки"
   ]
  },
  {
   "cell_type": "code",
   "execution_count": 20,
   "metadata": {},
   "outputs": [],
   "source": [
    "# Теперь выделим тестовую часть\n",
    "# is_test – является ли выборка тестовой (0 – обучающая выборка, 1  –  тестовая выборка)\n",
    "train_data = init_data.query('is_test == 0').drop(['is_test'], axis=1)\n",
    "test_data = init_data.query('is_test == 1').drop(['is_test'], axis=1)\n",
    "\n",
    "y_train = train_data.res_npl_15.values            # наш таргет\n",
    "# 'al_ContractNumber' убираем, так как это не числовые значения, можно будет по индексу восстановить номер контракта\n",
    "X_train = train_data.drop(['al_ContractNumber', 'res_npl_15', 'res_npl_90',\n",
    "                     'res_payout_principal_inTime', 'res_payout_principal_delay15', 'res_payout_principal_delay30', 'res_payout_principal_delay45', 'res_payout_principal_delay60', 'res_payout_principal_delay90', 'res_payout_tot_inTime', 'res_payout_tot_delay15', 'res_payout_tot_delay30', 'res_payout_tot_delay45', 'res_payout_tot_delay60', 'res_payout_tot_delay90', 'fl_cnt', 'fl_cnt_during_3M', 'fl_cnt_during_12M', 'fl_requests_cnt_12M'], axis=1)\n",
    "\n",
    "y_test = test_data.res_npl_15.values            # наш таргет\n",
    "# 'al_ContractNumber' убираем, так как это не числовые значения, можно будет по индексу восстановить номер контракта\n",
    "X_test = test_data.drop(['al_ContractNumber', 'res_npl_15', 'res_npl_90',\n",
    "                     'res_payout_principal_inTime', 'res_payout_principal_delay15', 'res_payout_principal_delay30', 'res_payout_principal_delay45', 'res_payout_principal_delay60', 'res_payout_principal_delay90', 'res_payout_tot_inTime', 'res_payout_tot_delay15', 'res_payout_tot_delay30', 'res_payout_tot_delay45', 'res_payout_tot_delay60', 'res_payout_tot_delay90', 'fl_cnt', 'fl_cnt_during_3M', 'fl_cnt_during_12M', 'fl_requests_cnt_12M'], axis=1)"
   ]
  },
  {
   "cell_type": "markdown",
   "metadata": {},
   "source": [
    "#### преобразованный датасет (вкладка Модель), с дополнительной разбивкой обучающей выборки (train)"
   ]
  },
  {
   "cell_type": "code",
   "execution_count": 109,
   "metadata": {},
   "outputs": [],
   "source": [
    "# Теперь выделим тестовую часть\n",
    "# is_test – является ли выборка тестовой (0 – обучающая выборка, 1  –  тестовая выборка)\n",
    "train_data = upd_data.query('is_test == 0').drop(['is_test'], axis=1)\n",
    "test_data = upd_data.query('is_test == 1').drop(['is_test'], axis=1)\n",
    "\n",
    "Y = train_data.res_npl_15.values            # наш таргет\n",
    "# 'al_ContractNumber' убираем, так как это не числовые значения, можно будет по индексу восстановить номер контракта\n",
    "X = train_data.drop(['al_ContractNumber', 'res_npl_15', 'res_npl_90',\n",
    "                     'res_payout_principal_inTime', 'res_payout_principal_delay15', 'res_payout_principal_delay30', 'res_payout_principal_delay45', 'res_payout_principal_delay60', 'res_payout_principal_delay90', 'res_payout_tot_inTime', 'res_payout_tot_delay15', 'res_payout_tot_delay30', 'res_payout_tot_delay45', 'res_payout_tot_delay60', 'res_payout_tot_delay90', 'fl_cnt', 'fl_cnt_during_3M', 'fl_cnt_during_12M', 'fl_requests_cnt_12M', 'Без МФ'], axis=1)"
   ]
  },
  {
   "cell_type": "markdown",
   "metadata": {},
   "source": [
    "#### преобразованный датасет без данных Мегафона"
   ]
  },
  {
   "cell_type": "code",
   "execution_count": 110,
   "metadata": {},
   "outputs": [],
   "source": [
    "# Теперь выделим тестовую часть\n",
    "# is_test – является ли выборка тестовой (0 – обучающая выборка, 1  –  тестовая выборка)\n",
    "train_data = upd_data.query('is_test == 0').drop(['is_test'], axis=1)\n",
    "test_data = upd_data.query('is_test == 1').drop(['is_test'], axis=1)\n",
    "\n",
    "Y = train_data.res_npl_15.values            # наш таргет\n",
    "# 'al_ContractNumber' убираем, так как это не числовые значения, можно будет по индексу восстановить номер контракта\n",
    "X = train_data.drop(['al_ContractNumber', 'al_LIFETIME_BIN', 'al_BLOCK_DUR', 'al_PAY_MAX', 'al_SCORE2', 'res_npl_15', 'res_npl_90',\n",
    "                     'res_payout_principal_inTime', 'res_payout_principal_delay15', 'res_payout_principal_delay30', 'res_payout_principal_delay45', 'res_payout_principal_delay60', 'res_payout_principal_delay90', 'res_payout_tot_inTime', 'res_payout_tot_delay15', 'res_payout_tot_delay30', 'res_payout_tot_delay45', 'res_payout_tot_delay60', 'res_payout_tot_delay90', 'fl_cnt', 'fl_cnt_during_3M', 'fl_cnt_during_12M', 'fl_requests_cnt_12M', 'Без МФ'], axis=1)"
   ]
  },
  {
   "cell_type": "markdown",
   "metadata": {},
   "source": [
    "#### преобразованный датасет без дополнительной разбивки обучающей выборки"
   ]
  },
  {
   "cell_type": "code",
   "execution_count": 111,
   "metadata": {},
   "outputs": [],
   "source": [
    "# Теперь выделим тестовую часть\n",
    "# is_test – является ли выборка тестовой (0 – обучающая выборка, 1  –  тестовая выборка)\n",
    "train_data = upd_data.query('is_test == 0').drop(['is_test'], axis=1)\n",
    "test_data = upd_data.query('is_test == 1').drop(['is_test'], axis=1)\n",
    "\n",
    "y_train = train_data.res_npl_15.values            # наш таргет\n",
    "# 'al_ContractNumber' убираем, так как это не числовые значения, можно будет по индексу восстановить номер контракта\n",
    "X_train = train_data.drop(['al_ContractNumber', 'res_npl_15', 'res_npl_90',\n",
    "                     'res_payout_principal_inTime', 'res_payout_principal_delay15', 'res_payout_principal_delay30', 'res_payout_principal_delay45', 'res_payout_principal_delay60', 'res_payout_principal_delay90', 'res_payout_tot_inTime', 'res_payout_tot_delay15', 'res_payout_tot_delay30', 'res_payout_tot_delay45', 'res_payout_tot_delay60', 'res_payout_tot_delay90', 'fl_cnt', 'fl_cnt_during_3M', 'fl_cnt_during_12M', 'fl_requests_cnt_12M', 'Без МФ'], axis=1)\n",
    "\n",
    "y_test = test_data.res_npl_15.values            # наш таргет\n",
    "# 'al_ContractNumber' убираем, так как это не числовые значения, можно будет по индексу восстановить номер контракта\n",
    "X_test = test_data.drop(['al_ContractNumber', 'res_npl_15', 'res_npl_90',\n",
    "                     'res_payout_principal_inTime', 'res_payout_principal_delay15', 'res_payout_principal_delay30', 'res_payout_principal_delay45', 'res_payout_principal_delay60', 'res_payout_principal_delay90', 'res_payout_tot_inTime', 'res_payout_tot_delay15', 'res_payout_tot_delay30', 'res_payout_tot_delay45', 'res_payout_tot_delay60', 'res_payout_tot_delay90', 'fl_cnt', 'fl_cnt_during_3M', 'fl_cnt_during_12M', 'fl_requests_cnt_12M', 'Без МФ'], axis=1)"
   ]
  },
  {
   "cell_type": "markdown",
   "metadata": {},
   "source": [
    "### сама модель"
   ]
  },
  {
   "cell_type": "markdown",
   "metadata": {},
   "source": [
    "Анна Григорян при разговоре со мной уточнила, что обязательно знание XGBoost, именно его и будем использовать для создания модели"
   ]
  },
  {
   "cell_type": "markdown",
   "metadata": {},
   "source": [
    "В качестве метрики были выбраны accuracy (как одна из основных для моделей классификации) и roc_auc"
   ]
  },
  {
   "cell_type": "code",
   "execution_count": 137,
   "metadata": {},
   "outputs": [
    {
     "name": "stdout",
     "output_type": "stream",
     "text": [
      "Accuracy: 77.23%\n"
     ]
    }
   ],
   "source": [
    "# Первая XGBoost модель\n",
    "seed = 7\n",
    "test_size = 0.33\n",
    "X_train, X_test, y_train, y_test = train_test_split(X, Y, test_size=test_size,random_state=seed)\n",
    " # обучаем модель на тренировочной выборке\n",
    "model = XGBClassifier()\n",
    "model.fit(X_train, y_train)\n",
    "# делаем предсказание на тестовой выборке\n",
    "predictions = model.predict(X_test)\n",
    "# оцениваем предсказания\n",
    "accuracy = accuracy_score(y_test, predictions)\n",
    "print(\"Accuracy: %.2f%%\" % (accuracy * 100.0))"
   ]
  },
  {
   "cell_type": "code",
   "execution_count": 138,
   "metadata": {},
   "outputs": [
    {
     "name": "stdout",
     "output_type": "stream",
     "text": [
      "Roc_auc: 76.61%\n"
     ]
    }
   ],
   "source": [
    "roc_auc = roc_auc_score(y_test, predictions)\n",
    "print(\"Roc_auc: %.2f%%\" % (roc_auc * 100.0))"
   ]
  },
  {
   "cell_type": "markdown",
   "metadata": {},
   "source": [
    "Поскольку XGBoost может оценивать производительность во время обучения, а также оценивать метрики во время обучения модели, продемонстрируем эту возможность модели\n",
    "\n",
    "Также есть возможность прервать обучение модели, как только не будет дальнейших улучшений"
   ]
  },
  {
   "cell_type": "code",
   "execution_count": 115,
   "metadata": {
    "scrolled": false
   },
   "outputs": [
    {
     "name": "stdout",
     "output_type": "stream",
     "text": [
      "[0]\tvalidation_0-logloss:0.664596\n",
      "Will train until validation_0-logloss hasn't improved in 10 rounds.\n",
      "[1]\tvalidation_0-logloss:0.640761\n",
      "[2]\tvalidation_0-logloss:0.621129\n",
      "[3]\tvalidation_0-logloss:0.605283\n",
      "[4]\tvalidation_0-logloss:0.591464\n",
      "[5]\tvalidation_0-logloss:0.580116\n",
      "[6]\tvalidation_0-logloss:0.57042\n",
      "[7]\tvalidation_0-logloss:0.562112\n",
      "[8]\tvalidation_0-logloss:0.555167\n",
      "[9]\tvalidation_0-logloss:0.549113\n",
      "[10]\tvalidation_0-logloss:0.544201\n",
      "[11]\tvalidation_0-logloss:0.538879\n",
      "[12]\tvalidation_0-logloss:0.535164\n",
      "[13]\tvalidation_0-logloss:0.532368\n",
      "[14]\tvalidation_0-logloss:0.529574\n",
      "[15]\tvalidation_0-logloss:0.526442\n",
      "[16]\tvalidation_0-logloss:0.524493\n",
      "[17]\tvalidation_0-logloss:0.522789\n",
      "[18]\tvalidation_0-logloss:0.521298\n",
      "[19]\tvalidation_0-logloss:0.519917\n",
      "[20]\tvalidation_0-logloss:0.518712\n",
      "[21]\tvalidation_0-logloss:0.517049\n",
      "[22]\tvalidation_0-logloss:0.51543\n",
      "[23]\tvalidation_0-logloss:0.514726\n",
      "[24]\tvalidation_0-logloss:0.51362\n",
      "[25]\tvalidation_0-logloss:0.512796\n",
      "[26]\tvalidation_0-logloss:0.511763\n",
      "[27]\tvalidation_0-logloss:0.511317\n",
      "[28]\tvalidation_0-logloss:0.51062\n",
      "[29]\tvalidation_0-logloss:0.510024\n",
      "[30]\tvalidation_0-logloss:0.509278\n",
      "[31]\tvalidation_0-logloss:0.508943\n",
      "[32]\tvalidation_0-logloss:0.508644\n",
      "[33]\tvalidation_0-logloss:0.50812\n",
      "[34]\tvalidation_0-logloss:0.507875\n",
      "[35]\tvalidation_0-logloss:0.507512\n",
      "[36]\tvalidation_0-logloss:0.507215\n",
      "[37]\tvalidation_0-logloss:0.507195\n",
      "[38]\tvalidation_0-logloss:0.50722\n",
      "[39]\tvalidation_0-logloss:0.507033\n",
      "[40]\tvalidation_0-logloss:0.506238\n",
      "[41]\tvalidation_0-logloss:0.505952\n",
      "[42]\tvalidation_0-logloss:0.505763\n",
      "[43]\tvalidation_0-logloss:0.505568\n",
      "[44]\tvalidation_0-logloss:0.505503\n",
      "[45]\tvalidation_0-logloss:0.505196\n",
      "[46]\tvalidation_0-logloss:0.505013\n",
      "[47]\tvalidation_0-logloss:0.505253\n",
      "[48]\tvalidation_0-logloss:0.505338\n",
      "[49]\tvalidation_0-logloss:0.505368\n",
      "[50]\tvalidation_0-logloss:0.505425\n",
      "[51]\tvalidation_0-logloss:0.505567\n",
      "[52]\tvalidation_0-logloss:0.505222\n",
      "[53]\tvalidation_0-logloss:0.504971\n",
      "[54]\tvalidation_0-logloss:0.504826\n",
      "[55]\tvalidation_0-logloss:0.504623\n",
      "[56]\tvalidation_0-logloss:0.504609\n",
      "[57]\tvalidation_0-logloss:0.504728\n",
      "[58]\tvalidation_0-logloss:0.504772\n",
      "[59]\tvalidation_0-logloss:0.504962\n",
      "[60]\tvalidation_0-logloss:0.505169\n",
      "[61]\tvalidation_0-logloss:0.504954\n",
      "[62]\tvalidation_0-logloss:0.505177\n",
      "[63]\tvalidation_0-logloss:0.505208\n",
      "[64]\tvalidation_0-logloss:0.505104\n",
      "[65]\tvalidation_0-logloss:0.505183\n",
      "[66]\tvalidation_0-logloss:0.504738\n",
      "Stopping. Best iteration:\n",
      "[56]\tvalidation_0-logloss:0.504609\n",
      "\n",
      "Accuracy: 77.13%\n"
     ]
    }
   ],
   "source": [
    "eval_set = [(X_test, y_test)]\n",
    "model.fit(X_train, y_train, early_stopping_rounds=10, eval_metric=\"logloss\",\n",
    "eval_set=eval_set, verbose=True)\n",
    "y_predictions = model.predict(X_test)\n",
    "accuracy = accuracy_score(y_test, y_predictions)\n",
    "print(\"Accuracy: %.2f%%\" % (accuracy * 100.0))"
   ]
  },
  {
   "cell_type": "markdown",
   "metadata": {},
   "source": [
    "### Оценка значимости признаков"
   ]
  },
  {
   "cell_type": "markdown",
   "metadata": {},
   "source": [
    "Одним из преимуществ использования ансамблей решающих деревьев, а именно градиентного бустинга, заключается в том, что такие модели могут автоматически оценивать важность признаков полученной модели. Например, можно вывести вот так значимость признаков"
   ]
  },
  {
   "cell_type": "code",
   "execution_count": 116,
   "metadata": {
    "scrolled": true
   },
   "outputs": [
    {
     "name": "stdout",
     "output_type": "stream",
     "text": [
      "[0.03397955 0.05742941 0.02973461 0.01750569 0.07626306 0.01744498\n",
      " 0.         0.01874017 0.36795315 0.         0.         0.\n",
      " 0.         0.         0.01663323 0.         0.02307475 0.01779856\n",
      " 0.0270298  0.00865474 0.         0.0298184  0.         0.\n",
      " 0.         0.0215728  0.         0.01193989 0.0095041  0.\n",
      " 0.         0.         0.00347926 0.01694115 0.         0.\n",
      " 0.         0.02216711 0.01381647 0.05766038 0.02626134 0.00478338\n",
      " 0.02321849 0.01331688 0.03327864]\n"
     ]
    }
   ],
   "source": [
    "print(model.feature_importances_)"
   ]
  },
  {
   "cell_type": "markdown",
   "metadata": {},
   "source": [
    "В XGBoost есть функция plot_importance, которая используется для построения графика для признаков, упорядоченных по их важности"
   ]
  },
  {
   "cell_type": "code",
   "execution_count": 117,
   "metadata": {},
   "outputs": [
    {
     "data": {
      "text/plain": [
       "<matplotlib.axes._subplots.AxesSubplot at 0x7f808bd7d050>"
      ]
     },
     "execution_count": 117,
     "metadata": {},
     "output_type": "execute_result"
    },
    {
     "data": {
      "image/png": "[encoded data removed]",
      "text/plain": [
       "<Figure size 720x1440 with 1 Axes>"
      ]
     },
     "metadata": {
      "needs_background": "light"
     },
     "output_type": "display_data"
    }
   ],
   "source": [
    "fig, ax = plt.subplots(figsize=(10,20))\n",
    "plot_importance(model, ax=ax)"
   ]
  },
  {
   "cell_type": "markdown",
   "metadata": {},
   "source": [
    "Можно оценивать значимость признаков с помощью SelectFromModel, который может преобразовать датасет в несколько датасетов с выбранными признаками.\n",
    "\n",
    "SelectFromModel использует предварительно обученную модель на всем объеме признаков, а потом использует трешхолды, чтобы решить, какие признаки выбрать"
   ]
  },
  {
   "cell_type": "code",
   "execution_count": 122,
   "metadata": {
    "scrolled": true
   },
   "outputs": [
    {
     "name": "stdout",
     "output_type": "stream",
     "text": [
      "Thresh=0.000, n=45, Accuracy: 77.09%\n",
      "Thresh=0.000, n=45, Accuracy: 77.09%\n",
      "Thresh=0.000, n=45, Accuracy: 77.09%\n",
      "Thresh=0.000, n=45, Accuracy: 77.09%\n",
      "Thresh=0.000, n=45, Accuracy: 77.09%\n",
      "Thresh=0.000, n=45, Accuracy: 77.09%\n",
      "Thresh=0.000, n=45, Accuracy: 77.09%\n",
      "Thresh=0.000, n=45, Accuracy: 77.09%\n",
      "Thresh=0.000, n=45, Accuracy: 77.09%\n",
      "Thresh=0.000, n=45, Accuracy: 77.09%\n",
      "Thresh=0.000, n=45, Accuracy: 77.09%\n",
      "Thresh=0.000, n=45, Accuracy: 77.09%\n",
      "Thresh=0.000, n=45, Accuracy: 77.09%\n",
      "Thresh=0.000, n=45, Accuracy: 77.09%\n",
      "Thresh=0.000, n=45, Accuracy: 77.09%\n",
      "Thresh=0.004, n=30, Accuracy: 77.09%\n",
      "Thresh=0.005, n=29, Accuracy: 77.26%\n",
      "Thresh=0.007, n=28, Accuracy: 77.31%\n",
      "Thresh=0.010, n=27, Accuracy: 77.44%\n",
      "Thresh=0.011, n=26, Accuracy: 77.39%\n",
      "Thresh=0.011, n=25, Accuracy: 77.26%\n",
      "Thresh=0.011, n=24, Accuracy: 77.39%\n",
      "Thresh=0.013, n=23, Accuracy: 77.57%\n",
      "Thresh=0.014, n=22, Accuracy: 77.26%\n",
      "Thresh=0.014, n=21, Accuracy: 77.31%\n",
      "Thresh=0.015, n=20, Accuracy: 77.39%\n",
      "Thresh=0.015, n=19, Accuracy: 77.18%\n",
      "Thresh=0.016, n=18, Accuracy: 77.39%\n",
      "Thresh=0.018, n=17, Accuracy: 77.39%\n",
      "Thresh=0.018, n=16, Accuracy: 77.83%\n",
      "Thresh=0.019, n=15, Accuracy: 77.44%\n",
      "Thresh=0.020, n=14, Accuracy: 77.52%\n",
      "Thresh=0.022, n=13, Accuracy: 77.61%\n",
      "Thresh=0.022, n=12, Accuracy: 77.44%\n",
      "Thresh=0.025, n=11, Accuracy: 77.26%\n",
      "Thresh=0.026, n=10, Accuracy: 77.05%\n",
      "Thresh=0.027, n=9, Accuracy: 77.22%\n",
      "Thresh=0.028, n=8, Accuracy: 77.39%\n",
      "Thresh=0.030, n=7, Accuracy: 77.70%\n",
      "Thresh=0.031, n=6, Accuracy: 77.05%\n",
      "Thresh=0.035, n=5, Accuracy: 76.83%\n",
      "Thresh=0.054, n=4, Accuracy: 76.87%\n",
      "Thresh=0.059, n=3, Accuracy: 74.88%\n",
      "Thresh=0.066, n=2, Accuracy: 76.18%\n",
      "Thresh=0.352, n=1, Accuracy: 76.18%\n"
     ]
    }
   ],
   "source": [
    "# Обучаем модель, используя значимость каждого признака как трешхолд\n",
    "thresholds = sort(model.feature_importances_)\n",
    "for thresh in thresholds:\n",
    "    # выбираем признаки с помощью трешхолда\n",
    "    selection = SelectFromModel(model, threshold=thresh, prefit=True)\n",
    "    select_X_train = selection.transform(X_train)\n",
    "    # обучаем модель\n",
    "    selection_model = XGBClassifier()\n",
    "    selection_model.fit(select_X_train, y_train)\n",
    "    # оцениваем модель \n",
    "    select_X_test = selection.transform(X_test)\n",
    "    y_pred = selection_model.predict(select_X_test)\n",
    "    predictions = [round(value) for value in y_pred]\n",
    "    accuracy = accuracy_score(y_test, predictions)\n",
    "    print(\"Thresh=%.3f, n=%d, Accuracy: %.2f%%\" %\n",
    "          (thresh, select_X_train.shape[1], accuracy*100.0))"
   ]
  },
  {
   "cell_type": "markdown",
   "metadata": {},
   "source": [
    "Есть еще способ, как получить значимость признаков, используя plot_importance\n",
    "\n",
    "Рассчитаем 2 типа значимости признаков:\n",
    "Вес = количество раз, когда признак появляется в дереве\n",
    "Прирост = средний прирост ветвлений, в которых используется признак = усреднение всех значений прироста для признака, если он появляется несколько раз\n",
    "Нормализованный прирост = доля среднего прироста от общего среднего прироста"
   ]
  },
  {
   "cell_type": "code",
   "execution_count": 123,
   "metadata": {},
   "outputs": [
    {
     "data": {
      "text/html": [
       "<div>\n",
       "<style scoped>\n",
       "    .dataframe tbody tr th:only-of-type {\n",
       "        vertical-align: middle;\n",
       "    }\n",
       "\n",
       "    .dataframe tbody tr th {\n",
       "        vertical-align: top;\n",
       "    }\n",
       "\n",
       "    .dataframe thead th {\n",
       "        text-align: right;\n",
       "    }\n",
       "</style>\n",
       "<table border=\"1\" class=\"dataframe\">\n",
       "  <thead>\n",
       "    <tr style=\"text-align: right;\">\n",
       "      <th></th>\n",
       "      <th>feature_importance_gain</th>\n",
       "    </tr>\n",
       "    <tr>\n",
       "      <th>Feature</th>\n",
       "      <th></th>\n",
       "    </tr>\n",
       "  </thead>\n",
       "  <tbody>\n",
       "    <tr>\n",
       "      <th>responsecode</th>\n",
       "      <td>98.743981</td>\n",
       "    </tr>\n",
       "    <tr>\n",
       "      <th>is_client_local</th>\n",
       "      <td>18.432668</td>\n",
       "    </tr>\n",
       "    <tr>\n",
       "      <th>al_LIFETIME_BIN</th>\n",
       "      <td>16.402518</td>\n",
       "    </tr>\n",
       "    <tr>\n",
       "      <th>al_issue_M</th>\n",
       "      <td>15.141116</td>\n",
       "    </tr>\n",
       "    <tr>\n",
       "      <th>al_amount</th>\n",
       "      <td>9.900075</td>\n",
       "    </tr>\n",
       "    <tr>\n",
       "      <th>potreb_active_tot</th>\n",
       "      <td>8.603562</td>\n",
       "    </tr>\n",
       "    <tr>\n",
       "      <th>psp_issue_rgn</th>\n",
       "      <td>8.400461</td>\n",
       "    </tr>\n",
       "    <tr>\n",
       "      <th>pdl_closed_tot</th>\n",
       "      <td>7.937999</td>\n",
       "    </tr>\n",
       "    <tr>\n",
       "      <th>al_SCORE2</th>\n",
       "      <td>7.628205</td>\n",
       "    </tr>\n",
       "    <tr>\n",
       "      <th>pdl_tot</th>\n",
       "      <td>7.195699</td>\n",
       "    </tr>\n",
       "    <tr>\n",
       "      <th>pdl_delay5_cnt</th>\n",
       "      <td>7.143201</td>\n",
       "    </tr>\n",
       "    <tr>\n",
       "      <th>al_BLOCK_DUR</th>\n",
       "      <td>6.283585</td>\n",
       "    </tr>\n",
       "    <tr>\n",
       "      <th>al_ALL_CLC</th>\n",
       "      <td>6.254842</td>\n",
       "    </tr>\n",
       "    <tr>\n",
       "      <th>pdl_delay90_avg</th>\n",
       "      <td>5.720990</td>\n",
       "    </tr>\n",
       "    <tr>\n",
       "      <th>potreb_tot</th>\n",
       "      <td>5.295203</td>\n",
       "    </tr>\n",
       "    <tr>\n",
       "      <th>age</th>\n",
       "      <td>5.174257</td>\n",
       "    </tr>\n",
       "    <tr>\n",
       "      <th>sex</th>\n",
       "      <td>4.941970</td>\n",
       "    </tr>\n",
       "    <tr>\n",
       "      <th>potreb_closed_tot</th>\n",
       "      <td>4.614367</td>\n",
       "    </tr>\n",
       "    <tr>\n",
       "      <th>avg_pdl_amount</th>\n",
       "      <td>4.196868</td>\n",
       "    </tr>\n",
       "    <tr>\n",
       "      <th>pdl_delay_more_avg</th>\n",
       "      <td>4.106477</td>\n",
       "    </tr>\n",
       "    <tr>\n",
       "      <th>has_snils</th>\n",
       "      <td>4.012819</td>\n",
       "    </tr>\n",
       "    <tr>\n",
       "      <th>pdl_delay60_cnt</th>\n",
       "      <td>3.810393</td>\n",
       "    </tr>\n",
       "    <tr>\n",
       "      <th>has_resold_credits</th>\n",
       "      <td>3.599233</td>\n",
       "    </tr>\n",
       "    <tr>\n",
       "      <th>al_PAY_MAX</th>\n",
       "      <td>3.158080</td>\n",
       "    </tr>\n",
       "    <tr>\n",
       "      <th>potreb_other_states_tot</th>\n",
       "      <td>3.060167</td>\n",
       "    </tr>\n",
       "    <tr>\n",
       "      <th>pdl_delay90_cnt</th>\n",
       "      <td>3.035390</td>\n",
       "    </tr>\n",
       "    <tr>\n",
       "      <th>pdl_active_tot</th>\n",
       "      <td>2.767294</td>\n",
       "    </tr>\n",
       "    <tr>\n",
       "      <th>pdl_own_share</th>\n",
       "      <td>2.049602</td>\n",
       "    </tr>\n",
       "    <tr>\n",
       "      <th>al_CIRCLE</th>\n",
       "      <td>1.485818</td>\n",
       "    </tr>\n",
       "    <tr>\n",
       "      <th>avg_pdl_full_cost</th>\n",
       "      <td>1.152056</td>\n",
       "    </tr>\n",
       "  </tbody>\n",
       "</table>\n",
       "</div>"
      ],
      "text/plain": [
       "                         feature_importance_gain\n",
       "Feature                                         \n",
       "responsecode                           98.743981\n",
       "is_client_local                        18.432668\n",
       "al_LIFETIME_BIN                        16.402518\n",
       "al_issue_M                             15.141116\n",
       "al_amount                               9.900075\n",
       "potreb_active_tot                       8.603562\n",
       "psp_issue_rgn                           8.400461\n",
       "pdl_closed_tot                          7.937999\n",
       "al_SCORE2                               7.628205\n",
       "pdl_tot                                 7.195699\n",
       "pdl_delay5_cnt                          7.143201\n",
       "al_BLOCK_DUR                            6.283585\n",
       "al_ALL_CLC                              6.254842\n",
       "pdl_delay90_avg                         5.720990\n",
       "potreb_tot                              5.295203\n",
       "age                                     5.174257\n",
       "sex                                     4.941970\n",
       "potreb_closed_tot                       4.614367\n",
       "avg_pdl_amount                          4.196868\n",
       "pdl_delay_more_avg                      4.106477\n",
       "has_snils                               4.012819\n",
       "pdl_delay60_cnt                         3.810393\n",
       "has_resold_credits                      3.599233\n",
       "al_PAY_MAX                              3.158080\n",
       "potreb_other_states_tot                 3.060167\n",
       "pdl_delay90_cnt                         3.035390\n",
       "pdl_active_tot                          2.767294\n",
       "pdl_own_share                           2.049602\n",
       "al_CIRCLE                               1.485818\n",
       "avg_pdl_full_cost                       1.152056"
      ]
     },
     "execution_count": 123,
     "metadata": {},
     "output_type": "execute_result"
    }
   ],
   "source": [
    "k = model.get_booster().trees_to_dataframe()\n",
    "group = k[k['Feature']!='Leaf'].groupby('Feature').agg(fscore = ('Gain', 'count'),\n",
    "feature_importance_gain = ('Gain', 'mean'))\n",
    "\n",
    "# значимость признаков такая же как в plot_importance(importance_type = ‘weight’), значение по умолчанию\n",
    "group['fscore'].sort_values(ascending=False)\n",
    "\n",
    "# значимость признаков такая же как в model.feature_importance_ default = ‘gain’\n",
    "group['feature_importance_gain_norm'] = group['feature_importance_gain']/group['feature_importance_gain'].sum()\n",
    "group[['feature_importance_gain_norm']].sort_values(by='feature_importance_gain_norm', ascending=False)\n",
    "\n",
    "\n",
    "# значимость признаков такая же как в plot_importance(importance_type = ‘gain’)\n",
    "group[['feature_importance_gain']].sort_values(by='feature_importance_gain', ascending=False)"
   ]
  },
  {
   "cell_type": "code",
   "execution_count": 124,
   "metadata": {
    "scrolled": true
   },
   "outputs": [
    {
     "data": {
      "text/html": [
       "<div>\n",
       "<style scoped>\n",
       "    .dataframe tbody tr th:only-of-type {\n",
       "        vertical-align: middle;\n",
       "    }\n",
       "\n",
       "    .dataframe tbody tr th {\n",
       "        vertical-align: top;\n",
       "    }\n",
       "\n",
       "    .dataframe thead th {\n",
       "        text-align: right;\n",
       "    }\n",
       "</style>\n",
       "<table border=\"1\" class=\"dataframe\">\n",
       "  <thead>\n",
       "    <tr style=\"text-align: right;\">\n",
       "      <th></th>\n",
       "      <th>feature_importance_gain_norm</th>\n",
       "    </tr>\n",
       "    <tr>\n",
       "      <th>Feature</th>\n",
       "      <th></th>\n",
       "    </tr>\n",
       "  </thead>\n",
       "  <tbody>\n",
       "    <tr>\n",
       "      <th>responsecode</th>\n",
       "      <td>0.352344</td>\n",
       "    </tr>\n",
       "    <tr>\n",
       "      <th>is_client_local</th>\n",
       "      <td>0.065772</td>\n",
       "    </tr>\n",
       "    <tr>\n",
       "      <th>al_LIFETIME_BIN</th>\n",
       "      <td>0.058528</td>\n",
       "    </tr>\n",
       "    <tr>\n",
       "      <th>al_issue_M</th>\n",
       "      <td>0.054027</td>\n",
       "    </tr>\n",
       "    <tr>\n",
       "      <th>al_amount</th>\n",
       "      <td>0.035326</td>\n",
       "    </tr>\n",
       "    <tr>\n",
       "      <th>potreb_active_tot</th>\n",
       "      <td>0.030700</td>\n",
       "    </tr>\n",
       "    <tr>\n",
       "      <th>psp_issue_rgn</th>\n",
       "      <td>0.029975</td>\n",
       "    </tr>\n",
       "    <tr>\n",
       "      <th>pdl_closed_tot</th>\n",
       "      <td>0.028325</td>\n",
       "    </tr>\n",
       "    <tr>\n",
       "      <th>al_SCORE2</th>\n",
       "      <td>0.027219</td>\n",
       "    </tr>\n",
       "    <tr>\n",
       "      <th>pdl_tot</th>\n",
       "      <td>0.025676</td>\n",
       "    </tr>\n",
       "    <tr>\n",
       "      <th>pdl_delay5_cnt</th>\n",
       "      <td>0.025489</td>\n",
       "    </tr>\n",
       "    <tr>\n",
       "      <th>al_BLOCK_DUR</th>\n",
       "      <td>0.022421</td>\n",
       "    </tr>\n",
       "    <tr>\n",
       "      <th>al_ALL_CLC</th>\n",
       "      <td>0.022319</td>\n",
       "    </tr>\n",
       "    <tr>\n",
       "      <th>pdl_delay90_avg</th>\n",
       "      <td>0.020414</td>\n",
       "    </tr>\n",
       "    <tr>\n",
       "      <th>potreb_tot</th>\n",
       "      <td>0.018895</td>\n",
       "    </tr>\n",
       "    <tr>\n",
       "      <th>age</th>\n",
       "      <td>0.018463</td>\n",
       "    </tr>\n",
       "    <tr>\n",
       "      <th>sex</th>\n",
       "      <td>0.017634</td>\n",
       "    </tr>\n",
       "    <tr>\n",
       "      <th>potreb_closed_tot</th>\n",
       "      <td>0.016465</td>\n",
       "    </tr>\n",
       "    <tr>\n",
       "      <th>avg_pdl_amount</th>\n",
       "      <td>0.014976</td>\n",
       "    </tr>\n",
       "    <tr>\n",
       "      <th>pdl_delay_more_avg</th>\n",
       "      <td>0.014653</td>\n",
       "    </tr>\n",
       "    <tr>\n",
       "      <th>has_snils</th>\n",
       "      <td>0.014319</td>\n",
       "    </tr>\n",
       "    <tr>\n",
       "      <th>pdl_delay60_cnt</th>\n",
       "      <td>0.013596</td>\n",
       "    </tr>\n",
       "    <tr>\n",
       "      <th>has_resold_credits</th>\n",
       "      <td>0.012843</td>\n",
       "    </tr>\n",
       "    <tr>\n",
       "      <th>al_PAY_MAX</th>\n",
       "      <td>0.011269</td>\n",
       "    </tr>\n",
       "    <tr>\n",
       "      <th>potreb_other_states_tot</th>\n",
       "      <td>0.010919</td>\n",
       "    </tr>\n",
       "    <tr>\n",
       "      <th>pdl_delay90_cnt</th>\n",
       "      <td>0.010831</td>\n",
       "    </tr>\n",
       "    <tr>\n",
       "      <th>pdl_active_tot</th>\n",
       "      <td>0.009874</td>\n",
       "    </tr>\n",
       "    <tr>\n",
       "      <th>pdl_own_share</th>\n",
       "      <td>0.007314</td>\n",
       "    </tr>\n",
       "    <tr>\n",
       "      <th>al_CIRCLE</th>\n",
       "      <td>0.005302</td>\n",
       "    </tr>\n",
       "    <tr>\n",
       "      <th>avg_pdl_full_cost</th>\n",
       "      <td>0.004111</td>\n",
       "    </tr>\n",
       "  </tbody>\n",
       "</table>\n",
       "</div>"
      ],
      "text/plain": [
       "                         feature_importance_gain_norm\n",
       "Feature                                              \n",
       "responsecode                                 0.352344\n",
       "is_client_local                              0.065772\n",
       "al_LIFETIME_BIN                              0.058528\n",
       "al_issue_M                                   0.054027\n",
       "al_amount                                    0.035326\n",
       "potreb_active_tot                            0.030700\n",
       "psp_issue_rgn                                0.029975\n",
       "pdl_closed_tot                               0.028325\n",
       "al_SCORE2                                    0.027219\n",
       "pdl_tot                                      0.025676\n",
       "pdl_delay5_cnt                               0.025489\n",
       "al_BLOCK_DUR                                 0.022421\n",
       "al_ALL_CLC                                   0.022319\n",
       "pdl_delay90_avg                              0.020414\n",
       "potreb_tot                                   0.018895\n",
       "age                                          0.018463\n",
       "sex                                          0.017634\n",
       "potreb_closed_tot                            0.016465\n",
       "avg_pdl_amount                               0.014976\n",
       "pdl_delay_more_avg                           0.014653\n",
       "has_snils                                    0.014319\n",
       "pdl_delay60_cnt                              0.013596\n",
       "has_resold_credits                           0.012843\n",
       "al_PAY_MAX                                   0.011269\n",
       "potreb_other_states_tot                      0.010919\n",
       "pdl_delay90_cnt                              0.010831\n",
       "pdl_active_tot                               0.009874\n",
       "pdl_own_share                                0.007314\n",
       "al_CIRCLE                                    0.005302\n",
       "avg_pdl_full_cost                            0.004111"
      ]
     },
     "execution_count": 124,
     "metadata": {},
     "output_type": "execute_result"
    }
   ],
   "source": [
    "group[['feature_importance_gain_norm']].sort_values(by='feature_importance_gain_norm', ascending=False)"
   ]
  },
  {
   "cell_type": "markdown",
   "metadata": {},
   "source": [
    "На основе полученных данных о значимости признаков, можно сделать еще одно преобразование датасета, а именно удалить незначимые признаки, но из-за ограниченности времени оставим эту задачу как точку роста для модели"
   ]
  },
  {
   "cell_type": "markdown",
   "metadata": {},
   "source": [
    "## Подбор гиперпараметров"
   ]
  },
  {
   "cell_type": "markdown",
   "metadata": {},
   "source": [
    "попробуем улучшить качество нашей модели с помощью подбора гиперпараметров, для этого будем использовать GridSearch и Hyperopt"
   ]
  },
  {
   "cell_type": "markdown",
   "metadata": {},
   "source": [
    "### GridSearch"
   ]
  },
  {
   "cell_type": "code",
   "execution_count": 125,
   "metadata": {
    "scrolled": true
   },
   "outputs": [
    {
     "name": "stdout",
     "output_type": "stream",
     "text": [
      "Best: -0.508337 using {'learning_rate': 0.1, 'max_depth': 4, 'n_estimators': 100}\n",
      "-0.691744 (0.000083) with: {'learning_rate': 0.0001, 'max_depth': 2, 'n_estimators': 50}\n",
      "-0.690354 (0.000166) with: {'learning_rate': 0.0001, 'max_depth': 2, 'n_estimators': 100}\n",
      "-0.688978 (0.000248) with: {'learning_rate': 0.0001, 'max_depth': 2, 'n_estimators': 150}\n",
      "-0.687617 (0.000331) with: {'learning_rate': 0.0001, 'max_depth': 2, 'n_estimators': 200}\n",
      "-0.691642 (0.000086) with: {'learning_rate': 0.0001, 'max_depth': 4, 'n_estimators': 50}\n",
      "-0.690151 (0.000171) with: {'learning_rate': 0.0001, 'max_depth': 4, 'n_estimators': 100}\n",
      "-0.688675 (0.000254) with: {'learning_rate': 0.0001, 'max_depth': 4, 'n_estimators': 150}\n",
      "-0.687214 (0.000336) with: {'learning_rate': 0.0001, 'max_depth': 4, 'n_estimators': 200}\n",
      "-0.691586 (0.000086) with: {'learning_rate': 0.0001, 'max_depth': 6, 'n_estimators': 50}\n",
      "-0.690046 (0.000169) with: {'learning_rate': 0.0001, 'max_depth': 6, 'n_estimators': 100}\n",
      "-0.688523 (0.000251) with: {'learning_rate': 0.0001, 'max_depth': 6, 'n_estimators': 150}\n",
      "-0.687018 (0.000332) with: {'learning_rate': 0.0001, 'max_depth': 6, 'n_estimators': 200}\n",
      "-0.691550 (0.000095) with: {'learning_rate': 0.0001, 'max_depth': 8, 'n_estimators': 50}\n",
      "-0.689976 (0.000185) with: {'learning_rate': 0.0001, 'max_depth': 8, 'n_estimators': 100}\n",
      "-0.688419 (0.000276) with: {'learning_rate': 0.0001, 'max_depth': 8, 'n_estimators': 150}\n",
      "-0.686879 (0.000367) with: {'learning_rate': 0.0001, 'max_depth': 8, 'n_estimators': 200}\n",
      "-0.679723 (0.000824) with: {'learning_rate': 0.001, 'max_depth': 2, 'n_estimators': 50}\n",
      "-0.667580 (0.001606) with: {'learning_rate': 0.001, 'max_depth': 2, 'n_estimators': 100}\n",
      "-0.656552 (0.002357) with: {'learning_rate': 0.001, 'max_depth': 2, 'n_estimators': 150}\n",
      "-0.646483 (0.003056) with: {'learning_rate': 0.001, 'max_depth': 2, 'n_estimators': 200}\n",
      "-0.678745 (0.000819) with: {'learning_rate': 0.001, 'max_depth': 4, 'n_estimators': 50}\n",
      "-0.665655 (0.001581) with: {'learning_rate': 0.001, 'max_depth': 4, 'n_estimators': 100}\n",
      "-0.653773 (0.002357) with: {'learning_rate': 0.001, 'max_depth': 4, 'n_estimators': 150}\n",
      "-0.642957 (0.003088) with: {'learning_rate': 0.001, 'max_depth': 4, 'n_estimators': 200}\n",
      "-0.678319 (0.000803) with: {'learning_rate': 0.001, 'max_depth': 6, 'n_estimators': 50}\n",
      "-0.664892 (0.001565) with: {'learning_rate': 0.001, 'max_depth': 6, 'n_estimators': 100}\n",
      "-0.652624 (0.002314) with: {'learning_rate': 0.001, 'max_depth': 6, 'n_estimators': 150}\n",
      "-0.641442 (0.003044) with: {'learning_rate': 0.001, 'max_depth': 6, 'n_estimators': 200}\n",
      "-0.678003 (0.000895) with: {'learning_rate': 0.001, 'max_depth': 8, 'n_estimators': 50}\n",
      "-0.664374 (0.001676) with: {'learning_rate': 0.001, 'max_depth': 8, 'n_estimators': 100}\n",
      "-0.652010 (0.002405) with: {'learning_rate': 0.001, 'max_depth': 8, 'n_estimators': 150}\n",
      "-0.640712 (0.003170) with: {'learning_rate': 0.001, 'max_depth': 8, 'n_estimators': 200}\n",
      "-0.601903 (0.006829) with: {'learning_rate': 0.01, 'max_depth': 2, 'n_estimators': 50}\n",
      "-0.564630 (0.011445) with: {'learning_rate': 0.01, 'max_depth': 2, 'n_estimators': 100}\n",
      "-0.548330 (0.014586) with: {'learning_rate': 0.01, 'max_depth': 2, 'n_estimators': 150}\n",
      "-0.539618 (0.016069) with: {'learning_rate': 0.01, 'max_depth': 2, 'n_estimators': 200}\n",
      "-0.594637 (0.007071) with: {'learning_rate': 0.01, 'max_depth': 4, 'n_estimators': 50}\n",
      "-0.553336 (0.011899) with: {'learning_rate': 0.01, 'max_depth': 4, 'n_estimators': 100}\n",
      "-0.534281 (0.015344) with: {'learning_rate': 0.01, 'max_depth': 4, 'n_estimators': 150}\n",
      "-0.524506 (0.017902) with: {'learning_rate': 0.01, 'max_depth': 4, 'n_estimators': 200}\n",
      "-0.591238 (0.006825) with: {'learning_rate': 0.01, 'max_depth': 6, 'n_estimators': 50}\n",
      "-0.547635 (0.011904) with: {'learning_rate': 0.01, 'max_depth': 6, 'n_estimators': 100}\n",
      "-0.528757 (0.015159) with: {'learning_rate': 0.01, 'max_depth': 6, 'n_estimators': 150}\n",
      "-0.520545 (0.017890) with: {'learning_rate': 0.01, 'max_depth': 6, 'n_estimators': 200}\n",
      "-0.590242 (0.007119) with: {'learning_rate': 0.01, 'max_depth': 8, 'n_estimators': 50}\n",
      "-0.547259 (0.011518) with: {'learning_rate': 0.01, 'max_depth': 8, 'n_estimators': 100}\n",
      "-0.529067 (0.014613) with: {'learning_rate': 0.01, 'max_depth': 8, 'n_estimators': 150}\n",
      "-0.522326 (0.016872) with: {'learning_rate': 0.01, 'max_depth': 8, 'n_estimators': 200}\n",
      "-0.520172 (0.019284) with: {'learning_rate': 0.1, 'max_depth': 2, 'n_estimators': 50}\n",
      "-0.513195 (0.021168) with: {'learning_rate': 0.1, 'max_depth': 2, 'n_estimators': 100}\n",
      "-0.510826 (0.021640) with: {'learning_rate': 0.1, 'max_depth': 2, 'n_estimators': 150}\n",
      "-0.510089 (0.021782) with: {'learning_rate': 0.1, 'max_depth': 2, 'n_estimators': 200}\n",
      "-0.509854 (0.023242) with: {'learning_rate': 0.1, 'max_depth': 4, 'n_estimators': 50}\n",
      "-0.508337 (0.023832) with: {'learning_rate': 0.1, 'max_depth': 4, 'n_estimators': 100}\n",
      "-0.510467 (0.024232) with: {'learning_rate': 0.1, 'max_depth': 4, 'n_estimators': 150}\n",
      "-0.513650 (0.024043) with: {'learning_rate': 0.1, 'max_depth': 4, 'n_estimators': 200}\n",
      "-0.512712 (0.023736) with: {'learning_rate': 0.1, 'max_depth': 6, 'n_estimators': 50}\n",
      "-0.516794 (0.024350) with: {'learning_rate': 0.1, 'max_depth': 6, 'n_estimators': 100}\n",
      "-0.522924 (0.025438) with: {'learning_rate': 0.1, 'max_depth': 6, 'n_estimators': 150}\n",
      "-0.529791 (0.026454) with: {'learning_rate': 0.1, 'max_depth': 6, 'n_estimators': 200}\n",
      "-0.522785 (0.022350) with: {'learning_rate': 0.1, 'max_depth': 8, 'n_estimators': 50}\n",
      "-0.532157 (0.024753) with: {'learning_rate': 0.1, 'max_depth': 8, 'n_estimators': 100}\n",
      "-0.544302 (0.025400) with: {'learning_rate': 0.1, 'max_depth': 8, 'n_estimators': 150}\n",
      "-0.556121 (0.027728) with: {'learning_rate': 0.1, 'max_depth': 8, 'n_estimators': 200}\n",
      "-0.512756 (0.021613) with: {'learning_rate': 0.2, 'max_depth': 2, 'n_estimators': 50}\n",
      "-0.510120 (0.021971) with: {'learning_rate': 0.2, 'max_depth': 2, 'n_estimators': 100}\n",
      "-0.510417 (0.023040) with: {'learning_rate': 0.2, 'max_depth': 2, 'n_estimators': 150}\n",
      "-0.511054 (0.023005) with: {'learning_rate': 0.2, 'max_depth': 2, 'n_estimators': 200}\n",
      "-0.509867 (0.022539) with: {'learning_rate': 0.2, 'max_depth': 4, 'n_estimators': 50}\n",
      "-0.514807 (0.022557) with: {'learning_rate': 0.2, 'max_depth': 4, 'n_estimators': 100}\n",
      "-0.521865 (0.024084) with: {'learning_rate': 0.2, 'max_depth': 4, 'n_estimators': 150}\n",
      "-0.530486 (0.025722) with: {'learning_rate': 0.2, 'max_depth': 4, 'n_estimators': 200}\n",
      "-0.520175 (0.025048) with: {'learning_rate': 0.2, 'max_depth': 6, 'n_estimators': 50}\n",
      "-0.534321 (0.024690) with: {'learning_rate': 0.2, 'max_depth': 6, 'n_estimators': 100}\n",
      "-0.551579 (0.025523) with: {'learning_rate': 0.2, 'max_depth': 6, 'n_estimators': 150}\n",
      "-0.569262 (0.028075) with: {'learning_rate': 0.2, 'max_depth': 6, 'n_estimators': 200}\n",
      "-0.537426 (0.023005) with: {'learning_rate': 0.2, 'max_depth': 8, 'n_estimators': 50}\n",
      "-0.564434 (0.024171) with: {'learning_rate': 0.2, 'max_depth': 8, 'n_estimators': 100}\n",
      "-0.592541 (0.027296) with: {'learning_rate': 0.2, 'max_depth': 8, 'n_estimators': 150}\n",
      "-0.622410 (0.030029) with: {'learning_rate': 0.2, 'max_depth': 8, 'n_estimators': 200}\n",
      "-0.510684 (0.022228) with: {'learning_rate': 0.3, 'max_depth': 2, 'n_estimators': 50}\n",
      "-0.510339 (0.022864) with: {'learning_rate': 0.3, 'max_depth': 2, 'n_estimators': 100}\n",
      "-0.511767 (0.024327) with: {'learning_rate': 0.3, 'max_depth': 2, 'n_estimators': 150}\n",
      "-0.514400 (0.024563) with: {'learning_rate': 0.3, 'max_depth': 2, 'n_estimators': 200}\n",
      "-0.512543 (0.025655) with: {'learning_rate': 0.3, 'max_depth': 4, 'n_estimators': 50}\n",
      "-0.525963 (0.027641) with: {'learning_rate': 0.3, 'max_depth': 4, 'n_estimators': 100}\n",
      "-0.541011 (0.027838) with: {'learning_rate': 0.3, 'max_depth': 4, 'n_estimators': 150}\n",
      "-0.553188 (0.031242) with: {'learning_rate': 0.3, 'max_depth': 4, 'n_estimators': 200}\n",
      "-0.533519 (0.025683) with: {'learning_rate': 0.3, 'max_depth': 6, 'n_estimators': 50}\n",
      "-0.559394 (0.031582) with: {'learning_rate': 0.3, 'max_depth': 6, 'n_estimators': 100}\n",
      "-0.583756 (0.031706) with: {'learning_rate': 0.3, 'max_depth': 6, 'n_estimators': 150}\n",
      "-0.610985 (0.032604) with: {'learning_rate': 0.3, 'max_depth': 6, 'n_estimators': 200}\n",
      "-0.561559 (0.028289) with: {'learning_rate': 0.3, 'max_depth': 8, 'n_estimators': 50}\n",
      "-0.606786 (0.035522) with: {'learning_rate': 0.3, 'max_depth': 8, 'n_estimators': 100}\n",
      "-0.655595 (0.042567) with: {'learning_rate': 0.3, 'max_depth': 8, 'n_estimators': 150}\n",
      "-0.695327 (0.042568) with: {'learning_rate': 0.3, 'max_depth': 8, 'n_estimators': 200}\n"
     ]
    }
   ],
   "source": [
    "model = XGBClassifier()\n",
    "learning_rate = [0.0001, 0.001, 0.01, 0.1, 0.2, 0.3]\n",
    "n_estimators = [50, 100, 150, 200]\n",
    "max_depth = [2, 4, 6, 8]\n",
    "param_grid = dict(learning_rate=learning_rate, max_depth=max_depth, n_estimators=n_estimators)\n",
    "kfold = StratifiedKFold(n_splits=10, shuffle=True, random_state=7)\n",
    "grid_search = GridSearchCV(model, param_grid, scoring=\"neg_log_loss\", n_jobs=-1, cv=kfold)\n",
    "grid_result = grid_search.fit(X, Y)\n",
    "print(\"Best: %f using %s\" % (grid_result.best_score_, grid_result.best_params_))\n",
    "means = grid_result.cv_results_['mean_test_score']\n",
    "stds = grid_result.cv_results_['std_test_score']\n",
    "params = grid_result.cv_results_['params']\n",
    "for mean, stdev, param in zip(means, stds, params):\n",
    "    print(\"%f (%f) with: %r\" % (mean, stdev, param))"
   ]
  },
  {
   "cell_type": "markdown",
   "metadata": {},
   "source": [
    "запустим модель с подобранными с помощью GridSearch гиперпараметрами и оценим accuracy и roc_auc"
   ]
  },
  {
   "cell_type": "code",
   "execution_count": 126,
   "metadata": {},
   "outputs": [
    {
     "name": "stdout",
     "output_type": "stream",
     "text": [
      "Accuracy: 76.92%\n"
     ]
    }
   ],
   "source": [
    "seed = 7\n",
    "test_size = 0.33\n",
    "X_train, X_test, y_train, y_test = train_test_split(X, Y, test_size=test_size, random_state=seed)\n",
    "# обучаем модель на тренировочной выбор\n",
    "model = XGBClassifier(learning_rate=0.1, max_depth=4, n_estimators=100)\n",
    "model.fit(X_train, y_train)\n",
    "# делаем предсказание на тестовой выборке\n",
    "predictions = model.predict(X_test)\n",
    "# оцениваем предсказания\n",
    "accuracy = accuracy_score(y_test, predictions)\n",
    "print(\"Accuracy: %.2f%%\" % (accuracy * 100.0))"
   ]
  },
  {
   "cell_type": "code",
   "execution_count": 127,
   "metadata": {
    "scrolled": true
   },
   "outputs": [
    {
     "name": "stdout",
     "output_type": "stream",
     "text": [
      "Roc_auc: 76.50%\n"
     ]
    }
   ],
   "source": [
    "roc_auc = roc_auc_score(y_test, predictions)\n",
    "print(\"Roc_auc: %.2f%%\" % (roc_auc * 100.0))"
   ]
  },
  {
   "cell_type": "markdown",
   "metadata": {},
   "source": [
    "с подобранными ГП с помощью gridsearch результат ухудшился"
   ]
  },
  {
   "cell_type": "markdown",
   "metadata": {},
   "source": [
    "### Hyperopt"
   ]
  },
  {
   "cell_type": "markdown",
   "metadata": {},
   "source": [
    "проделаем те же шаги (подбор ГП и запуск модели с подобранными ГП) для Hyperopt"
   ]
  },
  {
   "cell_type": "code",
   "execution_count": 139,
   "metadata": {
    "scrolled": false
   },
   "outputs": [
    {
     "name": "stdout",
     "output_type": "stream",
     "text": [
      "0.743748004186827                                     \n",
      "{'booster': 'gbtree', 'colsample_bytree': 0.6000000000000001, 'eta': 0.275, 'eval_metric': 'auc', 'gamma': 0.9, 'max_depth': 5, 'min_child_weight': 4.0, 'n_estimators': 575, 'objective': 'binary:logistic', 'silent': 1, 'subsample': 0.8, 'tree_method': 'exact'}\n",
      "0.7410319827605855                                                              \n",
      "{'booster': 'gbtree', 'colsample_bytree': 0.9500000000000001, 'eta': 0.42500000000000004, 'eval_metric': 'auc', 'gamma': 0.9, 'max_depth': 12, 'min_child_weight': 1.0, 'n_estimators': 261, 'objective': 'binary:logistic', 'silent': 1, 'subsample': 0.8500000000000001, 'tree_method': 'exact'}\n",
      "0.7413185956239277                                                              \n",
      "{'booster': 'gbtree', 'colsample_bytree': 0.8500000000000001, 'eta': 0.17500000000000002, 'eval_metric': 'auc', 'gamma': 0.9, 'max_depth': 9, 'min_child_weight': 2.0, 'n_estimators': 238, 'objective': 'binary:logistic', 'silent': 1, 'subsample': 0.7000000000000001, 'tree_method': 'exact'}\n",
      "0.7613256194158587                                                              \n",
      "{'booster': 'gbtree', 'colsample_bytree': 0.9500000000000001, 'eta': 0.35000000000000003, 'eval_metric': 'auc', 'gamma': 0.6000000000000001, 'max_depth': 2, 'min_child_weight': 2.0, 'n_estimators': 915, 'objective': 'binary:logistic', 'silent': 1, 'subsample': 0.5, 'tree_method': 'exact'}\n",
      "0.7638977829961987                                                               \n",
      "{'booster': 'gbtree', 'colsample_bytree': 1.0, 'eta': 0.4, 'eval_metric': 'auc', 'gamma': 0.9, 'max_depth': 1, 'min_child_weight': 5.0, 'n_estimators': 410, 'objective': 'binary:logistic', 'silent': 1, 'subsample': 0.6000000000000001, 'tree_method': 'exact'}\n",
      "0.7254534279217051                                                               \n",
      "{'booster': 'gbtree', 'colsample_bytree': 0.55, 'eta': 0.5, 'eval_metric': 'auc', 'gamma': 0.6000000000000001, 'max_depth': 12, 'min_child_weight': 3.0, 'n_estimators': 937, 'objective': 'binary:logistic', 'silent': 1, 'subsample': 0.65, 'tree_method': 'exact'}\n",
      "0.7383173092357963                                                               \n",
      "{'booster': 'gbtree', 'colsample_bytree': 0.9500000000000001, 'eta': 0.2, 'eval_metric': 'auc', 'gamma': 1.0, 'max_depth': 8, 'min_child_weight': 4.0, 'n_estimators': 319, 'objective': 'binary:logistic', 'silent': 1, 'subsample': 0.65, 'tree_method': 'exact'}\n",
      "0.7600394763574408                                                               \n",
      "{'booster': 'gbtree', 'colsample_bytree': 0.5, 'eta': 0.47500000000000003, 'eval_metric': 'auc', 'gamma': 0.55, 'max_depth': 4, 'min_child_weight': 2.0, 'n_estimators': 151, 'objective': 'binary:logistic', 'silent': 1, 'subsample': 0.55, 'tree_method': 'exact'}\n",
      "0.730028327987066                                                                \n",
      "{'booster': 'gbtree', 'colsample_bytree': 0.55, 'eta': 0.15000000000000002, 'eval_metric': 'auc', 'gamma': 0.8500000000000001, 'max_depth': 9, 'min_child_weight': 2.0, 'n_estimators': 942, 'objective': 'binary:logistic', 'silent': 1, 'subsample': 0.75, 'tree_method': 'exact'}\n",
      "0.7334578794275193                                                               \n",
      "{'booster': 'gbtree', 'colsample_bytree': 0.6000000000000001, 'eta': 0.45, 'eval_metric': 'auc', 'gamma': 0.65, 'max_depth': 10, 'min_child_weight': 3.0, 'n_estimators': 497, 'objective': 'binary:logistic', 'silent': 1, 'subsample': 0.9500000000000001, 'tree_method': 'exact'}\n",
      "100%|██████████| 10/10 [03:11<00:00, 19.13s/trial, best loss: -0.7638977829961987]\n",
      "best:\n",
      "{'colsample_bytree': 1.0, 'eta': 0.4, 'gamma': 0.9, 'max_depth': 0, 'min_child_weight': 5.0, 'n_estimators': 310, 'subsample': 0.6000000000000001}\n"
     ]
    }
   ],
   "source": [
    "def hyperopt_xgb_score(params):\n",
    "    clf = XGBClassifier(**params)\n",
    "    # усреднение по 3ем фолдам, для уменьшения влияния стохастичности\n",
    "    # для ускорения можно использовать train_test_split один раз\n",
    "    current_score = cross_val_score(clf, X, Y, cv=3).mean()\n",
    "    print(current_score, params)\n",
    "    return -current_score\n",
    "\n",
    "\n",
    "space_xgb2 = {\n",
    "    'n_estimators': hp.choice('n_estimators', range(100, 1000)),\n",
    "    'eta': hp.quniform('eta', 0.025, 0.5, 0.025),\n",
    "    'max_depth':  hp.choice('max_depth', np.arange(1, 14, dtype=int)),\n",
    "    'min_child_weight': hp.quniform('min_child_weight', 1, 6, 1),\n",
    "    'subsample': hp.quniform('subsample', 0.5, 1, 0.05),\n",
    "    'gamma': hp.quniform('gamma', 0.5, 1, 0.05),\n",
    "    'colsample_bytree': hp.quniform('colsample_bytree', 0.5, 1, 0.05),\n",
    "    'eval_metric': 'auc',\n",
    "    'objective': 'binary:logistic',\n",
    "    # 'nthread': 4,\n",
    "    'booster': 'gbtree',\n",
    "    'tree_method': 'exact',\n",
    "    'silent': 1\n",
    "}\n",
    "\n",
    "best = fmin(fn=hyperopt_xgb_score, space=space_xgb2,\n",
    "            algo=tpe.suggest, max_evals=10)\n",
    "print('best:')\n",
    "print(best)"
   ]
  },
  {
   "cell_type": "markdown",
   "metadata": {},
   "source": [
    "извлечем лучшие ГП (а не их индексы) с помощью space_eval"
   ]
  },
  {
   "cell_type": "code",
   "execution_count": 141,
   "metadata": {},
   "outputs": [],
   "source": [
    "from hyperopt import space_eval"
   ]
  },
  {
   "cell_type": "code",
   "execution_count": 144,
   "metadata": {
    "scrolled": true
   },
   "outputs": [
    {
     "data": {
      "text/plain": [
       "{'booster': 'gbtree',\n",
       " 'colsample_bytree': 1.0,\n",
       " 'eta': 0.4,\n",
       " 'eval_metric': 'auc',\n",
       " 'gamma': 0.9,\n",
       " 'max_depth': 1,\n",
       " 'min_child_weight': 5.0,\n",
       " 'n_estimators': 410,\n",
       " 'objective': 'binary:logistic',\n",
       " 'silent': 1,\n",
       " 'subsample': 0.6000000000000001,\n",
       " 'tree_method': 'exact'}"
      ]
     },
     "execution_count": 144,
     "metadata": {},
     "output_type": "execute_result"
    }
   ],
   "source": [
    "space_eval(space_xgb2, best)"
   ]
  },
  {
   "cell_type": "code",
   "execution_count": 145,
   "metadata": {},
   "outputs": [
    {
     "name": "stdout",
     "output_type": "stream",
     "text": [
      "Accuracy: 77.10%\n"
     ]
    }
   ],
   "source": [
    "seed = 7\n",
    "test_size = 0.33\n",
    "X_train, X_test, y_train, y_test = train_test_split(\n",
    "    X, Y, test_size=test_size, random_state=seed)\n",
    "# обучаем модель на тренировочной выборке\n",
    "clf = XGBClassifier(booster='gbtree', colsample_bytree=1.0, eta=0.4, eval_metric='auc', gamma=0.9, max_depth=1,\n",
    "                    min_child_weight=5.0, n_estimators=410, objective='binary:logistic', silent=1, subsample=0.6000000000000001, tree_method='exact')\n",
    "clf.fit(X_train, y_train)\n",
    "# делаем предсказание на тестовой выборке\n",
    "predictions = clf.predict(X_test)\n",
    "# оцениваем предсказания\n",
    "accuracy = accuracy_score(y_test, predictions)\n",
    "print(\"Accuracy: %.2f%%\" % (accuracy * 100.0))"
   ]
  },
  {
   "cell_type": "code",
   "execution_count": 146,
   "metadata": {},
   "outputs": [
    {
     "name": "stdout",
     "output_type": "stream",
     "text": [
      "Roc_auc: 76.42%\n"
     ]
    }
   ],
   "source": [
    "roc_auc = roc_auc_score(y_test, predictions)\n",
    "print(\"Roc_auc: %.2f%%\" % (roc_auc * 100.0))"
   ]
  },
  {
   "cell_type": "markdown",
   "metadata": {},
   "source": [
    "## Выводы"
   ]
  },
  {
   "cell_type": "markdown",
   "metadata": {},
   "source": [
    "Самый лучший результат дал исходный датасет (вкладка Исх данные), с дополнительной разбивкой обучающей выборки (train) с параметрами по умолчанию\n",
    "\n",
    "Accuracy: 77.23% Roc_auc: 76.61%"
   ]
  },
  {
   "cell_type": "markdown",
   "metadata": {},
   "source": [
    "## Точки роста"
   ]
  },
  {
   "cell_type": "markdown",
   "metadata": {},
   "source": [
    "1. Скорректировать набор признаков на основе их значимости (результаты значимости получены)\n",
    "2. Добавить больше гиперпараметров в GridSearch и Hyperopt, изменить диапазоны гиперпараметров\n",
    "3. Тщательнее изучить распределение некоторых признаков, например логарифмировать их или использовать другие преобразования при необходимости, чтобы сделать распределение нормальным"
   ]
  },
  {
   "cell_type": "code",
   "execution_count": null,
   "metadata": {},
   "outputs": [],
   "source": []
  }
 ],
 "metadata": {
  "kernelspec": {
   "display_name": "Python 3",
   "language": "python",
   "name": "python3"
  },
  "language_info": {
   "codemirror_mode": {
    "name": "ipython",
    "version": 3
   },
   "file_extension": ".py",
   "mimetype": "text/x-python",
   "name": "python",
   "nbconvert_exporter": "python",
   "pygments_lexer": "ipython3",
   "version": "3.7.6"
  },
  "toc": {
   "base_numbering": 1,
   "nav_menu": {},
   "number_sections": true,
   "sideBar": true,
   "skip_h1_title": false,
   "title_cell": "Table of Contents",
   "title_sidebar": "Contents",
   "toc_cell": false,
   "toc_position": {
    "height": "calc(100% - 180px)",
    "left": "10px",
    "top": "150px",
    "width": "288px"
   },
   "toc_section_display": true,
   "toc_window_display": true
  },
  "varInspector": {
   "cols": {
    "lenName": 16,
    "lenType": 16,
    "lenVar": 40
   },
   "kernels_config": {
    "python": {
     "delete_cmd_postfix": "",
     "delete_cmd_prefix": "del ",
     "library": "var_list.py",
     "varRefreshCmd": "print(var_dic_list())"
    },
    "r": {
     "delete_cmd_postfix": ") ",
     "delete_cmd_prefix": "rm(",
     "library": "var_list.r",
     "varRefreshCmd": "cat(var_dic_list()) "
    }
   },
   "types_to_exclude": [
    "module",
    "function",
    "builtin_function_or_method",
    "instance",
    "_Feature"
   ],
   "window_display": false
  }
 },
 "nbformat": 4,
 "nbformat_minor": 4
}
