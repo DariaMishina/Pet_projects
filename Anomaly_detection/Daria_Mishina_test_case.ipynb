{
 "cells": [
  {
   "cell_type": "markdown",
   "metadata": {
    "id": "vF1vOSNy8TsH"
   },
   "source": [
    "**Прогноз отказа мотора на основе показаний датчиков**\n",
    "\n",
    "**Задача:** прогноз отказа мотора на следующем цикле. Считаем, что максимальный цикл мотора - это последний цикл перед поломкой. Нужно предложить варианты использования полученной модели на практике. \n",
    "\n",
    "**Описание данных:**\n",
    "\n",
    "- id -- идентификатор мотора\n",
    "- cycle -- цикл работы\n",
    "- p00-p20 -- показания датчиков считываемые в процессе работы\n",
    "- s0, s1 -- настройки изменяемые в конце каждого цикла"
   ]
  },
  {
   "cell_type": "markdown",
   "metadata": {
    "id": "SxK0ovXWHPwe"
   },
   "source": [
    "Задача была мной интерпретирована как задача на анализ выживаемости или надёжности (survival analysis). То есть, буду рассчитывать, как различные факторы влияют на продолжительность работы мотора и анализировать время до наступления отказа мотора\n",
    "\n"
   ]
  },
  {
   "cell_type": "markdown",
   "metadata": {
    "id": "jPuv--fO8wOM"
   },
   "source": [
    "# Импорт нужных библиотек\n",
    "\n",
    "решение выполнялось в google colab, установим нужные пакеты и затем импорируем библиотеки"
   ]
  },
  {
   "cell_type": "code",
   "execution_count": 1,
   "metadata": {
    "colab": {
     "base_uri": "https://localhost:8080/"
    },
    "id": "JpJbM4QEbQg3",
    "outputId": "6ad76d63-cc2c-4d8e-f899-c60aeb6f8865"
   },
   "outputs": [
    {
     "name": "stdout",
     "output_type": "stream",
     "text": [
      "Requirement already satisfied: sklearn-pandas in /usr/local/lib/python3.6/dist-packages (1.8.0)\n",
      "Requirement already satisfied: scipy>=0.14 in /usr/local/lib/python3.6/dist-packages (from sklearn-pandas) (1.4.1)\n",
      "Requirement already satisfied: numpy>=1.6.1 in /usr/local/lib/python3.6/dist-packages (from sklearn-pandas) (1.19.4)\n",
      "Requirement already satisfied: pandas>=0.11.0 in /usr/local/lib/python3.6/dist-packages (from sklearn-pandas) (1.1.5)\n",
      "Requirement already satisfied: scikit-learn>=0.15.0 in /usr/local/lib/python3.6/dist-packages (from sklearn-pandas) (0.22.2.post1)\n",
      "Requirement already satisfied: python-dateutil>=2.7.3 in /usr/local/lib/python3.6/dist-packages (from pandas>=0.11.0->sklearn-pandas) (2.8.1)\n",
      "Requirement already satisfied: pytz>=2017.2 in /usr/local/lib/python3.6/dist-packages (from pandas>=0.11.0->sklearn-pandas) (2018.9)\n",
      "Requirement already satisfied: joblib>=0.11 in /usr/local/lib/python3.6/dist-packages (from scikit-learn>=0.15.0->sklearn-pandas) (1.0.0)\n",
      "Requirement already satisfied: six>=1.5 in /usr/local/lib/python3.6/dist-packages (from python-dateutil>=2.7.3->pandas>=0.11.0->sklearn-pandas) (1.15.0)\n"
     ]
    }
   ],
   "source": [
    "! pip install sklearn-pandas"
   ]
  },
  {
   "cell_type": "code",
   "execution_count": 2,
   "metadata": {
    "colab": {
     "base_uri": "https://localhost:8080/"
    },
    "id": "Tw8KkXJ9bcBP",
    "outputId": "2680b98b-2ba8-4904-9f93-4c35e4800c49"
   },
   "outputs": [
    {
     "name": "stdout",
     "output_type": "stream",
     "text": [
      "Collecting torchtuples\n",
      "\u001b[?25l  Downloading https://files.pythonhosted.org/packages/95/70/93eb42c0a46ef94b3885b8e5611a8019d00522a9ab7343d4ca25033afd44/torchtuples-0.2.0-py3-none-any.whl (41kB)\n",
      "\r",
      "\u001b[K     |███████▉                        | 10kB 13.8MB/s eta 0:00:01\r",
      "\u001b[K     |███████████████▊                | 20kB 19.4MB/s eta 0:00:01\r",
      "\u001b[K     |███████████████████████▋        | 30kB 11.6MB/s eta 0:00:01\r",
      "\u001b[K     |███████████████████████████████▌| 40kB 9.0MB/s eta 0:00:01\r",
      "\u001b[K     |████████████████████████████████| 51kB 4.2MB/s \n",
      "\u001b[?25hRequirement already satisfied: numpy>=1.15.4 in /usr/local/lib/python3.6/dist-packages (from torchtuples) (1.19.4)\n",
      "Requirement already satisfied: pandas>=0.24.2 in /usr/local/lib/python3.6/dist-packages (from torchtuples) (1.1.5)\n",
      "Requirement already satisfied: matplotlib>=3.0.3 in /usr/local/lib/python3.6/dist-packages (from torchtuples) (3.2.2)\n",
      "Requirement already satisfied: python-dateutil>=2.7.3 in /usr/local/lib/python3.6/dist-packages (from pandas>=0.24.2->torchtuples) (2.8.1)\n",
      "Requirement already satisfied: pytz>=2017.2 in /usr/local/lib/python3.6/dist-packages (from pandas>=0.24.2->torchtuples) (2018.9)\n",
      "Requirement already satisfied: cycler>=0.10 in /usr/local/lib/python3.6/dist-packages (from matplotlib>=3.0.3->torchtuples) (0.10.0)\n",
      "Requirement already satisfied: kiwisolver>=1.0.1 in /usr/local/lib/python3.6/dist-packages (from matplotlib>=3.0.3->torchtuples) (1.3.1)\n",
      "Requirement already satisfied: pyparsing!=2.0.4,!=2.1.2,!=2.1.6,>=2.0.1 in /usr/local/lib/python3.6/dist-packages (from matplotlib>=3.0.3->torchtuples) (2.4.7)\n",
      "Requirement already satisfied: six>=1.5 in /usr/local/lib/python3.6/dist-packages (from python-dateutil>=2.7.3->pandas>=0.24.2->torchtuples) (1.15.0)\n",
      "Installing collected packages: torchtuples\n",
      "Successfully installed torchtuples-0.2.0\n"
     ]
    }
   ],
   "source": [
    "pip install torchtuples"
   ]
  },
  {
   "cell_type": "code",
   "execution_count": 3,
   "metadata": {
    "colab": {
     "base_uri": "https://localhost:8080/"
    },
    "id": "YjrNG3XubQg5",
    "outputId": "331f786f-6847-4d67-890b-a99d9360800b"
   },
   "outputs": [
    {
     "name": "stdout",
     "output_type": "stream",
     "text": [
      "Collecting pycox\n",
      "\u001b[?25l  Downloading https://files.pythonhosted.org/packages/33/33/8166da2d22ff30305aa0c10e0c6124ef5d3b60b5b0418387bb805bd6b751/pycox-0.2.1-py3-none-any.whl (73kB)\n",
      "\r",
      "\u001b[K     |████▌                           | 10kB 15.4MB/s eta 0:00:01\r",
      "\u001b[K     |█████████                       | 20kB 19.2MB/s eta 0:00:01\r",
      "\u001b[K     |█████████████▍                  | 30kB 9.7MB/s eta 0:00:01\r",
      "\u001b[K     |█████████████████▉              | 40kB 8.2MB/s eta 0:00:01\r",
      "\u001b[K     |██████████████████████▎         | 51kB 4.3MB/s eta 0:00:01\r",
      "\u001b[K     |██████████████████████████▊     | 61kB 4.9MB/s eta 0:00:01\r",
      "\u001b[K     |███████████████████████████████▏| 71kB 5.1MB/s eta 0:00:01\r",
      "\u001b[K     |████████████████████████████████| 81kB 3.6MB/s \n",
      "\u001b[?25hRequirement already satisfied: requests>=2.22.0 in /usr/local/lib/python3.6/dist-packages (from pycox) (2.23.0)\n",
      "Requirement already satisfied: feather-format>=0.4.0 in /usr/local/lib/python3.6/dist-packages (from pycox) (0.4.1)\n",
      "Requirement already satisfied: h5py>=2.9.0 in /usr/local/lib/python3.6/dist-packages (from pycox) (2.10.0)\n",
      "Requirement already satisfied: scikit-learn>=0.21.2 in /usr/local/lib/python3.6/dist-packages (from pycox) (0.22.2.post1)\n",
      "Requirement already satisfied: numba>=0.44 in /usr/local/lib/python3.6/dist-packages (from pycox) (0.48.0)\n",
      "Requirement already satisfied: torchtuples>=0.2.0 in /usr/local/lib/python3.6/dist-packages (from pycox) (0.2.0)\n",
      "Requirement already satisfied: chardet<4,>=3.0.2 in /usr/local/lib/python3.6/dist-packages (from requests>=2.22.0->pycox) (3.0.4)\n",
      "Requirement already satisfied: certifi>=2017.4.17 in /usr/local/lib/python3.6/dist-packages (from requests>=2.22.0->pycox) (2020.12.5)\n",
      "Requirement already satisfied: urllib3!=1.25.0,!=1.25.1,<1.26,>=1.21.1 in /usr/local/lib/python3.6/dist-packages (from requests>=2.22.0->pycox) (1.24.3)\n",
      "Requirement already satisfied: idna<3,>=2.5 in /usr/local/lib/python3.6/dist-packages (from requests>=2.22.0->pycox) (2.10)\n",
      "Requirement already satisfied: pyarrow>=0.4.0 in /usr/local/lib/python3.6/dist-packages (from feather-format>=0.4.0->pycox) (0.14.1)\n",
      "Requirement already satisfied: six in /usr/local/lib/python3.6/dist-packages (from h5py>=2.9.0->pycox) (1.15.0)\n",
      "Requirement already satisfied: numpy>=1.7 in /usr/local/lib/python3.6/dist-packages (from h5py>=2.9.0->pycox) (1.19.4)\n",
      "Requirement already satisfied: scipy>=0.17.0 in /usr/local/lib/python3.6/dist-packages (from scikit-learn>=0.21.2->pycox) (1.4.1)\n",
      "Requirement already satisfied: joblib>=0.11 in /usr/local/lib/python3.6/dist-packages (from scikit-learn>=0.21.2->pycox) (1.0.0)\n",
      "Requirement already satisfied: llvmlite<0.32.0,>=0.31.0dev0 in /usr/local/lib/python3.6/dist-packages (from numba>=0.44->pycox) (0.31.0)\n",
      "Requirement already satisfied: setuptools in /usr/local/lib/python3.6/dist-packages (from numba>=0.44->pycox) (51.0.0)\n",
      "Requirement already satisfied: matplotlib>=3.0.3 in /usr/local/lib/python3.6/dist-packages (from torchtuples>=0.2.0->pycox) (3.2.2)\n",
      "Requirement already satisfied: pandas>=0.24.2 in /usr/local/lib/python3.6/dist-packages (from torchtuples>=0.2.0->pycox) (1.1.5)\n",
      "Requirement already satisfied: cycler>=0.10 in /usr/local/lib/python3.6/dist-packages (from matplotlib>=3.0.3->torchtuples>=0.2.0->pycox) (0.10.0)\n",
      "Requirement already satisfied: python-dateutil>=2.1 in /usr/local/lib/python3.6/dist-packages (from matplotlib>=3.0.3->torchtuples>=0.2.0->pycox) (2.8.1)\n",
      "Requirement already satisfied: pyparsing!=2.0.4,!=2.1.2,!=2.1.6,>=2.0.1 in /usr/local/lib/python3.6/dist-packages (from matplotlib>=3.0.3->torchtuples>=0.2.0->pycox) (2.4.7)\n",
      "Requirement already satisfied: kiwisolver>=1.0.1 in /usr/local/lib/python3.6/dist-packages (from matplotlib>=3.0.3->torchtuples>=0.2.0->pycox) (1.3.1)\n",
      "Requirement already satisfied: pytz>=2017.2 in /usr/local/lib/python3.6/dist-packages (from pandas>=0.24.2->torchtuples>=0.2.0->pycox) (2018.9)\n",
      "Installing collected packages: pycox\n",
      "Successfully installed pycox-0.2.1\n"
     ]
    }
   ],
   "source": [
    "!pip install pycox"
   ]
  },
  {
   "cell_type": "code",
   "execution_count": 4,
   "metadata": {
    "id": "f4KvUHpJbQg4",
    "scrolled": true
   },
   "outputs": [],
   "source": [
    "import numpy as np\n",
    "import pandas as pd\n",
    "\n",
    "pd.set_option('display.max_rows', 50)  # показывать больше строк\n",
    "pd.set_option('display.max_columns', 50)  # показывать больше колонок\n",
    "\n",
    "import matplotlib.pyplot as plt\n",
    "%matplotlib inline\n",
    "import seaborn as sns\n",
    "\n",
    "from sklearn.preprocessing import StandardScaler\n",
    "from sklearn_pandas import DataFrameMapper "
   ]
  },
  {
   "cell_type": "code",
   "execution_count": 5,
   "metadata": {
    "id": "FG533ALxbQg4"
   },
   "outputs": [],
   "source": [
    "import torch  \n",
    "import torchtuples as tt "
   ]
  },
  {
   "cell_type": "code",
   "execution_count": 6,
   "metadata": {
    "id": "JQGAvtb5bQg5"
   },
   "outputs": [],
   "source": [
    "from pycox.models import LogisticHazard\n",
    "from pycox.evaluation import EvalSurv"
   ]
  },
  {
   "cell_type": "code",
   "execution_count": 7,
   "metadata": {
    "id": "3BpzVEjzbQg5"
   },
   "outputs": [],
   "source": [
    "np.random.seed(1234)\n",
    "_ = torch.manual_seed(123)"
   ]
  },
  {
   "cell_type": "code",
   "execution_count": 8,
   "metadata": {
    "id": "KWefo_cw4SNN"
   },
   "outputs": [],
   "source": [
    "df_train = pd.read_csv('data.csv')"
   ]
  },
  {
   "cell_type": "markdown",
   "metadata": {
    "id": "FmM14CnDJ0f2"
   },
   "source": [
    "# EDA\n",
    "\n",
    "\n"
   ]
  },
  {
   "cell_type": "markdown",
   "metadata": {
    "id": "9SVqzjEeEM0j"
   },
   "source": [
    "Рассмотрим, какие типы данных у столбцов и сколько пропусков:"
   ]
  },
  {
   "cell_type": "code",
   "execution_count": 9,
   "metadata": {
    "colab": {
     "base_uri": "https://localhost:8080/",
     "height": 768
    },
    "id": "T6-yc3T6D7FK",
    "outputId": "f5766fee-9cc7-468d-bf38-c5d4be3df56f"
   },
   "outputs": [
    {
     "data": {
      "text/html": [
       "<div>\n",
       "<style scoped>\n",
       "    .dataframe tbody tr th:only-of-type {\n",
       "        vertical-align: middle;\n",
       "    }\n",
       "\n",
       "    .dataframe tbody tr th {\n",
       "        vertical-align: top;\n",
       "    }\n",
       "\n",
       "    .dataframe thead th {\n",
       "        text-align: right;\n",
       "    }\n",
       "</style>\n",
       "<table border=\"1\" class=\"dataframe\">\n",
       "  <thead>\n",
       "    <tr style=\"text-align: right;\">\n",
       "      <th></th>\n",
       "      <th>id</th>\n",
       "      <th>cycle</th>\n",
       "      <th>p00</th>\n",
       "      <th>p01</th>\n",
       "      <th>p02</th>\n",
       "      <th>p03</th>\n",
       "      <th>p04</th>\n",
       "      <th>p05</th>\n",
       "      <th>p06</th>\n",
       "      <th>p07</th>\n",
       "      <th>p08</th>\n",
       "      <th>p09</th>\n",
       "      <th>p10</th>\n",
       "      <th>p11</th>\n",
       "      <th>p12</th>\n",
       "      <th>p13</th>\n",
       "      <th>p14</th>\n",
       "      <th>p15</th>\n",
       "      <th>p16</th>\n",
       "      <th>p17</th>\n",
       "      <th>p18</th>\n",
       "      <th>p19</th>\n",
       "      <th>p20</th>\n",
       "      <th>s1</th>\n",
       "      <th>s2</th>\n",
       "    </tr>\n",
       "  </thead>\n",
       "  <tbody>\n",
       "    <tr>\n",
       "      <th>0</th>\n",
       "      <td>1</td>\n",
       "      <td>1</td>\n",
       "      <td>518.67</td>\n",
       "      <td>1.3</td>\n",
       "      <td>47.47</td>\n",
       "      <td>521.66</td>\n",
       "      <td>2388.02</td>\n",
       "      <td>8138.62</td>\n",
       "      <td>8.4195</td>\n",
       "      <td>0.03</td>\n",
       "      <td>392</td>\n",
       "      <td>2388</td>\n",
       "      <td>100</td>\n",
       "      <td>641.82</td>\n",
       "      <td>39.06</td>\n",
       "      <td>23.4190</td>\n",
       "      <td>1589.70</td>\n",
       "      <td>1400.60</td>\n",
       "      <td>14.62</td>\n",
       "      <td>21.61</td>\n",
       "      <td>554.36</td>\n",
       "      <td>2388.06</td>\n",
       "      <td>9046.19</td>\n",
       "      <td>-0.0007</td>\n",
       "      <td>-0.0004</td>\n",
       "    </tr>\n",
       "    <tr>\n",
       "      <th>1</th>\n",
       "      <td>1</td>\n",
       "      <td>2</td>\n",
       "      <td>518.67</td>\n",
       "      <td>1.3</td>\n",
       "      <td>47.49</td>\n",
       "      <td>522.28</td>\n",
       "      <td>2388.07</td>\n",
       "      <td>8131.49</td>\n",
       "      <td>8.4318</td>\n",
       "      <td>0.03</td>\n",
       "      <td>392</td>\n",
       "      <td>2388</td>\n",
       "      <td>100</td>\n",
       "      <td>642.15</td>\n",
       "      <td>39.00</td>\n",
       "      <td>23.4236</td>\n",
       "      <td>1591.82</td>\n",
       "      <td>1403.14</td>\n",
       "      <td>14.62</td>\n",
       "      <td>21.61</td>\n",
       "      <td>553.75</td>\n",
       "      <td>2388.04</td>\n",
       "      <td>9044.07</td>\n",
       "      <td>0.0019</td>\n",
       "      <td>-0.0003</td>\n",
       "    </tr>\n",
       "    <tr>\n",
       "      <th>2</th>\n",
       "      <td>1</td>\n",
       "      <td>3</td>\n",
       "      <td>518.67</td>\n",
       "      <td>1.3</td>\n",
       "      <td>47.27</td>\n",
       "      <td>522.42</td>\n",
       "      <td>2388.03</td>\n",
       "      <td>8133.23</td>\n",
       "      <td>8.4178</td>\n",
       "      <td>0.03</td>\n",
       "      <td>390</td>\n",
       "      <td>2388</td>\n",
       "      <td>100</td>\n",
       "      <td>642.35</td>\n",
       "      <td>38.95</td>\n",
       "      <td>23.3442</td>\n",
       "      <td>1587.99</td>\n",
       "      <td>1404.20</td>\n",
       "      <td>14.62</td>\n",
       "      <td>21.61</td>\n",
       "      <td>554.26</td>\n",
       "      <td>2388.08</td>\n",
       "      <td>9052.94</td>\n",
       "      <td>-0.0043</td>\n",
       "      <td>0.0003</td>\n",
       "    </tr>\n",
       "    <tr>\n",
       "      <th>3</th>\n",
       "      <td>1</td>\n",
       "      <td>4</td>\n",
       "      <td>518.67</td>\n",
       "      <td>1.3</td>\n",
       "      <td>47.13</td>\n",
       "      <td>522.86</td>\n",
       "      <td>2388.08</td>\n",
       "      <td>8133.83</td>\n",
       "      <td>8.3682</td>\n",
       "      <td>0.03</td>\n",
       "      <td>392</td>\n",
       "      <td>2388</td>\n",
       "      <td>100</td>\n",
       "      <td>642.35</td>\n",
       "      <td>38.88</td>\n",
       "      <td>23.3739</td>\n",
       "      <td>1582.79</td>\n",
       "      <td>1401.87</td>\n",
       "      <td>14.62</td>\n",
       "      <td>21.61</td>\n",
       "      <td>554.45</td>\n",
       "      <td>2388.11</td>\n",
       "      <td>9049.48</td>\n",
       "      <td>0.0007</td>\n",
       "      <td>0.0000</td>\n",
       "    </tr>\n",
       "    <tr>\n",
       "      <th>4</th>\n",
       "      <td>1</td>\n",
       "      <td>5</td>\n",
       "      <td>518.67</td>\n",
       "      <td>1.3</td>\n",
       "      <td>47.28</td>\n",
       "      <td>522.19</td>\n",
       "      <td>2388.04</td>\n",
       "      <td>8133.80</td>\n",
       "      <td>8.4294</td>\n",
       "      <td>0.03</td>\n",
       "      <td>393</td>\n",
       "      <td>2388</td>\n",
       "      <td>100</td>\n",
       "      <td>642.37</td>\n",
       "      <td>38.90</td>\n",
       "      <td>23.4044</td>\n",
       "      <td>1582.85</td>\n",
       "      <td>1406.22</td>\n",
       "      <td>14.62</td>\n",
       "      <td>21.61</td>\n",
       "      <td>554.00</td>\n",
       "      <td>2388.06</td>\n",
       "      <td>9055.15</td>\n",
       "      <td>-0.0019</td>\n",
       "      <td>-0.0002</td>\n",
       "    </tr>\n",
       "  </tbody>\n",
       "</table>\n",
       "</div>"
      ],
      "text/plain": [
       "   id  cycle     p00  p01    p02     p03      p04      p05     p06   p07  p08  \\\n",
       "0   1      1  518.67  1.3  47.47  521.66  2388.02  8138.62  8.4195  0.03  392   \n",
       "1   1      2  518.67  1.3  47.49  522.28  2388.07  8131.49  8.4318  0.03  392   \n",
       "2   1      3  518.67  1.3  47.27  522.42  2388.03  8133.23  8.4178  0.03  390   \n",
       "3   1      4  518.67  1.3  47.13  522.86  2388.08  8133.83  8.3682  0.03  392   \n",
       "4   1      5  518.67  1.3  47.28  522.19  2388.04  8133.80  8.4294  0.03  393   \n",
       "\n",
       "    p09  p10     p11    p12      p13      p14      p15    p16    p17     p18  \\\n",
       "0  2388  100  641.82  39.06  23.4190  1589.70  1400.60  14.62  21.61  554.36   \n",
       "1  2388  100  642.15  39.00  23.4236  1591.82  1403.14  14.62  21.61  553.75   \n",
       "2  2388  100  642.35  38.95  23.3442  1587.99  1404.20  14.62  21.61  554.26   \n",
       "3  2388  100  642.35  38.88  23.3739  1582.79  1401.87  14.62  21.61  554.45   \n",
       "4  2388  100  642.37  38.90  23.4044  1582.85  1406.22  14.62  21.61  554.00   \n",
       "\n",
       "       p19      p20      s1      s2  \n",
       "0  2388.06  9046.19 -0.0007 -0.0004  \n",
       "1  2388.04  9044.07  0.0019 -0.0003  \n",
       "2  2388.08  9052.94 -0.0043  0.0003  \n",
       "3  2388.11  9049.48  0.0007  0.0000  \n",
       "4  2388.06  9055.15 -0.0019 -0.0002  "
      ]
     },
     "metadata": {
      "tags": []
     },
     "output_type": "display_data"
    },
    {
     "name": "stdout",
     "output_type": "stream",
     "text": [
      "<class 'pandas.core.frame.DataFrame'>\n",
      "RangeIndex: 16138 entries, 0 to 16137\n",
      "Data columns (total 25 columns):\n",
      " #   Column  Non-Null Count  Dtype  \n",
      "---  ------  --------------  -----  \n",
      " 0   id      16138 non-null  int64  \n",
      " 1   cycle   16138 non-null  int64  \n",
      " 2   p00     16138 non-null  float64\n",
      " 3   p01     16138 non-null  float64\n",
      " 4   p02     16138 non-null  float64\n",
      " 5   p03     16138 non-null  float64\n",
      " 6   p04     16138 non-null  float64\n",
      " 7   p05     16138 non-null  float64\n",
      " 8   p06     16138 non-null  float64\n",
      " 9   p07     16138 non-null  float64\n",
      " 10  p08     16138 non-null  int64  \n",
      " 11  p09     16138 non-null  int64  \n",
      " 12  p10     16138 non-null  int64  \n",
      " 13  p11     16138 non-null  float64\n",
      " 14  p12     16138 non-null  float64\n",
      " 15  p13     16138 non-null  float64\n",
      " 16  p14     16138 non-null  float64\n",
      " 17  p15     16138 non-null  float64\n",
      " 18  p16     16138 non-null  float64\n",
      " 19  p17     16138 non-null  float64\n",
      " 20  p18     16138 non-null  float64\n",
      " 21  p19     16138 non-null  float64\n",
      " 22  p20     16138 non-null  float64\n",
      " 23  s1      16138 non-null  float64\n",
      " 24  s2      16138 non-null  float64\n",
      "dtypes: float64(20), int64(5)\n",
      "memory usage: 3.1 MB\n"
     ]
    }
   ],
   "source": [
    "display(df_train.head()) \n",
    "df_train.info() "
   ]
  },
  {
   "cell_type": "markdown",
   "metadata": {
    "id": "HXgUZvEMEYKM"
   },
   "source": [
    "вот так нагляднее видно, что пропусков в данных нет"
   ]
  },
  {
   "cell_type": "code",
   "execution_count": 10,
   "metadata": {
    "colab": {
     "base_uri": "https://localhost:8080/",
     "height": 632
    },
    "id": "AqGrp_6TD69F",
    "outputId": "0a748eac-f8e7-455f-f4a4-f6fe811f7f22"
   },
   "outputs": [
    {
     "data": {
      "image/png": "[encoded data removed]",
      "text/plain": [
       "<Figure size 1440x864 with 1 Axes>"
      ]
     },
     "metadata": {
      "needs_background": "light",
      "tags": []
     },
     "output_type": "display_data"
    }
   ],
   "source": [
    "fig, ax = plt.subplots(figsize=(20,12))\n",
    "sns_heatmap = sns.heatmap(df_train.isnull(), yticklabels=False, cbar=False, cmap='viridis')"
   ]
  },
  {
   "cell_type": "markdown",
   "metadata": {
    "id": "w-wNIe1mEiCf"
   },
   "source": [
    "Пропуски отсутствуют.\n",
    "\n",
    "Напишем функцию, которая покажет нам распределение признаков и выбросы для столбцов, у которых определены значения (по описанию датасета). "
   ]
  },
  {
   "cell_type": "code",
   "execution_count": 21,
   "metadata": {
    "id": "hhVlkJTYD6sX"
   },
   "outputs": [],
   "source": [
    "def desription(col, boundaries = None):\n",
    "    print('Столбец', col)\n",
    "    print('Распределение признака:')\n",
    "    fig, ax = plt.subplots()\n",
    "    if df_train.loc[:, col].dtypes == np.dtype('O'): # Проверка на строковый тип данных\n",
    "        sns.countplot(df_train.loc[:, col], ax=ax)\n",
    "        plt.show()\n",
    "    else:\n",
    "        \n",
    "        df_train.loc[:, col].hist(ax=ax)\n",
    "        ax.set_xlabel(col)\n",
    "        ax.set_ylabel('count')\n",
    "        plt.show()\n",
    "        if boundaries is not None: # Проверка на наличие выбросов по информации из датасета\n",
    "            if df_train.loc[(~df_train.loc[:, col].between(boundaries[0], boundaries[1]))&\n",
    "                       pd.notnull(data.loc[:, col])].shape[0] > 0:\n",
    "                print('Найдены выбросы:')\n",
    "                display(df_train.loc[(~df_train.loc[:, col].between(boundaries[0], boundaries[1]))&\n",
    "                       pd.notnull(df_train.loc[:, col])])\n",
    "                \n",
    "    #print('Процент пропусков:', str(round(100 - df_train.loc[:, col].count()/df_train.shape[0]*100, 2)) + '%')\n",
    "    #print()\n",
    "    print('Детальное описание:')\n",
    "    print(df_train.loc[:, col].describe())"
   ]
  },
  {
   "cell_type": "code",
   "execution_count": 34,
   "metadata": {
    "colab": {
     "base_uri": "https://localhost:8080/",
     "height": 1000
    },
    "id": "O0won-T_EmKd",
    "outputId": "7ad10dfb-7e89-4da8-c302-73ff13bff8dd"
   },
   "outputs": [
    {
     "name": "stdout",
     "output_type": "stream",
     "text": [
      "Столбец cycle\n",
      "Распределение признака:\n"
     ]
    },
    {
     "data": {
      "image/png": "[encoded data removed]",
      "text/plain": [
       "<Figure size 432x288 with 1 Axes>"
      ]
     },
     "metadata": {
      "needs_background": "light",
      "tags": []
     },
     "output_type": "display_data"
    },
    {
     "name": "stdout",
     "output_type": "stream",
     "text": [
      "Детальное описание:\n",
      "count    10328.000000\n",
      "mean       104.867932\n",
      "std         65.738063\n",
      "min          1.000000\n",
      "25%         50.000000\n",
      "50%        101.000000\n",
      "75%        152.000000\n",
      "max        362.000000\n",
      "Name: cycle, dtype: float64\n",
      "Столбец p00\n",
      "Распределение признака:\n"
     ]
    },
    {
     "data": {
      "image/png": "[encoded data removed]",
      "text/plain": [
       "<Figure size 432x288 with 1 Axes>"
      ]
     },
     "metadata": {
      "needs_background": "light",
      "tags": []
     },
     "output_type": "display_data"
    },
    {
     "name": "stdout",
     "output_type": "stream",
     "text": [
      "Детальное описание:\n",
      "count    1.032800e+04\n",
      "mean     5.186700e+02\n",
      "std      5.627771e-11\n",
      "min      5.186700e+02\n",
      "25%      5.186700e+02\n",
      "50%      5.186700e+02\n",
      "75%      5.186700e+02\n",
      "max      5.186700e+02\n",
      "Name: p00, dtype: float64\n",
      "Столбец p01\n",
      "Распределение признака:\n"
     ]
    },
    {
     "data": {
      "image/png": "[encoded data removed]",
      "text/plain": [
       "<Figure size 432x288 with 1 Axes>"
      ]
     },
     "metadata": {
      "needs_background": "light",
      "tags": []
     },
     "output_type": "display_data"
    },
    {
     "name": "stdout",
     "output_type": "stream",
     "text": [
      "Детальное описание:\n",
      "count    1.032800e+04\n",
      "mean     1.300000e+00\n",
      "std      2.054012e-13\n",
      "min      1.300000e+00\n",
      "25%      1.300000e+00\n",
      "50%      1.300000e+00\n",
      "75%      1.300000e+00\n",
      "max      1.300000e+00\n",
      "Name: p01, dtype: float64\n",
      "Столбец p02\n",
      "Распределение признака:\n"
     ]
    },
    {
     "data": {
      "image/png": "[encoded data removed]",
      "text/plain": [
       "<Figure size 432x288 with 1 Axes>"
      ]
     },
     "metadata": {
      "needs_background": "light",
      "tags": []
     },
     "output_type": "display_data"
    },
    {
     "name": "stdout",
     "output_type": "stream",
     "text": [
      "Детальное описание:\n",
      "count    10328.000000\n",
      "mean        47.543143\n",
      "std          0.268190\n",
      "min         46.860000\n",
      "25%         47.350000\n",
      "50%         47.520000\n",
      "75%         47.710000\n",
      "max         48.530000\n",
      "Name: p02, dtype: float64\n",
      "Столбец p03\n",
      "Распределение признака:\n"
     ]
    },
    {
     "data": {
      "image/png": "[encoded data removed]",
      "text/plain": [
       "<Figure size 432x288 with 1 Axes>"
      ]
     },
     "metadata": {
      "needs_background": "light",
      "tags": []
     },
     "output_type": "display_data"
    },
    {
     "name": "stdout",
     "output_type": "stream",
     "text": [
      "Детальное описание:\n",
      "count    10328.000000\n",
      "mean       521.406030\n",
      "std          0.741286\n",
      "min        518.690000\n",
      "25%        520.950000\n",
      "50%        521.460000\n",
      "75%        521.950000\n",
      "max        523.310000\n",
      "Name: p03, dtype: float64\n",
      "Столбец p04\n",
      "Распределение признака:\n"
     ]
    },
    {
     "data": {
      "image/png": "[encoded data removed]",
      "text/plain": [
       "<Figure size 432x288 with 1 Axes>"
      ]
     },
     "metadata": {
      "needs_background": "light",
      "tags": []
     },
     "output_type": "display_data"
    },
    {
     "name": "stdout",
     "output_type": "stream",
     "text": [
      "Детальное описание:\n",
      "count    10328.000000\n",
      "mean      2388.097003\n",
      "std          0.072786\n",
      "min       2387.880000\n",
      "25%       2388.040000\n",
      "50%       2388.090000\n",
      "75%       2388.140000\n",
      "max       2388.550000\n",
      "Name: p04, dtype: float64\n",
      "Столбец p05\n",
      "Распределение признака:\n"
     ]
    },
    {
     "data": {
      "image/png": "[encoded data removed]",
      "text/plain": [
       "<Figure size 432x288 with 1 Axes>"
      ]
     },
     "metadata": {
      "needs_background": "light",
      "tags": []
     },
     "output_type": "display_data"
    },
    {
     "name": "stdout",
     "output_type": "stream",
     "text": [
      "Детальное описание:\n",
      "count    10328.000000\n",
      "mean      8143.709993\n",
      "std         19.540530\n",
      "min       8099.940000\n",
      "25%       8132.570000\n",
      "50%       8140.570000\n",
      "75%       8148.722500\n",
      "max       8293.720000\n",
      "Name: p05, dtype: float64\n",
      "Столбец p06\n",
      "Распределение признака:\n"
     ]
    },
    {
     "data": {
      "image/png": "[encoded data removed]",
      "text/plain": [
       "<Figure size 432x288 with 1 Axes>"
      ]
     },
     "metadata": {
      "needs_background": "light",
      "tags": []
     },
     "output_type": "display_data"
    },
    {
     "name": "stdout",
     "output_type": "stream",
     "text": [
      "Детальное описание:\n",
      "count    10328.000000\n",
      "mean         8.442340\n",
      "std          0.037684\n",
      "min          8.324900\n",
      "25%          8.415000\n",
      "50%          8.439300\n",
      "75%          8.465700\n",
      "max          8.584800\n",
      "Name: p06, dtype: float64\n",
      "Столбец p07\n",
      "Распределение признака:\n"
     ]
    },
    {
     "data": {
      "image/png": "[encoded data removed]",
      "text/plain": [
       "<Figure size 432x288 with 1 Axes>"
      ]
     },
     "metadata": {
      "needs_background": "light",
      "tags": []
     },
     "output_type": "display_data"
    },
    {
     "name": "stdout",
     "output_type": "stream",
     "text": [
      "Детальное описание:\n",
      "count    1.032800e+04\n",
      "mean     3.000000e-02\n",
      "std      3.875560e-15\n",
      "min      3.000000e-02\n",
      "25%      3.000000e-02\n",
      "50%      3.000000e-02\n",
      "75%      3.000000e-02\n",
      "max      3.000000e-02\n",
      "Name: p07, dtype: float64\n",
      "Столбец p08\n",
      "Распределение признака:\n"
     ]
    },
    {
     "data": {
      "image/png": "[encoded data removed]",
      "text/plain": [
       "<Figure size 432x288 with 1 Axes>"
      ]
     },
     "metadata": {
      "needs_background": "light",
      "tags": []
     },
     "output_type": "display_data"
    },
    {
     "name": "stdout",
     "output_type": "stream",
     "text": [
      "Детальное описание:\n",
      "count    10328.000000\n",
      "mean       393.230442\n",
      "std          1.541949\n",
      "min        388.000000\n",
      "25%        392.000000\n",
      "50%        393.000000\n",
      "75%        394.000000\n",
      "max        399.000000\n",
      "Name: p08, dtype: float64\n",
      "Столбец p09\n",
      "Распределение признака:\n"
     ]
    },
    {
     "data": {
      "image/png": "[encoded data removed]",
      "text/plain": [
       "<Figure size 432x288 with 1 Axes>"
      ]
     },
     "metadata": {
      "needs_background": "light",
      "tags": []
     },
     "output_type": "display_data"
    },
    {
     "name": "stdout",
     "output_type": "stream",
     "text": [
      "Детальное описание:\n",
      "count    10328.0\n",
      "mean      2388.0\n",
      "std          0.0\n",
      "min       2388.0\n",
      "25%       2388.0\n",
      "50%       2388.0\n",
      "75%       2388.0\n",
      "max       2388.0\n",
      "Name: p09, dtype: float64\n",
      "Столбец p10\n",
      "Распределение признака:\n"
     ]
    },
    {
     "data": {
      "image/png": "[encoded data removed]",
      "text/plain": [
       "<Figure size 432x288 with 1 Axes>"
      ]
     },
     "metadata": {
      "needs_background": "light",
      "tags": []
     },
     "output_type": "display_data"
    },
    {
     "name": "stdout",
     "output_type": "stream",
     "text": [
      "Детальное описание:\n",
      "count    10328.0\n",
      "mean       100.0\n",
      "std          0.0\n",
      "min        100.0\n",
      "25%        100.0\n",
      "50%        100.0\n",
      "75%        100.0\n",
      "max        100.0\n",
      "Name: p10, dtype: float64\n",
      "Столбец p11\n",
      "Распределение признака:\n"
     ]
    },
    {
     "data": {
      "image/png": "[encoded data removed]",
      "text/plain": [
       "<Figure size 432x288 with 1 Axes>"
      ]
     },
     "metadata": {
      "needs_background": "light",
      "tags": []
     },
     "output_type": "display_data"
    },
    {
     "name": "stdout",
     "output_type": "stream",
     "text": [
      "Детальное описание:\n",
      "count    10328.000000\n",
      "mean       642.687462\n",
      "std          0.500069\n",
      "min        641.210000\n",
      "25%        642.330000\n",
      "50%        642.650000\n",
      "75%        643.010000\n",
      "max        644.500000\n",
      "Name: p11, dtype: float64\n",
      "Столбец p12\n",
      "Распределение признака:\n"
     ]
    },
    {
     "data": {
      "image/png": "[encoded data removed]",
      "text/plain": [
       "<Figure size 432x288 with 1 Axes>"
      ]
     },
     "metadata": {
      "needs_background": "light",
      "tags": []
     },
     "output_type": "display_data"
    },
    {
     "name": "stdout",
     "output_type": "stream",
     "text": [
      "Детальное описание:\n",
      "count    10328.000000\n",
      "mean        38.813968\n",
      "std          0.180779\n",
      "min         38.160000\n",
      "25%         38.700000\n",
      "50%         38.830000\n",
      "75%         38.940000\n",
      "max         39.410000\n",
      "Name: p12, dtype: float64\n",
      "Столбец p12\n",
      "Распределение признака:\n"
     ]
    },
    {
     "data": {
      "image/png": "[encoded data removed]",
      "text/plain": [
       "<Figure size 432x288 with 1 Axes>"
      ]
     },
     "metadata": {
      "needs_background": "light",
      "tags": []
     },
     "output_type": "display_data"
    },
    {
     "name": "stdout",
     "output_type": "stream",
     "text": [
      "Детальное описание:\n",
      "count    10328.000000\n",
      "mean        38.813968\n",
      "std          0.180779\n",
      "min         38.160000\n",
      "25%         38.700000\n",
      "50%         38.830000\n",
      "75%         38.940000\n",
      "max         39.410000\n",
      "Name: p12, dtype: float64\n",
      "Столбец p13\n",
      "Распределение признака:\n"
     ]
    },
    {
     "data": {
      "image/png": "[encoded data removed]",
      "text/plain": [
       "<Figure size 432x288 with 1 Axes>"
      ]
     },
     "metadata": {
      "needs_background": "light",
      "tags": []
     },
     "output_type": "display_data"
    },
    {
     "name": "stdout",
     "output_type": "stream",
     "text": [
      "Детальное описание:\n",
      "count    10328.000000\n",
      "mean        23.288381\n",
      "std          0.108073\n",
      "min         22.907100\n",
      "25%         23.220000\n",
      "50%         23.296100\n",
      "75%         23.364400\n",
      "max         23.612700\n",
      "Name: p13, dtype: float64\n",
      "Столбец p14\n",
      "Распределение признака:\n"
     ]
    },
    {
     "data": {
      "image/png": "[encoded data removed]",
      "text/plain": [
       "<Figure size 432x288 with 1 Axes>"
      ]
     },
     "metadata": {
      "needs_background": "light",
      "tags": []
     },
     "output_type": "display_data"
    },
    {
     "name": "stdout",
     "output_type": "stream",
     "text": [
      "Детальное описание:\n",
      "count    10328.000000\n",
      "mean      1590.545079\n",
      "std          6.132668\n",
      "min       1571.040000\n",
      "25%       1586.250000\n",
      "50%       1590.160000\n",
      "75%       1594.400000\n",
      "max       1614.930000\n",
      "Name: p14, dtype: float64\n",
      "Столбец p15\n",
      "Распределение признака:\n"
     ]
    },
    {
     "data": {
      "image/png": "[encoded data removed]",
      "text/plain": [
       "<Figure size 432x288 with 1 Axes>"
      ]
     },
     "metadata": {
      "needs_background": "light",
      "tags": []
     },
     "output_type": "display_data"
    },
    {
     "name": "stdout",
     "output_type": "stream",
     "text": [
      "Детальное описание:\n",
      "count    10328.000000\n",
      "mean      1409.034477\n",
      "std          8.949795\n",
      "min       1386.690000\n",
      "25%       1402.490000\n",
      "50%       1408.240000\n",
      "75%       1414.620000\n",
      "max       1438.960000\n",
      "Name: p15, dtype: float64\n",
      "Столбец p16\n",
      "Распределение признака:\n"
     ]
    },
    {
     "data": {
      "image/png": "[encoded data removed]",
      "text/plain": [
       "<Figure size 432x288 with 1 Axes>"
      ]
     },
     "metadata": {
      "needs_background": "light",
      "tags": []
     },
     "output_type": "display_data"
    },
    {
     "name": "stdout",
     "output_type": "stream",
     "text": [
      "Детальное описание:\n",
      "count    1.032800e+04\n",
      "mean     1.462000e+01\n",
      "std      2.138837e-12\n",
      "min      1.462000e+01\n",
      "25%      1.462000e+01\n",
      "50%      1.462000e+01\n",
      "75%      1.462000e+01\n",
      "max      1.462000e+01\n",
      "Name: p16, dtype: float64\n",
      "Столбец p17\n",
      "Распределение признака:\n"
     ]
    },
    {
     "data": {
      "image/png": "[encoded data removed]",
      "text/plain": [
       "<Figure size 432x288 with 1 Axes>"
      ]
     },
     "metadata": {
      "needs_background": "light",
      "tags": []
     },
     "output_type": "display_data"
    },
    {
     "name": "stdout",
     "output_type": "stream",
     "text": [
      "Детальное описание:\n",
      "count    10328.000000\n",
      "mean        21.609785\n",
      "std          0.001450\n",
      "min         21.600000\n",
      "25%         21.610000\n",
      "50%         21.610000\n",
      "75%         21.610000\n",
      "max         21.610000\n",
      "Name: p17, dtype: float64\n",
      "Столбец p18\n",
      "Распределение признака:\n"
     ]
    },
    {
     "data": {
      "image/png": "[encoded data removed]",
      "text/plain": [
       "<Figure size 432x288 with 1 Axes>"
      ]
     },
     "metadata": {
      "needs_background": "light",
      "tags": []
     },
     "output_type": "display_data"
    },
    {
     "name": "stdout",
     "output_type": "stream",
     "text": [
      "Детальное описание:\n",
      "count    10328.000000\n",
      "mean       553.361497\n",
      "std          0.887098\n",
      "min        549.850000\n",
      "25%        552.800000\n",
      "50%        553.430000\n",
      "75%        554.010000\n",
      "max        556.060000\n",
      "Name: p18, dtype: float64\n",
      "Столбец p19\n",
      "Распределение признака:\n"
     ]
    },
    {
     "data": {
      "image/png": "[encoded data removed]",
      "text/plain": [
       "<Figure size 432x288 with 1 Axes>"
      ]
     },
     "metadata": {
      "needs_background": "light",
      "tags": []
     },
     "output_type": "display_data"
    },
    {
     "name": "stdout",
     "output_type": "stream",
     "text": [
      "Детальное описание:\n",
      "count    10328.000000\n",
      "mean      2388.097597\n",
      "std          0.071692\n",
      "min       2387.910000\n",
      "25%       2388.050000\n",
      "50%       2388.100000\n",
      "75%       2388.140000\n",
      "max       2388.560000\n",
      "Name: p19, dtype: float64\n",
      "Столбец p20\n",
      "Распределение признака:\n"
     ]
    },
    {
     "data": {
      "image/png": "[encoded data removed]",
      "text/plain": [
       "<Figure size 432x288 with 1 Axes>"
      ]
     },
     "metadata": {
      "needs_background": "light",
      "tags": []
     },
     "output_type": "display_data"
    },
    {
     "name": "stdout",
     "output_type": "stream",
     "text": [
      "Детальное описание:\n",
      "count    10328.000000\n",
      "mean      9065.214648\n",
      "std         22.555561\n",
      "min       9021.730000\n",
      "25%       9052.570000\n",
      "50%       9060.655000\n",
      "75%       9069.580000\n",
      "max       9244.590000\n",
      "Name: p20, dtype: float64\n",
      "Столбец s1\n",
      "Распределение признака:\n"
     ]
    },
    {
     "data": {
      "image/png": "[encoded data removed]",
      "text/plain": [
       "<Figure size 432x288 with 1 Axes>"
      ]
     },
     "metadata": {
      "needs_background": "light",
      "tags": []
     },
     "output_type": "display_data"
    },
    {
     "name": "stdout",
     "output_type": "stream",
     "text": [
      "Детальное описание:\n",
      "count    10328.000000\n",
      "mean         0.000004\n",
      "std          0.002183\n",
      "min         -0.008600\n",
      "25%         -0.001400\n",
      "50%          0.000000\n",
      "75%          0.001500\n",
      "max          0.008700\n",
      "Name: s1, dtype: float64\n",
      "Столбец s2\n",
      "Распределение признака:\n"
     ]
    },
    {
     "data": {
      "image/png": "[encoded data removed]",
      "text/plain": [
       "<Figure size 432x288 with 1 Axes>"
      ]
     },
     "metadata": {
      "needs_background": "light",
      "tags": []
     },
     "output_type": "display_data"
    },
    {
     "name": "stdout",
     "output_type": "stream",
     "text": [
      "Детальное описание:\n",
      "count    1.032800e+04\n",
      "mean     1.742835e-07\n",
      "std      2.945060e-04\n",
      "min     -6.000000e-04\n",
      "25%     -3.000000e-04\n",
      "50%      0.000000e+00\n",
      "75%      3.000000e-04\n",
      "max      6.000000e-04\n",
      "Name: s2, dtype: float64\n"
     ]
    }
   ],
   "source": [
    "desription('cycle')\n",
    "desription('p00')\n",
    "desription('p01')\n",
    "desription('p02')\n",
    "desription('p03')\n",
    "desription('p04')\n",
    "desription('p05')\n",
    "desription('p06')\n",
    "desription('p07')\n",
    "desription('p08')\n",
    "desription('p09')\n",
    "desription('p10')\n",
    "desription('p11')\n",
    "desription('p12')\n",
    "desription('p12')\n",
    "desription('p13')\n",
    "desription('p14')\n",
    "desription('p15')\n",
    "desription('p16')\n",
    "desription('p17')\n",
    "desription('p18')\n",
    "desription('p19')\n",
    "desription('p20')\n",
    "desription('s1')\n",
    "desription('s2')"
   ]
  },
  {
   "cell_type": "markdown",
   "metadata": {
    "id": "a7vNm-yqDh7R"
   },
   "source": [
    "# Feature engineering\n"
   ]
  },
  {
   "cell_type": "markdown",
   "metadata": {
    "id": "kMPhoIelBWd1"
   },
   "source": [
    "\n",
    "\n",
    "Видим, что есть значение времени (равное счетчику циклов работы), но нет индикатора события поломки, добавим его"
   ]
  },
  {
   "cell_type": "code",
   "execution_count": 11,
   "metadata": {
    "id": "WWWBcXFSvNWC"
   },
   "outputs": [],
   "source": [
    "#Находим для каждого id максимальное значение cycle:\n",
    "max_cycles = df_train.groupby('id').cycle.max()"
   ]
  },
  {
   "cell_type": "code",
   "execution_count": 12,
   "metadata": {
    "id": "rvSvuIi5vNJP"
   },
   "outputs": [],
   "source": [
    "#Создадим функцию, которой на вход подается строка датафрейма, и если значение cycle в этой строке равно значению соответствующего id в max_cycle, то возвращаем 1, иначе - 0.\n",
    "def create_break(row):\n",
    "    if row.cycle == max_cycles.loc[row.id]:\n",
    "        return 1\n",
    "    else:\n",
    "        return 0"
   ]
  },
  {
   "cell_type": "code",
   "execution_count": 13,
   "metadata": {
    "id": "VGUWP9ORvVcn"
   },
   "outputs": [],
   "source": [
    "#Записываем результаты этой функции в новый столбец break\n",
    "df_train['break'] = df_train.apply(lambda row: create_break(row), axis=1)"
   ]
  },
  {
   "cell_type": "code",
   "execution_count": 14,
   "metadata": {
    "colab": {
     "base_uri": "https://localhost:8080/",
     "height": 224
    },
    "id": "KBX5kMUava8s",
    "outputId": "57123c37-70f4-4d68-fe28-02f129b2b61b"
   },
   "outputs": [
    {
     "data": {
      "text/html": [
       "<div>\n",
       "<style scoped>\n",
       "    .dataframe tbody tr th:only-of-type {\n",
       "        vertical-align: middle;\n",
       "    }\n",
       "\n",
       "    .dataframe tbody tr th {\n",
       "        vertical-align: top;\n",
       "    }\n",
       "\n",
       "    .dataframe thead th {\n",
       "        text-align: right;\n",
       "    }\n",
       "</style>\n",
       "<table border=\"1\" class=\"dataframe\">\n",
       "  <thead>\n",
       "    <tr style=\"text-align: right;\">\n",
       "      <th></th>\n",
       "      <th>id</th>\n",
       "      <th>cycle</th>\n",
       "      <th>p00</th>\n",
       "      <th>p01</th>\n",
       "      <th>p02</th>\n",
       "      <th>p03</th>\n",
       "      <th>p04</th>\n",
       "      <th>p05</th>\n",
       "      <th>p06</th>\n",
       "      <th>p07</th>\n",
       "      <th>p08</th>\n",
       "      <th>p09</th>\n",
       "      <th>p10</th>\n",
       "      <th>p11</th>\n",
       "      <th>p12</th>\n",
       "      <th>p13</th>\n",
       "      <th>p14</th>\n",
       "      <th>p15</th>\n",
       "      <th>p16</th>\n",
       "      <th>p17</th>\n",
       "      <th>p18</th>\n",
       "      <th>p19</th>\n",
       "      <th>p20</th>\n",
       "      <th>s1</th>\n",
       "      <th>s2</th>\n",
       "      <th>break</th>\n",
       "    </tr>\n",
       "  </thead>\n",
       "  <tbody>\n",
       "    <tr>\n",
       "      <th>0</th>\n",
       "      <td>1</td>\n",
       "      <td>1</td>\n",
       "      <td>518.67</td>\n",
       "      <td>1.3</td>\n",
       "      <td>47.47</td>\n",
       "      <td>521.66</td>\n",
       "      <td>2388.02</td>\n",
       "      <td>8138.62</td>\n",
       "      <td>8.4195</td>\n",
       "      <td>0.03</td>\n",
       "      <td>392</td>\n",
       "      <td>2388</td>\n",
       "      <td>100</td>\n",
       "      <td>641.82</td>\n",
       "      <td>39.06</td>\n",
       "      <td>23.4190</td>\n",
       "      <td>1589.70</td>\n",
       "      <td>1400.60</td>\n",
       "      <td>14.62</td>\n",
       "      <td>21.61</td>\n",
       "      <td>554.36</td>\n",
       "      <td>2388.06</td>\n",
       "      <td>9046.19</td>\n",
       "      <td>-0.0007</td>\n",
       "      <td>-0.0004</td>\n",
       "      <td>0</td>\n",
       "    </tr>\n",
       "    <tr>\n",
       "      <th>1</th>\n",
       "      <td>1</td>\n",
       "      <td>2</td>\n",
       "      <td>518.67</td>\n",
       "      <td>1.3</td>\n",
       "      <td>47.49</td>\n",
       "      <td>522.28</td>\n",
       "      <td>2388.07</td>\n",
       "      <td>8131.49</td>\n",
       "      <td>8.4318</td>\n",
       "      <td>0.03</td>\n",
       "      <td>392</td>\n",
       "      <td>2388</td>\n",
       "      <td>100</td>\n",
       "      <td>642.15</td>\n",
       "      <td>39.00</td>\n",
       "      <td>23.4236</td>\n",
       "      <td>1591.82</td>\n",
       "      <td>1403.14</td>\n",
       "      <td>14.62</td>\n",
       "      <td>21.61</td>\n",
       "      <td>553.75</td>\n",
       "      <td>2388.04</td>\n",
       "      <td>9044.07</td>\n",
       "      <td>0.0019</td>\n",
       "      <td>-0.0003</td>\n",
       "      <td>0</td>\n",
       "    </tr>\n",
       "    <tr>\n",
       "      <th>2</th>\n",
       "      <td>1</td>\n",
       "      <td>3</td>\n",
       "      <td>518.67</td>\n",
       "      <td>1.3</td>\n",
       "      <td>47.27</td>\n",
       "      <td>522.42</td>\n",
       "      <td>2388.03</td>\n",
       "      <td>8133.23</td>\n",
       "      <td>8.4178</td>\n",
       "      <td>0.03</td>\n",
       "      <td>390</td>\n",
       "      <td>2388</td>\n",
       "      <td>100</td>\n",
       "      <td>642.35</td>\n",
       "      <td>38.95</td>\n",
       "      <td>23.3442</td>\n",
       "      <td>1587.99</td>\n",
       "      <td>1404.20</td>\n",
       "      <td>14.62</td>\n",
       "      <td>21.61</td>\n",
       "      <td>554.26</td>\n",
       "      <td>2388.08</td>\n",
       "      <td>9052.94</td>\n",
       "      <td>-0.0043</td>\n",
       "      <td>0.0003</td>\n",
       "      <td>0</td>\n",
       "    </tr>\n",
       "    <tr>\n",
       "      <th>3</th>\n",
       "      <td>1</td>\n",
       "      <td>4</td>\n",
       "      <td>518.67</td>\n",
       "      <td>1.3</td>\n",
       "      <td>47.13</td>\n",
       "      <td>522.86</td>\n",
       "      <td>2388.08</td>\n",
       "      <td>8133.83</td>\n",
       "      <td>8.3682</td>\n",
       "      <td>0.03</td>\n",
       "      <td>392</td>\n",
       "      <td>2388</td>\n",
       "      <td>100</td>\n",
       "      <td>642.35</td>\n",
       "      <td>38.88</td>\n",
       "      <td>23.3739</td>\n",
       "      <td>1582.79</td>\n",
       "      <td>1401.87</td>\n",
       "      <td>14.62</td>\n",
       "      <td>21.61</td>\n",
       "      <td>554.45</td>\n",
       "      <td>2388.11</td>\n",
       "      <td>9049.48</td>\n",
       "      <td>0.0007</td>\n",
       "      <td>0.0000</td>\n",
       "      <td>0</td>\n",
       "    </tr>\n",
       "    <tr>\n",
       "      <th>4</th>\n",
       "      <td>1</td>\n",
       "      <td>5</td>\n",
       "      <td>518.67</td>\n",
       "      <td>1.3</td>\n",
       "      <td>47.28</td>\n",
       "      <td>522.19</td>\n",
       "      <td>2388.04</td>\n",
       "      <td>8133.80</td>\n",
       "      <td>8.4294</td>\n",
       "      <td>0.03</td>\n",
       "      <td>393</td>\n",
       "      <td>2388</td>\n",
       "      <td>100</td>\n",
       "      <td>642.37</td>\n",
       "      <td>38.90</td>\n",
       "      <td>23.4044</td>\n",
       "      <td>1582.85</td>\n",
       "      <td>1406.22</td>\n",
       "      <td>14.62</td>\n",
       "      <td>21.61</td>\n",
       "      <td>554.00</td>\n",
       "      <td>2388.06</td>\n",
       "      <td>9055.15</td>\n",
       "      <td>-0.0019</td>\n",
       "      <td>-0.0002</td>\n",
       "      <td>0</td>\n",
       "    </tr>\n",
       "  </tbody>\n",
       "</table>\n",
       "</div>"
      ],
      "text/plain": [
       "   id  cycle     p00  p01    p02     p03      p04      p05     p06   p07  p08  \\\n",
       "0   1      1  518.67  1.3  47.47  521.66  2388.02  8138.62  8.4195  0.03  392   \n",
       "1   1      2  518.67  1.3  47.49  522.28  2388.07  8131.49  8.4318  0.03  392   \n",
       "2   1      3  518.67  1.3  47.27  522.42  2388.03  8133.23  8.4178  0.03  390   \n",
       "3   1      4  518.67  1.3  47.13  522.86  2388.08  8133.83  8.3682  0.03  392   \n",
       "4   1      5  518.67  1.3  47.28  522.19  2388.04  8133.80  8.4294  0.03  393   \n",
       "\n",
       "    p09  p10     p11    p12      p13      p14      p15    p16    p17     p18  \\\n",
       "0  2388  100  641.82  39.06  23.4190  1589.70  1400.60  14.62  21.61  554.36   \n",
       "1  2388  100  642.15  39.00  23.4236  1591.82  1403.14  14.62  21.61  553.75   \n",
       "2  2388  100  642.35  38.95  23.3442  1587.99  1404.20  14.62  21.61  554.26   \n",
       "3  2388  100  642.35  38.88  23.3739  1582.79  1401.87  14.62  21.61  554.45   \n",
       "4  2388  100  642.37  38.90  23.4044  1582.85  1406.22  14.62  21.61  554.00   \n",
       "\n",
       "       p19      p20      s1      s2  break  \n",
       "0  2388.06  9046.19 -0.0007 -0.0004      0  \n",
       "1  2388.04  9044.07  0.0019 -0.0003      0  \n",
       "2  2388.08  9052.94 -0.0043  0.0003      0  \n",
       "3  2388.11  9049.48  0.0007  0.0000      0  \n",
       "4  2388.06  9055.15 -0.0019 -0.0002      0  "
      ]
     },
     "execution_count": 14,
     "metadata": {
      "tags": []
     },
     "output_type": "execute_result"
    }
   ],
   "source": [
    "# проверяем, что получилось\n",
    "df_train.head()"
   ]
  },
  {
   "cell_type": "code",
   "execution_count": 15,
   "metadata": {
    "colab": {
     "base_uri": "https://localhost:8080/"
    },
    "id": "rJxELjX4vev_",
    "outputId": "63b6cba2-998e-4414-818c-b93d41f9b342"
   },
   "outputs": [
    {
     "data": {
      "text/plain": [
       "0    16058\n",
       "1       80\n",
       "Name: break, dtype: int64"
      ]
     },
     "execution_count": 15,
     "metadata": {
      "tags": []
     },
     "output_type": "execute_result"
    }
   ],
   "source": [
    "df_train['break'].value_counts()"
   ]
  },
  {
   "cell_type": "code",
   "execution_count": 16,
   "metadata": {
    "id": "S_xZPFX3-ucL"
   },
   "outputs": [],
   "source": [
    "#сохраним получившийся датасет в файл\n",
    "df_train.to_csv('df.csv', index=False)"
   ]
  },
  {
   "cell_type": "markdown",
   "metadata": {
    "id": "60uAfGfcDBfT"
   },
   "source": [
    "разделим обновленный датасет на обучающую, тестовую и валидационную выборки"
   ]
  },
  {
   "cell_type": "code",
   "execution_count": 18,
   "metadata": {
    "id": "6mehg-ErwNzz"
   },
   "outputs": [],
   "source": [
    "df_test = df_train.sample(frac=0.2)\n",
    "df_train = df_train.drop(df_test.index)\n",
    "df_val = df_train.sample(frac=0.2)\n",
    "df_train = df_train.drop(df_val.index)"
   ]
  },
  {
   "cell_type": "markdown",
   "metadata": {
    "id": "bipaOnoUGoTg"
   },
   "source": [
    "Основываясь на полученной информации о данных, примем решение стандартизировать большинство из признаков"
   ]
  },
  {
   "cell_type": "code",
   "execution_count": 19,
   "metadata": {
    "id": "Sh00iEpLbQg6"
   },
   "outputs": [],
   "source": [
    "cols_standardize = ['p00', 'p01', 'p02', 'p03', 'p04', 'p05', 'p06', 'p08', 'p09', 'p10', 'p11', 'p12', 'p13', 'p14', 'p15', 'p16', 'p17', 'p18', 'p19', 'p20']\n",
    "cols_leave = ['p07', 's1', 's2']\n",
    "\n",
    "standardize = [([col], StandardScaler()) for col in cols_standardize]\n",
    "leave = [(col, None) for col in cols_leave]\n",
    "\n",
    "x_mapper = DataFrameMapper(standardize + leave)"
   ]
  },
  {
   "cell_type": "code",
   "execution_count": 20,
   "metadata": {
    "id": "Tw7f_44mbQg6"
   },
   "outputs": [],
   "source": [
    "x_train = x_mapper.fit_transform(df_train).astype('float32')\n",
    "x_val = x_mapper.transform(df_val).astype('float32')\n",
    "x_test = x_mapper.transform(df_test).astype('float32')"
   ]
  },
  {
   "cell_type": "markdown",
   "metadata": {
    "id": "bNyIs4sVKW3P"
   },
   "source": [
    "# Кодирование меток\n",
    "Анализ выживания требует индивидуального преобразования меток.\n",
    "\n",
    "Использовала LogisticHazard - это метод с дискретным временем. Num_durations определяет размер этой сетки дискретизации."
   ]
  },
  {
   "cell_type": "code",
   "execution_count": 21,
   "metadata": {
    "id": "RS3oyKVXbQg7"
   },
   "outputs": [],
   "source": [
    "num_durations = 10\n",
    "\n",
    "labtrans = LogisticHazard.label_transform(num_durations)\n",
    "\n",
    "get_target = lambda df: (df['break'].values, df['cycle'].values)\n",
    "y_train = labtrans.fit_transform(*get_target(df_train))\n",
    "y_val = labtrans.transform(*get_target(df_val))\n",
    "\n",
    "train = (x_train, y_train)\n",
    "val = (x_val, y_val)\n",
    "\n",
    "durations_test, events_test = get_target(df_test)"
   ]
  },
  {
   "cell_type": "code",
   "execution_count": 22,
   "metadata": {
    "colab": {
     "base_uri": "https://localhost:8080/"
    },
    "id": "odKpeXm9bQg7",
    "outputId": "4176b668-5261-4ea3-d9f6-932738e01a9b"
   },
   "outputs": [
    {
     "data": {
      "text/plain": [
       "pycox.preprocessing.label_transforms.LabTransDiscreteTime"
      ]
     },
     "execution_count": 22,
     "metadata": {
      "tags": []
     },
     "output_type": "execute_result"
    }
   ],
   "source": [
    "type(labtrans)"
   ]
  },
  {
   "cell_type": "markdown",
   "metadata": {
    "id": "gzLJKhaCKgm6"
   },
   "source": [
    "Labtrans.cuts содержит сетку дискретизации. Будет использоваться для получения правильной шкалы времени для прогнозов выживаемости."
   ]
  },
  {
   "cell_type": "code",
   "execution_count": 23,
   "metadata": {
    "colab": {
     "base_uri": "https://localhost:8080/"
    },
    "id": "Hmr3sMRGbQg7",
    "outputId": "9bc0090d-fe16-4ac4-daf9-c9c23716b768"
   },
   "outputs": [
    {
     "data": {
      "text/plain": [
       "array([0.        , 0.11111111, 0.22222222, 0.33333333, 0.44444444,\n",
       "       0.55555556, 0.66666667, 0.77777778, 0.88888889, 1.        ])"
      ]
     },
     "execution_count": 23,
     "metadata": {
      "tags": []
     },
     "output_type": "execute_result"
    }
   ],
   "source": [
    "labtrans.cuts"
   ]
  },
  {
   "cell_type": "markdown",
   "metadata": {
    "id": "cy48tz7XKxRg"
   },
   "source": [
    "Теперь y_train - это кортеж с индексами дискретизированного времени в дополнение к индикаторам событий.\n"
   ]
  },
  {
   "cell_type": "code",
   "execution_count": 24,
   "metadata": {
    "colab": {
     "base_uri": "https://localhost:8080/"
    },
    "id": "pUKACn18bQg8",
    "outputId": "cf708094-8ece-4808-e44a-401743fadea1"
   },
   "outputs": [
    {
     "data": {
      "text/plain": [
       "(array([0, 0, 0, ..., 0, 0, 0]),\n",
       " array([1., 1., 1., ..., 1., 1., 1.], dtype=float32))"
      ]
     },
     "execution_count": 24,
     "metadata": {
      "tags": []
     },
     "output_type": "execute_result"
    }
   ],
   "source": [
    "y_train"
   ]
  },
  {
   "cell_type": "code",
   "execution_count": 25,
   "metadata": {
    "colab": {
     "base_uri": "https://localhost:8080/"
    },
    "id": "vadeuxj4bQg8",
    "outputId": "7cb00277-a3d3-4903-d92d-992fbc68abfc"
   },
   "outputs": [
    {
     "data": {
      "text/plain": [
       "array([0., 0., 0., ..., 0., 0., 0.])"
      ]
     },
     "execution_count": 25,
     "metadata": {
      "tags": []
     },
     "output_type": "execute_result"
    }
   ],
   "source": [
    "labtrans.cuts[y_train[0]]"
   ]
  },
  {
   "cell_type": "markdown",
   "metadata": {
    "id": "oMmEzggyK8hA"
   },
   "source": [
    "# Нейронная сеть\n",
    "Для тестового задания будем использовать MLPVanilla из torchtuples. В качестве точки роста можно будет создать более продвинутые нейросети "
   ]
  },
  {
   "cell_type": "code",
   "execution_count": 26,
   "metadata": {
    "id": "wSvNyU2XbQg8"
   },
   "outputs": [],
   "source": [
    "in_features = x_train.shape[1]\n",
    "num_nodes = [32, 32]\n",
    "out_features = labtrans.out_features\n",
    "batch_norm = True\n",
    "dropout = 0.1\n",
    "\n",
    "net = tt.practical.MLPVanilla(in_features, num_nodes, out_features, batch_norm, dropout)"
   ]
  },
  {
   "cell_type": "markdown",
   "metadata": {
    "id": "lgLbNq8AL1uN"
   },
   "source": [
    "## Обучаем модель"
   ]
  },
  {
   "cell_type": "code",
   "execution_count": 27,
   "metadata": {
    "id": "0wmLamDTbQg9"
   },
   "outputs": [],
   "source": [
    "model = LogisticHazard(net, tt.optim.Adam(0.01), duration_index=labtrans.cuts)"
   ]
  },
  {
   "cell_type": "code",
   "execution_count": 28,
   "metadata": {
    "id": "GCgFRhCxbQg9"
   },
   "outputs": [],
   "source": [
    "batch_size = 256\n",
    "epochs = 100\n",
    "callbacks = [tt.cb.EarlyStopping()]"
   ]
  },
  {
   "cell_type": "code",
   "execution_count": 29,
   "metadata": {
    "colab": {
     "base_uri": "https://localhost:8080/"
    },
    "id": "r8wAEmRNbQg9",
    "outputId": "cc23cd41-ac22-4049-c8fd-db78630908c6"
   },
   "outputs": [
    {
     "name": "stdout",
     "output_type": "stream",
     "text": [
      "0:\t[0s / 0s],\t\ttrain_loss: 0.4404,\tval_loss: 0.1413\n",
      "1:\t[0s / 0s],\t\ttrain_loss: 0.0639,\tval_loss: 0.0177\n",
      "2:\t[0s / 0s],\t\ttrain_loss: 0.0279,\tval_loss: 0.0158\n",
      "3:\t[0s / 0s],\t\ttrain_loss: 0.0258,\tval_loss: 0.0111\n",
      "4:\t[0s / 0s],\t\ttrain_loss: 0.0222,\tval_loss: 0.0104\n",
      "5:\t[0s / 0s],\t\ttrain_loss: 0.0233,\tval_loss: 0.0159\n",
      "6:\t[0s / 0s],\t\ttrain_loss: 0.0216,\tval_loss: 0.0108\n",
      "7:\t[0s / 1s],\t\ttrain_loss: 0.0188,\tval_loss: 0.0103\n",
      "8:\t[0s / 1s],\t\ttrain_loss: 0.0204,\tval_loss: 0.0101\n",
      "9:\t[0s / 1s],\t\ttrain_loss: 0.0204,\tval_loss: 0.0127\n",
      "10:\t[0s / 1s],\t\ttrain_loss: 0.0195,\tval_loss: 0.0127\n",
      "11:\t[0s / 1s],\t\ttrain_loss: 0.0194,\tval_loss: 0.0100\n",
      "12:\t[0s / 1s],\t\ttrain_loss: 0.0203,\tval_loss: 0.0101\n",
      "13:\t[0s / 1s],\t\ttrain_loss: 0.0228,\tval_loss: 0.0115\n",
      "14:\t[0s / 1s],\t\ttrain_loss: 0.0172,\tval_loss: 0.0102\n",
      "15:\t[0s / 1s],\t\ttrain_loss: 0.0155,\tval_loss: 0.0119\n",
      "16:\t[0s / 2s],\t\ttrain_loss: 0.0172,\tval_loss: 0.0113\n",
      "17:\t[0s / 2s],\t\ttrain_loss: 0.0154,\tval_loss: 0.0106\n",
      "18:\t[0s / 2s],\t\ttrain_loss: 0.0153,\tval_loss: 0.0104\n",
      "19:\t[0s / 2s],\t\ttrain_loss: 0.0180,\tval_loss: 0.0103\n",
      "20:\t[0s / 2s],\t\ttrain_loss: 0.0155,\tval_loss: 0.0109\n",
      "21:\t[0s / 2s],\t\ttrain_loss: 0.0149,\tval_loss: 0.0108\n"
     ]
    }
   ],
   "source": [
    "log = model.fit(x_train, y_train, batch_size, epochs, callbacks, val_data=val)"
   ]
  },
  {
   "cell_type": "code",
   "execution_count": 30,
   "metadata": {
    "colab": {
     "base_uri": "https://localhost:8080/",
     "height": 265
    },
    "id": "4k189kf8bQg9",
    "outputId": "7fb067d7-8748-48a3-bfcb-a0d42df90c22"
   },
   "outputs": [
    {
     "data": {
      "image/png": "[encoded data removed]",
      "text/plain": [
       "<Figure size 432x288 with 1 Axes>"
      ]
     },
     "metadata": {
      "needs_background": "light",
      "tags": []
     },
     "output_type": "display_data"
    }
   ],
   "source": [
    "_ = log.plot()"
   ]
  },
  {
   "cell_type": "markdown",
   "metadata": {
    "id": "yvmJjpqsMUbK"
   },
   "source": [
    "После завершения колбек EarlyStopping загружает наиболее эффективную модель (с точки зрения ошибки). "
   ]
  },
  {
   "cell_type": "code",
   "execution_count": 31,
   "metadata": {
    "colab": {
     "base_uri": "https://localhost:8080/"
    },
    "id": "3n7iud9mbQg-",
    "outputId": "ea75d851-5435-45b6-a1b1-2f39abded649"
   },
   "outputs": [
    {
     "data": {
      "text/plain": [
       "0.009986515156924725"
      ]
     },
     "execution_count": 31,
     "metadata": {
      "tags": []
     },
     "output_type": "execute_result"
    }
   ],
   "source": [
    "log.to_pandas().val_loss.min()"
   ]
  },
  {
   "cell_type": "code",
   "execution_count": 32,
   "metadata": {
    "colab": {
     "base_uri": "https://localhost:8080/"
    },
    "id": "Ukpe2lpQbQg-",
    "outputId": "b19d56b7-1ac3-4f1f-81b3-341e1e10a611"
   },
   "outputs": [
    {
     "data": {
      "text/plain": [
       "{'loss': 0.009986515156924725}"
      ]
     },
     "execution_count": 32,
     "metadata": {
      "tags": []
     },
     "output_type": "execute_result"
    }
   ],
   "source": [
    "model.score_in_batches(val)"
   ]
  },
  {
   "cell_type": "markdown",
   "metadata": {
    "id": "9A36-Gx8NIf6"
   },
   "source": [
    "\n",
    "## Предсказываем\n",
    "Сначала предскажем выживаемость для тестовой выборки"
   ]
  },
  {
   "cell_type": "code",
   "execution_count": 33,
   "metadata": {
    "id": "Rgj13bsBbQg-"
   },
   "outputs": [],
   "source": [
    "surv = model.predict_surv_df(x_test)"
   ]
  },
  {
   "cell_type": "markdown",
   "metadata": {
    "id": "YtSw-_3vNWDw"
   },
   "source": [
    "Выведем на график оценки выживаемости для первых 5 наблюдений"
   ]
  },
  {
   "cell_type": "code",
   "execution_count": 34,
   "metadata": {
    "colab": {
     "base_uri": "https://localhost:8080/",
     "height": 279
    },
    "id": "72Op8aVZbQg_",
    "outputId": "f6367b57-16ff-4386-c5b1-8e22715571c4"
   },
   "outputs": [
    {
     "data": {
      "image/png": "[encoded data removed]",
      "text/plain": [
       "<Figure size 432x288 with 1 Axes>"
      ]
     },
     "metadata": {
      "needs_background": "light",
      "tags": []
     },
     "output_type": "display_data"
    }
   ],
   "source": [
    "surv.iloc[:, :5].plot(drawstyle='steps-post')\n",
    "plt.ylabel('S(t | x)')\n",
    "_ = plt.xlabel('Time')"
   ]
  },
  {
   "cell_type": "markdown",
   "metadata": {
    "id": "9SDAQSM5Nf7l"
   },
   "source": [
    "Проинтерполируем оценки выживаемости. Заменим по 10 точек каждой точкой сетки."
   ]
  },
  {
   "cell_type": "code",
   "execution_count": 35,
   "metadata": {
    "id": "0dHfGCScbQg_"
   },
   "outputs": [],
   "source": [
    "surv = model.interpolate(10).predict_surv_df(x_test)"
   ]
  },
  {
   "cell_type": "code",
   "execution_count": 36,
   "metadata": {
    "colab": {
     "base_uri": "https://localhost:8080/",
     "height": 279
    },
    "id": "rcrqlfEjbQg_",
    "outputId": "b102c8e7-67fb-4f34-8b9f-72123b9fc954"
   },
   "outputs": [
    {
     "data": {
      "image/png": "[encoded data removed]",
      "text/plain": [
       "<Figure size 432x288 with 1 Axes>"
      ]
     },
     "metadata": {
      "needs_background": "light",
      "tags": []
     },
     "output_type": "display_data"
    }
   ],
   "source": [
    "surv.iloc[:, :5].plot(drawstyle='steps-post')\n",
    "plt.ylabel('S(t | x)')\n",
    "_ = plt.xlabel('Time')"
   ]
  },
  {
   "cell_type": "markdown",
   "metadata": {
    "id": "0cBjzLBqNuQD"
   },
   "source": [
    "## Оценка\n",
    "Класс EvalSurv содержит некоторые полезные критерии оценки для прогнозирования времени до события. Мы устанавливаем censor_surv = 'km', то есть будем использовать методология Каплана-Мейера для описания функции выживания. Этот метод позволяет сравнивать функции выживания между собой, чтобы определить есть ли между ними статистически-значимая разница"
   ]
  },
  {
   "cell_type": "code",
   "execution_count": 37,
   "metadata": {
    "id": "b4BUb9BBbQg_"
   },
   "outputs": [],
   "source": [
    "ev = EvalSurv(surv, durations_test, events_test, censor_surv='km')"
   ]
  },
  {
   "cell_type": "markdown",
   "metadata": {
    "id": "Is-mW886mw0D"
   },
   "source": [
    "#Сoncordance index\n",
    "Полученная модель демонстрирует следующие значения concordance index (индекс соответствия), который используется для измерения того, насколько хорошо модель предсказывает время до события."
   ]
  },
  {
   "cell_type": "code",
   "execution_count": 38,
   "metadata": {
    "colab": {
     "base_uri": "https://localhost:8080/"
    },
    "id": "_Vn0SZ-5bQhB",
    "outputId": "3f43af77-1084-4abe-ef7d-1bb26b109aca"
   },
   "outputs": [
    {
     "data": {
      "text/plain": [
       "0.9885365853658536"
      ]
     },
     "execution_count": 38,
     "metadata": {
      "tags": []
     },
     "output_type": "execute_result"
    }
   ],
   "source": [
    "ev.concordance_td('antolini')"
   ]
  },
  {
   "cell_type": "markdown",
   "metadata": {
    "id": "Qd_mXCRqQfHg"
   },
   "source": [
    "В целом, результат достаточно хороший. "
   ]
  }
 ],
 "metadata": {
  "colab": {
   "collapsed_sections": [],
   "name": "Daria_Mishina_test_case.ipynb\"",
   "provenance": []
  },
  "kernelspec": {
   "display_name": "Python 3",
   "language": "python",
   "name": "python3"
  },
  "language_info": {
   "codemirror_mode": {
    "name": "ipython",
    "version": 3
   },
   "file_extension": ".py",
   "mimetype": "text/x-python",
   "name": "python",
   "nbconvert_exporter": "python",
   "pygments_lexer": "ipython3",
   "version": "3.7.6"
  },
  "toc": {
   "base_numbering": 1,
   "nav_menu": {},
   "number_sections": true,
   "sideBar": true,
   "skip_h1_title": false,
   "title_cell": "Table of Contents",
   "title_sidebar": "Contents",
   "toc_cell": false,
   "toc_position": {},
   "toc_section_display": true,
   "toc_window_display": true
  },
  "varInspector": {
   "cols": {
    "lenName": 16,
    "lenType": 16,
    "lenVar": 40
   },
   "kernels_config": {
    "python": {
     "delete_cmd_postfix": "",
     "delete_cmd_prefix": "del ",
     "library": "var_list.py",
     "varRefreshCmd": "print(var_dic_list())"
    },
    "r": {
     "delete_cmd_postfix": ") ",
     "delete_cmd_prefix": "rm(",
     "library": "var_list.r",
     "varRefreshCmd": "cat(var_dic_list()) "
    }
   },
   "types_to_exclude": [
    "module",
    "function",
    "builtin_function_or_method",
    "instance",
    "_Feature"
   ],
   "window_display": false
  }
 },
 "nbformat": 4,
 "nbformat_minor": 1
}
