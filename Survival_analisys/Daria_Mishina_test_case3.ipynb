{
  "nbformat": 4,
  "nbformat_minor": 0,
  "metadata": {
    "colab": {
      "name": "Daria_Mishina_test_case-Copy1.ipynb",
      "provenance": [],
      "collapsed_sections": [],
      "toc_visible": true
    },
    "kernelspec": {
      "display_name": "Python 3",
      "language": "python",
      "name": "python3"
    },
    "language_info": {
      "codemirror_mode": {
        "name": "ipython",
        "version": 3
      },
      "file_extension": ".py",
      "mimetype": "text/x-python",
      "name": "python",
      "nbconvert_exporter": "python",
      "pygments_lexer": "ipython3",
      "version": "3.7.6"
    },
    "toc": {
      "base_numbering": 1,
      "nav_menu": {},
      "number_sections": true,
      "sideBar": true,
      "skip_h1_title": false,
      "title_cell": "Table of Contents",
      "title_sidebar": "Contents",
      "toc_cell": false,
      "toc_position": {},
      "toc_section_display": true,
      "toc_window_display": true
    },
    "varInspector": {
      "cols": {
        "lenName": 16,
        "lenType": 16,
        "lenVar": 40
      },
      "kernels_config": {
        "python": {
          "delete_cmd_postfix": "",
          "delete_cmd_prefix": "del ",
          "library": "var_list.py",
          "varRefreshCmd": "print(var_dic_list())"
        },
        "r": {
          "delete_cmd_postfix": ") ",
          "delete_cmd_prefix": "rm(",
          "library": "var_list.r",
          "varRefreshCmd": "cat(var_dic_list()) "
        }
      },
      "types_to_exclude": [
        "module",
        "function",
        "builtin_function_or_method",
        "instance",
        "_Feature"
      ],
      "window_display": false
    },
    "accelerator": "GPU"
  },
  "cells": [
    {
      "cell_type": "markdown",
      "metadata": {
        "id": "SxK0ovXWHPwe"
      },
      "source": [
        "Задача была мной интерпретирована как задача на анализ выживаемости или надёжности (survival analysis). То есть, буду рассчитывать, как различные факторы влияют на продолжительность работы оборудования и анализировать время до наступления аварии\n",
        "\n"
      ]
    },
    {
      "cell_type": "markdown",
      "metadata": {
        "id": "jPuv--fO8wOM"
      },
      "source": [
        "# Импорт нужных библиотек\n",
        "\n",
        "решение выполнялось в google colab, установим нужные пакеты и затем импорируем библиотеки"
      ]
    },
    {
      "cell_type": "code",
      "metadata": {
        "colab": {
          "base_uri": "https://localhost:8080/"
        },
        "id": "JpJbM4QEbQg3",
        "outputId": "5691b94b-ba11-4c58-f569-a56504334f1d"
      },
      "source": [
        "! pip install sklearn-pandas"
      ],
      "execution_count": 1,
      "outputs": [
        {
          "output_type": "stream",
          "text": [
            "Requirement already satisfied: sklearn-pandas in /usr/local/lib/python3.7/dist-packages (1.8.0)\n",
            "Requirement already satisfied: scipy>=0.14 in /usr/local/lib/python3.7/dist-packages (from sklearn-pandas) (1.4.1)\n",
            "Requirement already satisfied: scikit-learn>=0.15.0 in /usr/local/lib/python3.7/dist-packages (from sklearn-pandas) (0.22.2.post1)\n",
            "Requirement already satisfied: pandas>=0.11.0 in /usr/local/lib/python3.7/dist-packages (from sklearn-pandas) (1.1.5)\n",
            "Requirement already satisfied: numpy>=1.6.1 in /usr/local/lib/python3.7/dist-packages (from sklearn-pandas) (1.19.5)\n",
            "Requirement already satisfied: joblib>=0.11 in /usr/local/lib/python3.7/dist-packages (from scikit-learn>=0.15.0->sklearn-pandas) (1.0.1)\n",
            "Requirement already satisfied: python-dateutil>=2.7.3 in /usr/local/lib/python3.7/dist-packages (from pandas>=0.11.0->sklearn-pandas) (2.8.1)\n",
            "Requirement already satisfied: pytz>=2017.2 in /usr/local/lib/python3.7/dist-packages (from pandas>=0.11.0->sklearn-pandas) (2018.9)\n",
            "Requirement already satisfied: six>=1.5 in /usr/local/lib/python3.7/dist-packages (from python-dateutil>=2.7.3->pandas>=0.11.0->sklearn-pandas) (1.15.0)\n"
          ],
          "name": "stdout"
        }
      ]
    },
    {
      "cell_type": "code",
      "metadata": {
        "colab": {
          "base_uri": "https://localhost:8080/"
        },
        "id": "Tw8KkXJ9bcBP",
        "outputId": "231d4741-0afe-48c6-9800-a56eefda8f97"
      },
      "source": [
        "pip install torchtuples"
      ],
      "execution_count": 2,
      "outputs": [
        {
          "output_type": "stream",
          "text": [
            "Collecting torchtuples\n",
            "\u001b[?25l  Downloading https://files.pythonhosted.org/packages/95/70/93eb42c0a46ef94b3885b8e5611a8019d00522a9ab7343d4ca25033afd44/torchtuples-0.2.0-py3-none-any.whl (41kB)\n",
            "\r\u001b[K     |███████▉                        | 10kB 20.3MB/s eta 0:00:01\r\u001b[K     |███████████████▊                | 20kB 27.9MB/s eta 0:00:01\r\u001b[K     |███████████████████████▋        | 30kB 20.8MB/s eta 0:00:01\r\u001b[K     |███████████████████████████████▌| 40kB 16.9MB/s eta 0:00:01\r\u001b[K     |████████████████████████████████| 51kB 6.6MB/s \n",
            "\u001b[?25hRequirement already satisfied: pandas>=0.24.2 in /usr/local/lib/python3.7/dist-packages (from torchtuples) (1.1.5)\n",
            "Requirement already satisfied: numpy>=1.15.4 in /usr/local/lib/python3.7/dist-packages (from torchtuples) (1.19.5)\n",
            "Requirement already satisfied: matplotlib>=3.0.3 in /usr/local/lib/python3.7/dist-packages (from torchtuples) (3.2.2)\n",
            "Requirement already satisfied: python-dateutil>=2.7.3 in /usr/local/lib/python3.7/dist-packages (from pandas>=0.24.2->torchtuples) (2.8.1)\n",
            "Requirement already satisfied: pytz>=2017.2 in /usr/local/lib/python3.7/dist-packages (from pandas>=0.24.2->torchtuples) (2018.9)\n",
            "Requirement already satisfied: pyparsing!=2.0.4,!=2.1.2,!=2.1.6,>=2.0.1 in /usr/local/lib/python3.7/dist-packages (from matplotlib>=3.0.3->torchtuples) (2.4.7)\n",
            "Requirement already satisfied: cycler>=0.10 in /usr/local/lib/python3.7/dist-packages (from matplotlib>=3.0.3->torchtuples) (0.10.0)\n",
            "Requirement already satisfied: kiwisolver>=1.0.1 in /usr/local/lib/python3.7/dist-packages (from matplotlib>=3.0.3->torchtuples) (1.3.1)\n",
            "Requirement already satisfied: six>=1.5 in /usr/local/lib/python3.7/dist-packages (from python-dateutil>=2.7.3->pandas>=0.24.2->torchtuples) (1.15.0)\n",
            "Installing collected packages: torchtuples\n",
            "Successfully installed torchtuples-0.2.0\n"
          ],
          "name": "stdout"
        }
      ]
    },
    {
      "cell_type": "code",
      "metadata": {
        "colab": {
          "base_uri": "https://localhost:8080/"
        },
        "id": "YjrNG3XubQg5",
        "outputId": "246e66cb-42a4-4334-ab5e-70441de0261a"
      },
      "source": [
        "!pip install pycox"
      ],
      "execution_count": 3,
      "outputs": [
        {
          "output_type": "stream",
          "text": [
            "Collecting pycox\n",
            "\u001b[?25l  Downloading https://files.pythonhosted.org/packages/b6/b5/cb5f3b20c9f00843989490595830e24b45506394dc8be07d8d4db3639cf1/pycox-0.2.2-py3-none-any.whl (73kB)\n",
            "\u001b[K     |████████████████████████████████| 81kB 7.8MB/s \n",
            "\u001b[?25hCollecting py7zr>=0.11.3\n",
            "\u001b[?25l  Downloading https://files.pythonhosted.org/packages/45/8b/79453b7fb9d03f615d41c24b29f0c687cc32b114f2205d90bb5fb5fa4362/py7zr-0.14.1-py3-none-any.whl (68kB)\n",
            "\u001b[K     |████████████████████████████████| 71kB 8.1MB/s \n",
            "\u001b[?25hRequirement already satisfied: scikit-learn>=0.21.2 in /usr/local/lib/python3.7/dist-packages (from pycox) (0.22.2.post1)\n",
            "Requirement already satisfied: torchtuples>=0.2.0 in /usr/local/lib/python3.7/dist-packages (from pycox) (0.2.0)\n",
            "Requirement already satisfied: h5py>=2.9.0 in /usr/local/lib/python3.7/dist-packages (from pycox) (2.10.0)\n",
            "Requirement already satisfied: feather-format>=0.4.0 in /usr/local/lib/python3.7/dist-packages (from pycox) (0.4.1)\n",
            "Requirement already satisfied: requests>=2.22.0 in /usr/local/lib/python3.7/dist-packages (from pycox) (2.23.0)\n",
            "Requirement already satisfied: numba>=0.44 in /usr/local/lib/python3.7/dist-packages (from pycox) (0.51.2)\n",
            "Requirement already satisfied: importlib-metadata; python_version < \"3.8\" in /usr/local/lib/python3.7/dist-packages (from py7zr>=0.11.3->pycox) (3.7.0)\n",
            "Collecting ppmd-cffi<0.4.0,>=0.3.1\n",
            "\u001b[?25l  Downloading https://files.pythonhosted.org/packages/20/54/780ac526a6c81783c48e5341418f7295dcabfcb28b236eb412e806053e4c/ppmd_cffi-0.3.3-cp37-cp37m-manylinux2014_x86_64.whl (122kB)\n",
            "\u001b[K     |████████████████████████████████| 122kB 17.6MB/s \n",
            "\u001b[?25hCollecting bcj-cffi<0.6.0,>=0.5.0\n",
            "  Downloading https://files.pythonhosted.org/packages/f4/a7/1610527d72957416fa25606062cb4151e7f7e697b8224aa47079d3d14d56/bcj_cffi-0.5.0-cp37-cp37m-manylinux2014_x86_64.whl\n",
            "Collecting texttable\n",
            "  Downloading https://files.pythonhosted.org/packages/06/f5/46201c428aebe0eecfa83df66bf3e6caa29659dbac5a56ddfd83cae0d4a4/texttable-1.6.3-py2.py3-none-any.whl\n",
            "Collecting multivolumefile<0.3.0,>=0.2.0\n",
            "  Downloading https://files.pythonhosted.org/packages/02/2d/c7b951e8624edc8f44e544203cb45e5bad4b493665ecc7e442a6ff6cd943/multivolumefile-0.2.2-py3-none-any.whl\n",
            "Collecting pycryptodome\n",
            "\u001b[?25l  Downloading https://files.pythonhosted.org/packages/ad/16/9627ab0493894a11c68e46000dbcc82f578c8ff06bc2980dcd016aea9bd3/pycryptodome-3.10.1-cp35-abi3-manylinux2010_x86_64.whl (1.9MB)\n",
            "\u001b[K     |████████████████████████████████| 1.9MB 9.8MB/s \n",
            "\u001b[?25hCollecting pyzstd<0.15.0,>=0.14.1; platform_python_implementation == \"CPython\"\n",
            "\u001b[?25l  Downloading https://files.pythonhosted.org/packages/e9/50/766ed314ff309b0fde72aac1560e8902ba5210bb626cb57d44ada53ea42d/pyzstd-0.14.3-cp37-cp37m-manylinux2014_x86_64.whl (2.2MB)\n",
            "\u001b[K     |████████████████████████████████| 2.2MB 49.7MB/s \n",
            "\u001b[?25hRequirement already satisfied: joblib>=0.11 in /usr/local/lib/python3.7/dist-packages (from scikit-learn>=0.21.2->pycox) (1.0.1)\n",
            "Requirement already satisfied: scipy>=0.17.0 in /usr/local/lib/python3.7/dist-packages (from scikit-learn>=0.21.2->pycox) (1.4.1)\n",
            "Requirement already satisfied: numpy>=1.11.0 in /usr/local/lib/python3.7/dist-packages (from scikit-learn>=0.21.2->pycox) (1.19.5)\n",
            "Requirement already satisfied: matplotlib>=3.0.3 in /usr/local/lib/python3.7/dist-packages (from torchtuples>=0.2.0->pycox) (3.2.2)\n",
            "Requirement already satisfied: pandas>=0.24.2 in /usr/local/lib/python3.7/dist-packages (from torchtuples>=0.2.0->pycox) (1.1.5)\n",
            "Requirement already satisfied: six in /usr/local/lib/python3.7/dist-packages (from h5py>=2.9.0->pycox) (1.15.0)\n",
            "Requirement already satisfied: pyarrow>=0.4.0 in /usr/local/lib/python3.7/dist-packages (from feather-format>=0.4.0->pycox) (3.0.0)\n",
            "Requirement already satisfied: certifi>=2017.4.17 in /usr/local/lib/python3.7/dist-packages (from requests>=2.22.0->pycox) (2020.12.5)\n",
            "Requirement already satisfied: chardet<4,>=3.0.2 in /usr/local/lib/python3.7/dist-packages (from requests>=2.22.0->pycox) (3.0.4)\n",
            "Requirement already satisfied: urllib3!=1.25.0,!=1.25.1,<1.26,>=1.21.1 in /usr/local/lib/python3.7/dist-packages (from requests>=2.22.0->pycox) (1.24.3)\n",
            "Requirement already satisfied: idna<3,>=2.5 in /usr/local/lib/python3.7/dist-packages (from requests>=2.22.0->pycox) (2.10)\n",
            "Requirement already satisfied: llvmlite<0.35,>=0.34.0.dev0 in /usr/local/lib/python3.7/dist-packages (from numba>=0.44->pycox) (0.34.0)\n",
            "Requirement already satisfied: setuptools in /usr/local/lib/python3.7/dist-packages (from numba>=0.44->pycox) (54.0.0)\n",
            "Requirement already satisfied: typing-extensions>=3.6.4; python_version < \"3.8\" in /usr/local/lib/python3.7/dist-packages (from importlib-metadata; python_version < \"3.8\"->py7zr>=0.11.3->pycox) (3.7.4.3)\n",
            "Requirement already satisfied: zipp>=0.5 in /usr/local/lib/python3.7/dist-packages (from importlib-metadata; python_version < \"3.8\"->py7zr>=0.11.3->pycox) (3.4.0)\n",
            "Requirement already satisfied: cffi>=1.14.0 in /usr/local/lib/python3.7/dist-packages (from ppmd-cffi<0.4.0,>=0.3.1->py7zr>=0.11.3->pycox) (1.14.5)\n",
            "Requirement already satisfied: cycler>=0.10 in /usr/local/lib/python3.7/dist-packages (from matplotlib>=3.0.3->torchtuples>=0.2.0->pycox) (0.10.0)\n",
            "Requirement already satisfied: python-dateutil>=2.1 in /usr/local/lib/python3.7/dist-packages (from matplotlib>=3.0.3->torchtuples>=0.2.0->pycox) (2.8.1)\n",
            "Requirement already satisfied: kiwisolver>=1.0.1 in /usr/local/lib/python3.7/dist-packages (from matplotlib>=3.0.3->torchtuples>=0.2.0->pycox) (1.3.1)\n",
            "Requirement already satisfied: pyparsing!=2.0.4,!=2.1.2,!=2.1.6,>=2.0.1 in /usr/local/lib/python3.7/dist-packages (from matplotlib>=3.0.3->torchtuples>=0.2.0->pycox) (2.4.7)\n",
            "Requirement already satisfied: pytz>=2017.2 in /usr/local/lib/python3.7/dist-packages (from pandas>=0.24.2->torchtuples>=0.2.0->pycox) (2018.9)\n",
            "Requirement already satisfied: pycparser in /usr/local/lib/python3.7/dist-packages (from cffi>=1.14.0->ppmd-cffi<0.4.0,>=0.3.1->py7zr>=0.11.3->pycox) (2.20)\n",
            "Installing collected packages: ppmd-cffi, bcj-cffi, texttable, multivolumefile, pycryptodome, pyzstd, py7zr, pycox\n",
            "Successfully installed bcj-cffi-0.5.0 multivolumefile-0.2.2 ppmd-cffi-0.3.3 py7zr-0.14.1 pycox-0.2.2 pycryptodome-3.10.1 pyzstd-0.14.3 texttable-1.6.3\n"
          ],
          "name": "stdout"
        }
      ]
    },
    {
      "cell_type": "code",
      "metadata": {
        "id": "f4KvUHpJbQg4",
        "scrolled": true
      },
      "source": [
        "import numpy as np\n",
        "import pandas as pd\n",
        "\n",
        "pd.set_option('display.max_rows', 50)  # показывать больше строк\n",
        "pd.set_option('display.max_columns', 50)  # показывать больше колонок\n",
        "\n",
        "import matplotlib.pyplot as plt\n",
        "%matplotlib inline\n",
        "import seaborn as sns\n",
        "\n",
        "from sklearn.preprocessing import MinMaxScaler\n",
        "from sklearn_pandas import DataFrameMapper "
      ],
      "execution_count": 100,
      "outputs": []
    },
    {
      "cell_type": "code",
      "metadata": {
        "id": "FG533ALxbQg4"
      },
      "source": [
        "import torch  \n",
        "import torchtuples as tt "
      ],
      "execution_count": 5,
      "outputs": []
    },
    {
      "cell_type": "code",
      "metadata": {
        "id": "JQGAvtb5bQg5"
      },
      "source": [
        "from pycox.models import LogisticHazard\n",
        "from pycox.evaluation import EvalSurv"
      ],
      "execution_count": 6,
      "outputs": []
    },
    {
      "cell_type": "code",
      "metadata": {
        "id": "3BpzVEjzbQg5"
      },
      "source": [
        "np.random.seed(1234)\n",
        "_ = torch.manual_seed(123)"
      ],
      "execution_count": 7,
      "outputs": []
    },
    {
      "cell_type": "markdown",
      "metadata": {
        "id": "tP0xzPOa_8_s"
      },
      "source": [
        "## Загрузка и обработка данных"
      ]
    },
    {
      "cell_type": "code",
      "metadata": {
        "id": "KWefo_cw4SNN"
      },
      "source": [
        "df_train = pd.read_excel('241-1.xlsx', skiprows=[1])"
      ],
      "execution_count": 206,
      "outputs": []
    },
    {
      "cell_type": "code",
      "metadata": {
        "colab": {
          "base_uri": "https://localhost:8080/",
          "height": 224
        },
        "id": "s5el_5q6CchZ",
        "outputId": "640c4d99-a38b-404f-a198-cf09a8354824"
      },
      "source": [
        "df_train.head()"
      ],
      "execution_count": 210,
      "outputs": [
        {
          "output_type": "execute_result",
          "data": {
            "text/html": [
              "<div>\n",
              "<style scoped>\n",
              "    .dataframe tbody tr th:only-of-type {\n",
              "        vertical-align: middle;\n",
              "    }\n",
              "\n",
              "    .dataframe tbody tr th {\n",
              "        vertical-align: top;\n",
              "    }\n",
              "\n",
              "    .dataframe thead th {\n",
              "        text-align: right;\n",
              "    }\n",
              "</style>\n",
              "<table border=\"1\" class=\"dataframe\">\n",
              "  <thead>\n",
              "    <tr style=\"text-align: right;\">\n",
              "      <th></th>\n",
              "      <th>Date/Time</th>\n",
              "      <th>StuckPipe</th>\n",
              "      <th>TVD</th>\n",
              "      <th>DEPT</th>\n",
              "      <th>CDEPTH</th>\n",
              "      <th>HDTH</th>\n",
              "      <th>BPOS</th>\n",
              "      <th>HKLD</th>\n",
              "      <th>STOR</th>\n",
              "      <th>FLWI</th>\n",
              "      <th>RPM</th>\n",
              "      <th>SPPA</th>\n",
              "      <th>ECD</th>\n",
              "      <th>DLS</th>\n",
              "      <th>INCL</th>\n",
              "      <th>AZIM</th>\n",
              "      <th>GR</th>\n",
              "      <th>APRS</th>\n",
              "      <th>BVEL</th>\n",
              "      <th>RIG_STATE</th>\n",
              "      <th>Stick_Slip_Ratio</th>\n",
              "      <th>StickPercentage</th>\n",
              "      <th>ESD</th>\n",
              "    </tr>\n",
              "  </thead>\n",
              "  <tbody>\n",
              "    <tr>\n",
              "      <th>0</th>\n",
              "      <td>1336036500000000000</td>\n",
              "      <td>0.0</td>\n",
              "      <td>1121.6945</td>\n",
              "      <td>4765.6821</td>\n",
              "      <td>4765.6821</td>\n",
              "      <td>6654.9971</td>\n",
              "      <td>22.4607</td>\n",
              "      <td>59.4070</td>\n",
              "      <td>30.78</td>\n",
              "      <td>4002.3162</td>\n",
              "      <td>81.56</td>\n",
              "      <td>22020.4766</td>\n",
              "      <td>-999.2500</td>\n",
              "      <td>0.0492</td>\n",
              "      <td>82.68</td>\n",
              "      <td>86.80</td>\n",
              "      <td>-999.25</td>\n",
              "      <td>-999.2500</td>\n",
              "      <td>-35.1472</td>\n",
              "      <td>7</td>\n",
              "      <td>-999.25</td>\n",
              "      <td>-999.25</td>\n",
              "      <td>-999.25</td>\n",
              "    </tr>\n",
              "    <tr>\n",
              "      <th>1</th>\n",
              "      <td>1336036510000000000</td>\n",
              "      <td>0.0</td>\n",
              "      <td>1121.6792</td>\n",
              "      <td>4765.5723</td>\n",
              "      <td>4765.5723</td>\n",
              "      <td>6654.9971</td>\n",
              "      <td>22.5674</td>\n",
              "      <td>59.9649</td>\n",
              "      <td>30.60</td>\n",
              "      <td>4006.0259</td>\n",
              "      <td>81.56</td>\n",
              "      <td>22030.4043</td>\n",
              "      <td>1.4271</td>\n",
              "      <td>0.0492</td>\n",
              "      <td>82.69</td>\n",
              "      <td>86.80</td>\n",
              "      <td>139.41</td>\n",
              "      <td>15644.2041</td>\n",
              "      <td>-39.5407</td>\n",
              "      <td>7</td>\n",
              "      <td>-999.25</td>\n",
              "      <td>-999.25</td>\n",
              "      <td>-999.25</td>\n",
              "    </tr>\n",
              "    <tr>\n",
              "      <th>2</th>\n",
              "      <td>1336036520000000000</td>\n",
              "      <td>0.0</td>\n",
              "      <td>1121.6670</td>\n",
              "      <td>4765.4717</td>\n",
              "      <td>4765.4717</td>\n",
              "      <td>6654.9971</td>\n",
              "      <td>22.6680</td>\n",
              "      <td>59.4932</td>\n",
              "      <td>31.44</td>\n",
              "      <td>4003.1868</td>\n",
              "      <td>81.56</td>\n",
              "      <td>22038.9531</td>\n",
              "      <td>-999.2500</td>\n",
              "      <td>0.0492</td>\n",
              "      <td>82.69</td>\n",
              "      <td>86.81</td>\n",
              "      <td>145.60</td>\n",
              "      <td>-999.2500</td>\n",
              "      <td>-36.2188</td>\n",
              "      <td>7</td>\n",
              "      <td>-999.25</td>\n",
              "      <td>-999.25</td>\n",
              "      <td>-999.25</td>\n",
              "    </tr>\n",
              "    <tr>\n",
              "      <th>3</th>\n",
              "      <td>1336036530000000000</td>\n",
              "      <td>0.0</td>\n",
              "      <td>1121.6549</td>\n",
              "      <td>4765.3711</td>\n",
              "      <td>4765.3711</td>\n",
              "      <td>6654.9971</td>\n",
              "      <td>22.7686</td>\n",
              "      <td>59.1394</td>\n",
              "      <td>30.77</td>\n",
              "      <td>4003.0732</td>\n",
              "      <td>81.56</td>\n",
              "      <td>22029.5762</td>\n",
              "      <td>-999.2500</td>\n",
              "      <td>0.0492</td>\n",
              "      <td>82.69</td>\n",
              "      <td>86.81</td>\n",
              "      <td>-999.25</td>\n",
              "      <td>-999.2500</td>\n",
              "      <td>-36.2188</td>\n",
              "      <td>7</td>\n",
              "      <td>-999.25</td>\n",
              "      <td>-999.25</td>\n",
              "      <td>-999.25</td>\n",
              "    </tr>\n",
              "    <tr>\n",
              "      <th>4</th>\n",
              "      <td>1336036540000000000</td>\n",
              "      <td>0.0</td>\n",
              "      <td>1121.6396</td>\n",
              "      <td>4765.2646</td>\n",
              "      <td>4765.2646</td>\n",
              "      <td>6654.9971</td>\n",
              "      <td>22.8783</td>\n",
              "      <td>58.5406</td>\n",
              "      <td>30.80</td>\n",
              "      <td>4006.4043</td>\n",
              "      <td>81.56</td>\n",
              "      <td>22024.0605</td>\n",
              "      <td>-999.2500</td>\n",
              "      <td>0.0492</td>\n",
              "      <td>82.69</td>\n",
              "      <td>86.81</td>\n",
              "      <td>145.60</td>\n",
              "      <td>-999.2500</td>\n",
              "      <td>-38.3619</td>\n",
              "      <td>7</td>\n",
              "      <td>-999.25</td>\n",
              "      <td>-999.25</td>\n",
              "      <td>-999.25</td>\n",
              "    </tr>\n",
              "  </tbody>\n",
              "</table>\n",
              "</div>"
            ],
            "text/plain": [
              "             Date/Time  StuckPipe        TVD       DEPT     CDEPTH       HDTH  \\\n",
              "0  1336036500000000000        0.0  1121.6945  4765.6821  4765.6821  6654.9971   \n",
              "1  1336036510000000000        0.0  1121.6792  4765.5723  4765.5723  6654.9971   \n",
              "2  1336036520000000000        0.0  1121.6670  4765.4717  4765.4717  6654.9971   \n",
              "3  1336036530000000000        0.0  1121.6549  4765.3711  4765.3711  6654.9971   \n",
              "4  1336036540000000000        0.0  1121.6396  4765.2646  4765.2646  6654.9971   \n",
              "\n",
              "      BPOS     HKLD   STOR       FLWI    RPM        SPPA       ECD     DLS  \\\n",
              "0  22.4607  59.4070  30.78  4002.3162  81.56  22020.4766 -999.2500  0.0492   \n",
              "1  22.5674  59.9649  30.60  4006.0259  81.56  22030.4043    1.4271  0.0492   \n",
              "2  22.6680  59.4932  31.44  4003.1868  81.56  22038.9531 -999.2500  0.0492   \n",
              "3  22.7686  59.1394  30.77  4003.0732  81.56  22029.5762 -999.2500  0.0492   \n",
              "4  22.8783  58.5406  30.80  4006.4043  81.56  22024.0605 -999.2500  0.0492   \n",
              "\n",
              "    INCL   AZIM      GR        APRS     BVEL  RIG_STATE  Stick_Slip_Ratio  \\\n",
              "0  82.68  86.80 -999.25   -999.2500 -35.1472          7           -999.25   \n",
              "1  82.69  86.80  139.41  15644.2041 -39.5407          7           -999.25   \n",
              "2  82.69  86.81  145.60   -999.2500 -36.2188          7           -999.25   \n",
              "3  82.69  86.81 -999.25   -999.2500 -36.2188          7           -999.25   \n",
              "4  82.69  86.81  145.60   -999.2500 -38.3619          7           -999.25   \n",
              "\n",
              "   StickPercentage     ESD  \n",
              "0          -999.25 -999.25  \n",
              "1          -999.25 -999.25  \n",
              "2          -999.25 -999.25  \n",
              "3          -999.25 -999.25  \n",
              "4          -999.25 -999.25  "
            ]
          },
          "metadata": {
            "tags": []
          },
          "execution_count": 210
        }
      ]
    },
    {
      "cell_type": "code",
      "metadata": {
        "id": "ojiYBn29xOtz"
      },
      "source": [
        "#заменяем все None нулями\n",
        "df_train.fillna(0, inplace = True)"
      ],
      "execution_count": 208,
      "outputs": []
    },
    {
      "cell_type": "code",
      "metadata": {
        "id": "RVPuiYvwD9Y9"
      },
      "source": [
        "#сконвертируем в integer дату, в EvalSurv не подходит datatime\n",
        "df_train['Date/Time'] = df_train['Date/Time'].apply(lambda x: x.value)"
      ],
      "execution_count": 209,
      "outputs": []
    },
    {
      "cell_type": "code",
      "metadata": {
        "id": "S_xZPFX3-ucL"
      },
      "source": [
        "#сохраним получившийся датасет в файл\n",
        "df_train.to_csv('df.csv', index=False)"
      ],
      "execution_count": 211,
      "outputs": []
    },
    {
      "cell_type": "markdown",
      "metadata": {
        "id": "60uAfGfcDBfT"
      },
      "source": [
        "разделим обновленный датасет на обучающую, тестовую и валидационную выборки"
      ]
    },
    {
      "cell_type": "code",
      "metadata": {
        "id": "6mehg-ErwNzz"
      },
      "source": [
        "df_test = df_train.sample(frac=0.2)\n",
        "df_train = df_train.drop(df_test.index)\n",
        "df_val = df_train.sample(frac=0.2)\n",
        "df_train = df_train.drop(df_val.index)"
      ],
      "execution_count": 212,
      "outputs": []
    },
    {
      "cell_type": "markdown",
      "metadata": {
        "id": "XM-PVq0tgzX0"
      },
      "source": [
        "Поскольку ни для одного из показателей распределение не совсем похоже на Гауссово (гистограмма не всегда похожа на колокол) - значит StandardScaler не совсем подойдет, но и выбросов нет, соответственно и не нужно использовать RobustScalar, поэтому будем использовать MinMaxScalar для нормализации признаков"
      ]
    },
    {
      "cell_type": "markdown",
      "metadata": {
        "id": "IiARiVWgg1Md"
      },
      "source": [
        "Порядок действий такой\n",
        "\n",
        "- Сначала выборка делится на тренировочную, валидационную и тестовую.\n",
        "- Для получения масштабированной тренировочной выборки к ней применяется метод fit_transform. Он последовательно выполняет fit (устанавливает параметры скейлера), и применяет скейлер уже с этими параметрами к предоставленным данным (transform). \n",
        "- А к тестовой и валидационной выборкам мы применяем метод transform. Иначе параметры скейлера будут выставлены для тестовой выборки."
      ]
    },
    {
      "cell_type": "markdown",
      "metadata": {
        "id": "bipaOnoUGoTg"
      },
      "source": [
        "Основываясь на полученной информации о данных, примем решение стандартизировать большинство из признаков"
      ]
    },
    {
      "cell_type": "code",
      "metadata": {
        "id": "Sh00iEpLbQg6"
      },
      "source": [
        "cols_standardize = ['TVD', 'DEPT', 'CDEPTH', 'HDTH', 'BPOS',\n",
        "       'HKLD', 'STOR', 'FLWI', 'RPM', 'SPPA', 'ECD', 'INCL', 'AZIM',\n",
        "       'GR', 'APRS', 'BVEL', 'RIG_STATE', 'Stick_Slip_Ratio',\n",
        "       'StickPercentage', 'ESD']\n",
        "cols_leave = ['DLS']\n",
        "\n",
        "standardize = [([col], MinMaxScaler()) for col in cols_standardize]\n",
        "leave = [(col, None) for col in cols_leave]\n",
        "\n",
        "x_mapper = DataFrameMapper(standardize + leave)"
      ],
      "execution_count": 213,
      "outputs": []
    },
    {
      "cell_type": "code",
      "metadata": {
        "id": "Tw7f_44mbQg6"
      },
      "source": [
        "x_train = x_mapper.fit_transform(df_train).astype('float32')\n",
        "x_val = x_mapper.transform(df_val).astype('float32')\n",
        "x_test = x_mapper.transform(df_test).astype('float32')"
      ],
      "execution_count": 214,
      "outputs": []
    },
    {
      "cell_type": "markdown",
      "metadata": {
        "id": "bNyIs4sVKW3P"
      },
      "source": [
        "# Кодирование меток\n",
        "Анализ выживания требует индивидуального преобразования меток.\n",
        "\n",
        "Использовала LogisticHazard - это метод с дискретным временем. Num_durations определяет размер этой сетки дискретизации."
      ]
    },
    {
      "cell_type": "code",
      "metadata": {
        "id": "RS3oyKVXbQg7"
      },
      "source": [
        "num_durations = 10\n",
        "\n",
        "labtrans = LogisticHazard.label_transform(num_durations)\n",
        "\n",
        "get_target = lambda df: (df['StuckPipe'].values, df['Date/Time'].values)\n",
        "y_train = labtrans.fit_transform(*get_target(df_train))\n",
        "y_val = labtrans.transform(*get_target(df_val))\n",
        "\n",
        "train = (x_train, y_train)\n",
        "val = (x_val, y_val)\n",
        "\n",
        "durations_test, events_test = get_target(df_test)"
      ],
      "execution_count": 215,
      "outputs": []
    },
    {
      "cell_type": "code",
      "metadata": {
        "colab": {
          "base_uri": "https://localhost:8080/"
        },
        "id": "odKpeXm9bQg7",
        "outputId": "7a7120da-1bf3-44c5-c6ab-af035bfc90bf"
      },
      "source": [
        "type(labtrans)"
      ],
      "execution_count": 216,
      "outputs": [
        {
          "output_type": "execute_result",
          "data": {
            "text/plain": [
              "pycox.preprocessing.label_transforms.LabTransDiscreteTime"
            ]
          },
          "metadata": {
            "tags": []
          },
          "execution_count": 216
        }
      ]
    },
    {
      "cell_type": "markdown",
      "metadata": {
        "id": "gzLJKhaCKgm6"
      },
      "source": [
        "Labtrans.cuts содержит сетку дискретизации. Будет использоваться для получения правильной шкалы времени для прогнозов выживаемости."
      ]
    },
    {
      "cell_type": "code",
      "metadata": {
        "colab": {
          "base_uri": "https://localhost:8080/"
        },
        "id": "Hmr3sMRGbQg7",
        "outputId": "9a6b6ce0-9f9f-4573-cb5c-60467959b761"
      },
      "source": [
        "labtrans.cuts"
      ],
      "execution_count": 217,
      "outputs": [
        {
          "output_type": "execute_result",
          "data": {
            "text/plain": [
              "array([0.        , 0.11111111, 0.22222222, 0.33333333, 0.44444444,\n",
              "       0.55555556, 0.66666667, 0.77777778, 0.88888889, 1.        ])"
            ]
          },
          "metadata": {
            "tags": []
          },
          "execution_count": 217
        }
      ]
    },
    {
      "cell_type": "markdown",
      "metadata": {
        "id": "cy48tz7XKxRg"
      },
      "source": [
        "Теперь y_train - это кортеж с индексами дискретизированного времени в дополнение к индикаторам событий.\n"
      ]
    },
    {
      "cell_type": "code",
      "metadata": {
        "colab": {
          "base_uri": "https://localhost:8080/"
        },
        "id": "pUKACn18bQg8",
        "outputId": "3cb63990-db58-48ae-cec5-251fcac0ca9a"
      },
      "source": [
        "y_train"
      ],
      "execution_count": 218,
      "outputs": [
        {
          "output_type": "execute_result",
          "data": {
            "text/plain": [
              "(array([0, 0, 0, 0, 0, 0, 0, 0, 0, 0, 0, 0, 0, 0, 0, 0, 0, 0, 0, 0, 0, 0,\n",
              "        0, 0, 0, 0, 0, 0, 0, 0, 0, 0, 0, 0, 0, 0, 0, 0, 0, 0, 0, 0, 0, 0,\n",
              "        0, 0, 0, 0, 0, 0, 0, 0, 0, 0, 0, 0, 0, 0, 0, 0, 0, 0, 0, 0, 0, 0,\n",
              "        0, 0, 0, 0, 0, 0, 0, 0, 0, 0, 0, 0, 0, 0, 0, 0, 0, 0, 0, 0, 0, 0,\n",
              "        0, 0, 0, 0, 0, 0, 0, 0, 0, 0, 0, 0, 0, 0, 0, 0, 0, 0, 0, 0, 0, 0,\n",
              "        0, 0, 0, 0, 0, 0, 0, 0, 0, 0, 0, 0, 0, 0, 0, 0, 0, 0, 0, 0, 0, 0,\n",
              "        0, 0, 0, 0, 0, 0, 0, 0, 0, 0, 0, 0, 0, 0, 0, 0, 0, 0, 0, 0, 0, 9,\n",
              "        9, 9, 9, 9]),\n",
              " array([1., 1., 1., 1., 1., 1., 1., 1., 1., 1., 1., 1., 1., 1., 1., 1., 1.,\n",
              "        1., 1., 1., 1., 1., 1., 1., 1., 1., 1., 1., 1., 1., 1., 1., 1., 1.,\n",
              "        1., 1., 1., 1., 1., 1., 1., 1., 1., 1., 1., 1., 1., 1., 1., 1., 1.,\n",
              "        1., 1., 1., 1., 1., 1., 1., 1., 1., 1., 1., 1., 1., 1., 1., 1., 1.,\n",
              "        1., 1., 1., 1., 1., 1., 1., 1., 1., 1., 1., 1., 1., 1., 1., 1., 1.,\n",
              "        1., 1., 1., 1., 1., 1., 1., 1., 1., 1., 1., 1., 1., 1., 1., 1., 1.,\n",
              "        1., 1., 1., 1., 1., 1., 1., 1., 1., 1., 1., 1., 1., 1., 1., 1., 1.,\n",
              "        1., 1., 1., 1., 1., 1., 1., 1., 1., 1., 1., 1., 1., 1., 1., 1., 1.,\n",
              "        1., 1., 1., 1., 1., 1., 1., 1., 1., 1., 1., 1., 1., 1., 1., 1., 1.,\n",
              "        1., 1., 1., 1., 1.], dtype=float32))"
            ]
          },
          "metadata": {
            "tags": []
          },
          "execution_count": 218
        }
      ]
    },
    {
      "cell_type": "code",
      "metadata": {
        "colab": {
          "base_uri": "https://localhost:8080/"
        },
        "id": "vadeuxj4bQg8",
        "outputId": "8d0a1df0-14ae-4755-d1ac-c9aa229b95b8"
      },
      "source": [
        "labtrans.cuts[y_train[0]]"
      ],
      "execution_count": 219,
      "outputs": [
        {
          "output_type": "execute_result",
          "data": {
            "text/plain": [
              "array([0., 0., 0., 0., 0., 0., 0., 0., 0., 0., 0., 0., 0., 0., 0., 0., 0.,\n",
              "       0., 0., 0., 0., 0., 0., 0., 0., 0., 0., 0., 0., 0., 0., 0., 0., 0.,\n",
              "       0., 0., 0., 0., 0., 0., 0., 0., 0., 0., 0., 0., 0., 0., 0., 0., 0.,\n",
              "       0., 0., 0., 0., 0., 0., 0., 0., 0., 0., 0., 0., 0., 0., 0., 0., 0.,\n",
              "       0., 0., 0., 0., 0., 0., 0., 0., 0., 0., 0., 0., 0., 0., 0., 0., 0.,\n",
              "       0., 0., 0., 0., 0., 0., 0., 0., 0., 0., 0., 0., 0., 0., 0., 0., 0.,\n",
              "       0., 0., 0., 0., 0., 0., 0., 0., 0., 0., 0., 0., 0., 0., 0., 0., 0.,\n",
              "       0., 0., 0., 0., 0., 0., 0., 0., 0., 0., 0., 0., 0., 0., 0., 0., 0.,\n",
              "       0., 0., 0., 0., 0., 0., 0., 0., 0., 0., 0., 0., 0., 0., 0., 0., 0.,\n",
              "       1., 1., 1., 1., 1.])"
            ]
          },
          "metadata": {
            "tags": []
          },
          "execution_count": 219
        }
      ]
    },
    {
      "cell_type": "markdown",
      "metadata": {
        "id": "oMmEzggyK8hA"
      },
      "source": [
        "# Нейронная сеть\n",
        "Для тестового задания будем использовать MLPVanilla из torchtuples. В качестве точки роста можно будет создать более продвинутые нейросети "
      ]
    },
    {
      "cell_type": "code",
      "metadata": {
        "id": "wSvNyU2XbQg8"
      },
      "source": [
        "in_features = x_train.shape[1]\n",
        "num_nodes = [32, 32]\n",
        "out_features = labtrans.out_features\n",
        "batch_norm = True\n",
        "dropout = 0.1\n",
        "\n",
        "net = tt.practical.MLPVanilla(in_features, num_nodes, out_features, batch_norm, dropout)"
      ],
      "execution_count": 220,
      "outputs": []
    },
    {
      "cell_type": "markdown",
      "metadata": {
        "id": "lgLbNq8AL1uN"
      },
      "source": [
        "## Обучаем модель"
      ]
    },
    {
      "cell_type": "code",
      "metadata": {
        "id": "0wmLamDTbQg9"
      },
      "source": [
        "model = LogisticHazard(net, tt.optim.Adam(0.01), duration_index=labtrans.cuts)"
      ],
      "execution_count": 221,
      "outputs": []
    },
    {
      "cell_type": "code",
      "metadata": {
        "id": "GCgFRhCxbQg9"
      },
      "source": [
        "batch_size = 256\n",
        "epochs = 100\n",
        "callbacks = [tt.cb.EarlyStopping()]"
      ],
      "execution_count": 222,
      "outputs": []
    },
    {
      "cell_type": "code",
      "metadata": {
        "colab": {
          "base_uri": "https://localhost:8080/"
        },
        "id": "r8wAEmRNbQg9",
        "outputId": "c105f9fa-35c2-42fb-eb3e-7ac51a97bbdf"
      },
      "source": [
        "log = model.fit(x_train, y_train, batch_size, epochs, callbacks, val_data=val)"
      ],
      "execution_count": 223,
      "outputs": [
        {
          "output_type": "stream",
          "text": [
            "0:\t[0s / 0s],\t\ttrain_loss: 0.8717,\tval_loss: 0.8926\n",
            "1:\t[0s / 0s],\t\ttrain_loss: 0.7801,\tval_loss: 0.8261\n",
            "2:\t[0s / 0s],\t\ttrain_loss: 0.6918,\tval_loss: 0.7764\n",
            "3:\t[0s / 0s],\t\ttrain_loss: 0.6363,\tval_loss: 0.7276\n",
            "4:\t[0s / 0s],\t\ttrain_loss: 0.5926,\tval_loss: 0.6744\n",
            "5:\t[0s / 0s],\t\ttrain_loss: 0.5642,\tval_loss: 0.6214\n",
            "6:\t[0s / 0s],\t\ttrain_loss: 0.5257,\tval_loss: 0.5672\n",
            "7:\t[0s / 0s],\t\ttrain_loss: 0.4978,\tval_loss: 0.5161\n",
            "8:\t[0s / 0s],\t\ttrain_loss: 0.4776,\tval_loss: 0.4701\n",
            "9:\t[0s / 0s],\t\ttrain_loss: 0.4585,\tval_loss: 0.4297\n",
            "10:\t[0s / 0s],\t\ttrain_loss: 0.4162,\tval_loss: 0.3924\n",
            "11:\t[0s / 0s],\t\ttrain_loss: 0.3974,\tval_loss: 0.3561\n",
            "12:\t[0s / 0s],\t\ttrain_loss: 0.3698,\tval_loss: 0.3196\n",
            "13:\t[0s / 0s],\t\ttrain_loss: 0.3492,\tval_loss: 0.2861\n",
            "14:\t[0s / 0s],\t\ttrain_loss: 0.3272,\tval_loss: 0.2572\n",
            "15:\t[0s / 0s],\t\ttrain_loss: 0.2903,\tval_loss: 0.2275\n",
            "16:\t[0s / 0s],\t\ttrain_loss: 0.2635,\tval_loss: 0.1978\n",
            "17:\t[0s / 0s],\t\ttrain_loss: 0.2580,\tval_loss: 0.1724\n",
            "18:\t[0s / 0s],\t\ttrain_loss: 0.2321,\tval_loss: 0.1497\n",
            "19:\t[0s / 0s],\t\ttrain_loss: 0.2017,\tval_loss: 0.1306\n",
            "20:\t[0s / 0s],\t\ttrain_loss: 0.1814,\tval_loss: 0.1174\n",
            "21:\t[0s / 0s],\t\ttrain_loss: 0.1652,\tval_loss: 0.1064\n",
            "22:\t[0s / 0s],\t\ttrain_loss: 0.1577,\tval_loss: 0.0951\n",
            "23:\t[0s / 0s],\t\ttrain_loss: 0.1343,\tval_loss: 0.0839\n",
            "24:\t[0s / 0s],\t\ttrain_loss: 0.1191,\tval_loss: 0.0735\n",
            "25:\t[0s / 0s],\t\ttrain_loss: 0.1208,\tval_loss: 0.0641\n",
            "26:\t[0s / 0s],\t\ttrain_loss: 0.1028,\tval_loss: 0.0557\n",
            "27:\t[0s / 0s],\t\ttrain_loss: 0.0846,\tval_loss: 0.0481\n",
            "28:\t[0s / 0s],\t\ttrain_loss: 0.0845,\tval_loss: 0.0415\n",
            "29:\t[0s / 0s],\t\ttrain_loss: 0.0721,\tval_loss: 0.0357\n",
            "30:\t[0s / 0s],\t\ttrain_loss: 0.0704,\tval_loss: 0.0306\n",
            "31:\t[0s / 0s],\t\ttrain_loss: 0.0667,\tval_loss: 0.0267\n",
            "32:\t[0s / 0s],\t\ttrain_loss: 0.0482,\tval_loss: 0.0234\n",
            "33:\t[0s / 0s],\t\ttrain_loss: 0.0463,\tval_loss: 0.0209\n",
            "34:\t[0s / 0s],\t\ttrain_loss: 0.0521,\tval_loss: 0.0189\n",
            "35:\t[0s / 0s],\t\ttrain_loss: 0.0432,\tval_loss: 0.0174\n",
            "36:\t[0s / 0s],\t\ttrain_loss: 0.0424,\tval_loss: 0.0163\n",
            "37:\t[0s / 0s],\t\ttrain_loss: 0.0329,\tval_loss: 0.0148\n",
            "38:\t[0s / 0s],\t\ttrain_loss: 0.0397,\tval_loss: 0.0129\n",
            "39:\t[0s / 0s],\t\ttrain_loss: 0.0379,\tval_loss: 0.0111\n",
            "40:\t[0s / 0s],\t\ttrain_loss: 0.0648,\tval_loss: 0.0102\n",
            "41:\t[0s / 0s],\t\ttrain_loss: 0.0503,\tval_loss: 0.0106\n",
            "42:\t[0s / 0s],\t\ttrain_loss: 0.0272,\tval_loss: 0.0116\n",
            "43:\t[0s / 0s],\t\ttrain_loss: 0.0360,\tval_loss: 0.0123\n",
            "44:\t[0s / 0s],\t\ttrain_loss: 0.0202,\tval_loss: 0.0128\n",
            "45:\t[0s / 0s],\t\ttrain_loss: 0.0376,\tval_loss: 0.0114\n",
            "46:\t[0s / 0s],\t\ttrain_loss: 0.0297,\tval_loss: 0.0093\n",
            "47:\t[0s / 0s],\t\ttrain_loss: 0.0246,\tval_loss: 0.0072\n",
            "48:\t[0s / 0s],\t\ttrain_loss: 0.0290,\tval_loss: 0.0055\n",
            "49:\t[0s / 0s],\t\ttrain_loss: 0.0213,\tval_loss: 0.0047\n",
            "50:\t[0s / 0s],\t\ttrain_loss: 0.0464,\tval_loss: 0.0044\n",
            "51:\t[0s / 0s],\t\ttrain_loss: 0.0295,\tval_loss: 0.0043\n",
            "52:\t[0s / 0s],\t\ttrain_loss: 0.0539,\tval_loss: 0.0050\n",
            "53:\t[0s / 0s],\t\ttrain_loss: 0.0313,\tval_loss: 0.0071\n",
            "54:\t[0s / 0s],\t\ttrain_loss: 0.0337,\tval_loss: 0.0118\n",
            "55:\t[0s / 0s],\t\ttrain_loss: 0.0598,\tval_loss: 0.0163\n",
            "56:\t[0s / 0s],\t\ttrain_loss: 0.0227,\tval_loss: 0.0190\n",
            "57:\t[0s / 0s],\t\ttrain_loss: 0.0196,\tval_loss: 0.0218\n",
            "58:\t[0s / 0s],\t\ttrain_loss: 0.0183,\tval_loss: 0.0275\n",
            "59:\t[0s / 0s],\t\ttrain_loss: 0.0197,\tval_loss: 0.0253\n",
            "60:\t[0s / 0s],\t\ttrain_loss: 0.0217,\tval_loss: 0.0281\n",
            "61:\t[0s / 0s],\t\ttrain_loss: 0.0279,\tval_loss: 0.0307\n"
          ],
          "name": "stdout"
        }
      ]
    },
    {
      "cell_type": "code",
      "metadata": {
        "colab": {
          "base_uri": "https://localhost:8080/",
          "height": 265
        },
        "id": "4k189kf8bQg9",
        "outputId": "a4483a7b-593b-43e0-9427-d25adb660ff4"
      },
      "source": [
        "_ = log.plot()"
      ],
      "execution_count": 224,
      "outputs": [
        {
          "output_type": "display_data",
          "data": {
            "image/png": "[encoded data removed]",
            "text/plain": [
              "<Figure size 432x288 with 1 Axes>"
            ]
          },
          "metadata": {
            "tags": [],
            "needs_background": "light"
          }
        }
      ]
    },
    {
      "cell_type": "markdown",
      "metadata": {
        "id": "yvmJjpqsMUbK"
      },
      "source": [
        "После завершения колбек EarlyStopping загружает наиболее эффективную модель (с точки зрения ошибки). "
      ]
    },
    {
      "cell_type": "code",
      "metadata": {
        "colab": {
          "base_uri": "https://localhost:8080/"
        },
        "id": "3n7iud9mbQg-",
        "outputId": "e50f7bf5-371b-4a42-8ae5-d527ec1796c7"
      },
      "source": [
        "log.to_pandas().val_loss.min()"
      ],
      "execution_count": 225,
      "outputs": [
        {
          "output_type": "execute_result",
          "data": {
            "text/plain": [
              "0.004347871523350477"
            ]
          },
          "metadata": {
            "tags": []
          },
          "execution_count": 225
        }
      ]
    },
    {
      "cell_type": "code",
      "metadata": {
        "colab": {
          "base_uri": "https://localhost:8080/"
        },
        "id": "Ukpe2lpQbQg-",
        "outputId": "0f346430-b7b7-4fd8-e02a-3cc1a2b9a81c"
      },
      "source": [
        "model.score_in_batches(val)"
      ],
      "execution_count": 226,
      "outputs": [
        {
          "output_type": "execute_result",
          "data": {
            "text/plain": [
              "{'loss': 0.004347871523350477}"
            ]
          },
          "metadata": {
            "tags": []
          },
          "execution_count": 226
        }
      ]
    },
    {
      "cell_type": "markdown",
      "metadata": {
        "id": "9A36-Gx8NIf6"
      },
      "source": [
        "\n",
        "## Предсказываем\n",
        "Сначала предскажем выживаемость для тестовой выборки"
      ]
    },
    {
      "cell_type": "code",
      "metadata": {
        "id": "Rgj13bsBbQg-"
      },
      "source": [
        "surv = model.predict_surv_df(x_test)"
      ],
      "execution_count": 227,
      "outputs": []
    },
    {
      "cell_type": "markdown",
      "metadata": {
        "id": "YtSw-_3vNWDw"
      },
      "source": [
        "Выведем на график оценки выживаемости для первых 5 наблюдений"
      ]
    },
    {
      "cell_type": "code",
      "metadata": {
        "colab": {
          "base_uri": "https://localhost:8080/",
          "height": 279
        },
        "id": "72Op8aVZbQg_",
        "outputId": "58f3ced5-e5e7-446f-fdc5-e799ea5929e5"
      },
      "source": [
        "surv.iloc[:, :5].plot(drawstyle='steps-post')\n",
        "plt.ylabel('S(t | x)')\n",
        "_ = plt.xlabel('Time')"
      ],
      "execution_count": 228,
      "outputs": [
        {
          "output_type": "display_data",
          "data": {
            "image/png": "[encoded data removed]",
            "text/plain": [
              "<Figure size 432x288 with 1 Axes>"
            ]
          },
          "metadata": {
            "tags": [],
            "needs_background": "light"
          }
        }
      ]
    },
    {
      "cell_type": "markdown",
      "metadata": {
        "id": "9SDAQSM5Nf7l"
      },
      "source": [
        "Проинтерполируем оценки выживаемости. Заменим по 10 точек каждой точкой сетки."
      ]
    },
    {
      "cell_type": "code",
      "metadata": {
        "id": "0dHfGCScbQg_"
      },
      "source": [
        "surv = model.interpolate(10).predict_surv_df(x_test)"
      ],
      "execution_count": 229,
      "outputs": []
    },
    {
      "cell_type": "code",
      "metadata": {
        "colab": {
          "base_uri": "https://localhost:8080/",
          "height": 279
        },
        "id": "rcrqlfEjbQg_",
        "outputId": "392a8d60-56bd-49db-89e5-890523006fd9"
      },
      "source": [
        "surv.iloc[:, :5].plot(drawstyle='steps-post')\n",
        "plt.ylabel('S(t | x)')\n",
        "_ = plt.xlabel('Time')"
      ],
      "execution_count": 230,
      "outputs": [
        {
          "output_type": "display_data",
          "data": {
            "image/png": "[encoded data removed]",
            "text/plain": [
              "<Figure size 432x288 with 1 Axes>"
            ]
          },
          "metadata": {
            "tags": [],
            "needs_background": "light"
          }
        }
      ]
    },
    {
      "cell_type": "markdown",
      "metadata": {
        "id": "0cBjzLBqNuQD"
      },
      "source": [
        "## Оценка\n",
        "Класс EvalSurv содержит некоторые полезные критерии оценки для прогнозирования времени до события. Мы устанавливаем censor_surv = 'km', то есть будем использовать методология Каплана-Мейера для описания функции выживания. Этот метод позволяет сравнивать функции выживания между собой, чтобы определить есть ли между ними статистически-значимая разница"
      ]
    },
    {
      "cell_type": "code",
      "metadata": {
        "id": "b4BUb9BBbQg_"
      },
      "source": [
        "ev = EvalSurv(surv, durations_test, events_test, censor_surv='km')"
      ],
      "execution_count": 233,
      "outputs": []
    },
    {
      "cell_type": "markdown",
      "metadata": {
        "id": "Is-mW886mw0D"
      },
      "source": [
        "#Сoncordance index\n",
        "Полученная модель демонстрирует следующие значения concordance index (индекс соответствия), который используется для измерения того, насколько хорошо модель предсказывает время до события."
      ]
    },
    {
      "cell_type": "code",
      "metadata": {
        "id": "vPC8c2UkI6_v"
      },
      "source": [
        "ev.concordance_td('antolini')"
      ],
      "execution_count": null,
      "outputs": []
    },
    {
      "cell_type": "markdown",
      "metadata": {
        "id": "Qd_mXCRqQfHg"
      },
      "source": [
        "Результат слишком хороший, это подтверждает выводы, сделанные в задании 2 о том, что несбалансированность классов приводит к неэффективности модели"
      ]
    },
    {
      "cell_type": "code",
      "metadata": {
        "id": "DUAqqn7zKLj9"
      },
      "source": [
        ""
      ],
      "execution_count": null,
      "outputs": []
    }
  ]
}